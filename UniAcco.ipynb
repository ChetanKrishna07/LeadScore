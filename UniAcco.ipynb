{
  "nbformat": 4,
  "nbformat_minor": 0,
  "metadata": {
    "colab": {
      "provenance": []
    },
    "kernelspec": {
      "name": "python3",
      "display_name": "Python 3"
    },
    "language_info": {
      "name": "python"
    }
  },
  "cells": [
    {
      "cell_type": "code",
      "execution_count": 1,
      "metadata": {
        "id": "EA5SpHcKi-MB"
      },
      "outputs": [],
      "source": [
        "import numpy as np\n",
        "import pandas as pd\n",
        "import matplotlib.pyplot as plt\n",
        "import seaborn as sns"
      ]
    },
    {
      "cell_type": "code",
      "source": [
        "data = pd.read_csv('/content/drive/MyDrive/datasets/Data_Science_Internship.csv')\n",
        "data.head()"
      ],
      "metadata": {
        "colab": {
          "base_uri": "https://localhost:8080/",
          "height": 391
        },
        "id": "UDQAUdrWj6cf",
        "outputId": "a39c2aa7-0b03-4d52-f40c-bf8b3e292562"
      },
      "execution_count": 2,
      "outputs": [
        {
          "output_type": "execute_result",
          "data": {
            "text/plain": [
              "   Unnamed: 0                                           Agent_id status  \\\n",
              "0           0  1deba9e96f404694373de9749ddd1ca8aa7bb823145a6f...   LOST   \n",
              "1           1  299ae77a4ef350ae0dd37d6bba1c002d03444fb1edb236...   LOST   \n",
              "2           2  c213697430c006013012dd2aca82dd9732aa0a1a6bca13...   LOST   \n",
              "3           3  eac9815a500f908736d303e23aa227f0957177b0e6756b...   LOST   \n",
              "4           4  1deba9e96f404694373de9749ddd1ca8aa7bb823145a6f...   LOST   \n",
              "\n",
              "      lost_reason                budget                                lease  \\\n",
              "0  Not responding                   NaN                                  NaN   \n",
              "1      Low budget                   NaN                                  NaN   \n",
              "2  Not responding  £121 - £180 Per Week  Full Year Course Stay 40 - 44 weeks   \n",
              "3      Low budget                   0-0                                    0   \n",
              "4       Junk lead                   NaN                                  NaN   \n",
              "\n",
              "     movein                                             source  \\\n",
              "0       NaN  9b2d5b4678781e53038e91ea5324530a03f27dc1d0e5f6...   \n",
              "1       NaN  9b2d5b4678781e53038e91ea5324530a03f27dc1d0e5f6...   \n",
              "2  31/08/22  7aae3e886e89fc1187a5c47d6cea1c22998ee610ade1f2...   \n",
              "3       NaN  ba2d0a29556ac20f86f45e4543c0825428cba33fd7a9ea...   \n",
              "4       NaN  9b2d5b4678781e53038e91ea5324530a03f27dc1d0e5f6...   \n",
              "\n",
              "                                         source_city  \\\n",
              "0  9b2d5b4678781e53038e91ea5324530a03f27dc1d0e5f6...   \n",
              "1  9b2d5b4678781e53038e91ea5324530a03f27dc1d0e5f6...   \n",
              "2  9b8cc3c63cdf447e463c11544924bf027945cbd29675f7...   \n",
              "3  a5f0d2d08eb0592087e3a3a2f9c1ba2c67cc30f2efd2bd...   \n",
              "4  9b2d5b4678781e53038e91ea5324530a03f27dc1d0e5f6...   \n",
              "\n",
              "                                      source_country  \\\n",
              "0  9b2d5b4678781e53038e91ea5324530a03f27dc1d0e5f6...   \n",
              "1  9b2d5b4678781e53038e91ea5324530a03f27dc1d0e5f6...   \n",
              "2  e09e10e67812e9d236ad900e5d46b4308fc62f5d69446a...   \n",
              "3  e09e10e67812e9d236ad900e5d46b4308fc62f5d69446a...   \n",
              "4  9b2d5b4678781e53038e91ea5324530a03f27dc1d0e5f6...   \n",
              "\n",
              "                                          utm_source  \\\n",
              "0  3d59f7548e1af2151b64135003ce63c0a484c26b9b8b16...   \n",
              "1  3d59f7548e1af2151b64135003ce63c0a484c26b9b8b16...   \n",
              "2  bbdefa2950f49882f295b1285d4fa9dec45fc4144bfb07...   \n",
              "3  bbdefa2950f49882f295b1285d4fa9dec45fc4144bfb07...   \n",
              "4  3d59f7548e1af2151b64135003ce63c0a484c26b9b8b16...   \n",
              "\n",
              "                                          utm_medium  \\\n",
              "0  268ad70eb5bc4737a2ae28162cbca30118cc94520e49ef...   \n",
              "1  268ad70eb5bc4737a2ae28162cbca30118cc94520e49ef...   \n",
              "2  09076eb7665d1fb9389c7c4517fee0b00e43092eb34821...   \n",
              "3  09076eb7665d1fb9389c7c4517fee0b00e43092eb34821...   \n",
              "4  268ad70eb5bc4737a2ae28162cbca30118cc94520e49ef...   \n",
              "\n",
              "                                            des_city  \\\n",
              "0  ecc0e7dc084f141b29479058967d0bc07dee25d9690a98...   \n",
              "1  5372372f3bf5896820cb2819300c3e681820d82c6efc54...   \n",
              "2  11ab03a1a8c367191355c152f39fe28cae5e426fce49ef...   \n",
              "3  19372fa44c57a01c37a5a8418779ca3d99b0b59731fb35...   \n",
              "4  9b2d5b4678781e53038e91ea5324530a03f27dc1d0e5f6...   \n",
              "\n",
              "                                         des_country room_type  \\\n",
              "0  8d23a6e37e0a6431a8f1b43a91026dcff51170a89a6512...       NaN   \n",
              "1  8d23a6e37e0a6431a8f1b43a91026dcff51170a89a6512...       NaN   \n",
              "2  8d23a6e37e0a6431a8f1b43a91026dcff51170a89a6512...   Ensuite   \n",
              "3  8d23a6e37e0a6431a8f1b43a91026dcff51170a89a6512...       NaN   \n",
              "4  9b2d5b4678781e53038e91ea5324530a03f27dc1d0e5f6...       NaN   \n",
              "\n",
              "                                             lead_id  \n",
              "0  cd5dc0d9393f3980d11d4ba6f88f8110c2b7a7f7796307...  \n",
              "1  b94693673a5f7178d1b114e4004ad52377d3244dd24a3d...  \n",
              "2  96ea4e2bf04496c044745938c0299c264c3f4ba079e572...  \n",
              "3  1d2b34d8add02a182a4129023766ca4585a8ddced0e5b3...  \n",
              "4  fc10fffd29cfbe93c55158fb47752a7501c211d253468c...  "
            ],
            "text/html": [
              "\n",
              "  <div id=\"df-7711eb37-ff44-44b6-903d-1492796fe916\">\n",
              "    <div class=\"colab-df-container\">\n",
              "      <div>\n",
              "<style scoped>\n",
              "    .dataframe tbody tr th:only-of-type {\n",
              "        vertical-align: middle;\n",
              "    }\n",
              "\n",
              "    .dataframe tbody tr th {\n",
              "        vertical-align: top;\n",
              "    }\n",
              "\n",
              "    .dataframe thead th {\n",
              "        text-align: right;\n",
              "    }\n",
              "</style>\n",
              "<table border=\"1\" class=\"dataframe\">\n",
              "  <thead>\n",
              "    <tr style=\"text-align: right;\">\n",
              "      <th></th>\n",
              "      <th>Unnamed: 0</th>\n",
              "      <th>Agent_id</th>\n",
              "      <th>status</th>\n",
              "      <th>lost_reason</th>\n",
              "      <th>budget</th>\n",
              "      <th>lease</th>\n",
              "      <th>movein</th>\n",
              "      <th>source</th>\n",
              "      <th>source_city</th>\n",
              "      <th>source_country</th>\n",
              "      <th>utm_source</th>\n",
              "      <th>utm_medium</th>\n",
              "      <th>des_city</th>\n",
              "      <th>des_country</th>\n",
              "      <th>room_type</th>\n",
              "      <th>lead_id</th>\n",
              "    </tr>\n",
              "  </thead>\n",
              "  <tbody>\n",
              "    <tr>\n",
              "      <th>0</th>\n",
              "      <td>0</td>\n",
              "      <td>1deba9e96f404694373de9749ddd1ca8aa7bb823145a6f...</td>\n",
              "      <td>LOST</td>\n",
              "      <td>Not responding</td>\n",
              "      <td>NaN</td>\n",
              "      <td>NaN</td>\n",
              "      <td>NaN</td>\n",
              "      <td>9b2d5b4678781e53038e91ea5324530a03f27dc1d0e5f6...</td>\n",
              "      <td>9b2d5b4678781e53038e91ea5324530a03f27dc1d0e5f6...</td>\n",
              "      <td>9b2d5b4678781e53038e91ea5324530a03f27dc1d0e5f6...</td>\n",
              "      <td>3d59f7548e1af2151b64135003ce63c0a484c26b9b8b16...</td>\n",
              "      <td>268ad70eb5bc4737a2ae28162cbca30118cc94520e49ef...</td>\n",
              "      <td>ecc0e7dc084f141b29479058967d0bc07dee25d9690a98...</td>\n",
              "      <td>8d23a6e37e0a6431a8f1b43a91026dcff51170a89a6512...</td>\n",
              "      <td>NaN</td>\n",
              "      <td>cd5dc0d9393f3980d11d4ba6f88f8110c2b7a7f7796307...</td>\n",
              "    </tr>\n",
              "    <tr>\n",
              "      <th>1</th>\n",
              "      <td>1</td>\n",
              "      <td>299ae77a4ef350ae0dd37d6bba1c002d03444fb1edb236...</td>\n",
              "      <td>LOST</td>\n",
              "      <td>Low budget</td>\n",
              "      <td>NaN</td>\n",
              "      <td>NaN</td>\n",
              "      <td>NaN</td>\n",
              "      <td>9b2d5b4678781e53038e91ea5324530a03f27dc1d0e5f6...</td>\n",
              "      <td>9b2d5b4678781e53038e91ea5324530a03f27dc1d0e5f6...</td>\n",
              "      <td>9b2d5b4678781e53038e91ea5324530a03f27dc1d0e5f6...</td>\n",
              "      <td>3d59f7548e1af2151b64135003ce63c0a484c26b9b8b16...</td>\n",
              "      <td>268ad70eb5bc4737a2ae28162cbca30118cc94520e49ef...</td>\n",
              "      <td>5372372f3bf5896820cb2819300c3e681820d82c6efc54...</td>\n",
              "      <td>8d23a6e37e0a6431a8f1b43a91026dcff51170a89a6512...</td>\n",
              "      <td>NaN</td>\n",
              "      <td>b94693673a5f7178d1b114e4004ad52377d3244dd24a3d...</td>\n",
              "    </tr>\n",
              "    <tr>\n",
              "      <th>2</th>\n",
              "      <td>2</td>\n",
              "      <td>c213697430c006013012dd2aca82dd9732aa0a1a6bca13...</td>\n",
              "      <td>LOST</td>\n",
              "      <td>Not responding</td>\n",
              "      <td>£121 - £180 Per Week</td>\n",
              "      <td>Full Year Course Stay 40 - 44 weeks</td>\n",
              "      <td>31/08/22</td>\n",
              "      <td>7aae3e886e89fc1187a5c47d6cea1c22998ee610ade1f2...</td>\n",
              "      <td>9b8cc3c63cdf447e463c11544924bf027945cbd29675f7...</td>\n",
              "      <td>e09e10e67812e9d236ad900e5d46b4308fc62f5d69446a...</td>\n",
              "      <td>bbdefa2950f49882f295b1285d4fa9dec45fc4144bfb07...</td>\n",
              "      <td>09076eb7665d1fb9389c7c4517fee0b00e43092eb34821...</td>\n",
              "      <td>11ab03a1a8c367191355c152f39fe28cae5e426fce49ef...</td>\n",
              "      <td>8d23a6e37e0a6431a8f1b43a91026dcff51170a89a6512...</td>\n",
              "      <td>Ensuite</td>\n",
              "      <td>96ea4e2bf04496c044745938c0299c264c3f4ba079e572...</td>\n",
              "    </tr>\n",
              "    <tr>\n",
              "      <th>3</th>\n",
              "      <td>3</td>\n",
              "      <td>eac9815a500f908736d303e23aa227f0957177b0e6756b...</td>\n",
              "      <td>LOST</td>\n",
              "      <td>Low budget</td>\n",
              "      <td>0-0</td>\n",
              "      <td>0</td>\n",
              "      <td>NaN</td>\n",
              "      <td>ba2d0a29556ac20f86f45e4543c0825428cba33fd7a9ea...</td>\n",
              "      <td>a5f0d2d08eb0592087e3a3a2f9c1ba2c67cc30f2efd2bd...</td>\n",
              "      <td>e09e10e67812e9d236ad900e5d46b4308fc62f5d69446a...</td>\n",
              "      <td>bbdefa2950f49882f295b1285d4fa9dec45fc4144bfb07...</td>\n",
              "      <td>09076eb7665d1fb9389c7c4517fee0b00e43092eb34821...</td>\n",
              "      <td>19372fa44c57a01c37a5a8418779ca3d99b0b59731fb35...</td>\n",
              "      <td>8d23a6e37e0a6431a8f1b43a91026dcff51170a89a6512...</td>\n",
              "      <td>NaN</td>\n",
              "      <td>1d2b34d8add02a182a4129023766ca4585a8ddced0e5b3...</td>\n",
              "    </tr>\n",
              "    <tr>\n",
              "      <th>4</th>\n",
              "      <td>4</td>\n",
              "      <td>1deba9e96f404694373de9749ddd1ca8aa7bb823145a6f...</td>\n",
              "      <td>LOST</td>\n",
              "      <td>Junk lead</td>\n",
              "      <td>NaN</td>\n",
              "      <td>NaN</td>\n",
              "      <td>NaN</td>\n",
              "      <td>9b2d5b4678781e53038e91ea5324530a03f27dc1d0e5f6...</td>\n",
              "      <td>9b2d5b4678781e53038e91ea5324530a03f27dc1d0e5f6...</td>\n",
              "      <td>9b2d5b4678781e53038e91ea5324530a03f27dc1d0e5f6...</td>\n",
              "      <td>3d59f7548e1af2151b64135003ce63c0a484c26b9b8b16...</td>\n",
              "      <td>268ad70eb5bc4737a2ae28162cbca30118cc94520e49ef...</td>\n",
              "      <td>9b2d5b4678781e53038e91ea5324530a03f27dc1d0e5f6...</td>\n",
              "      <td>9b2d5b4678781e53038e91ea5324530a03f27dc1d0e5f6...</td>\n",
              "      <td>NaN</td>\n",
              "      <td>fc10fffd29cfbe93c55158fb47752a7501c211d253468c...</td>\n",
              "    </tr>\n",
              "  </tbody>\n",
              "</table>\n",
              "</div>\n",
              "      <button class=\"colab-df-convert\" onclick=\"convertToInteractive('df-7711eb37-ff44-44b6-903d-1492796fe916')\"\n",
              "              title=\"Convert this dataframe to an interactive table.\"\n",
              "              style=\"display:none;\">\n",
              "        \n",
              "  <svg xmlns=\"http://www.w3.org/2000/svg\" height=\"24px\"viewBox=\"0 0 24 24\"\n",
              "       width=\"24px\">\n",
              "    <path d=\"M0 0h24v24H0V0z\" fill=\"none\"/>\n",
              "    <path d=\"M18.56 5.44l.94 2.06.94-2.06 2.06-.94-2.06-.94-.94-2.06-.94 2.06-2.06.94zm-11 1L8.5 8.5l.94-2.06 2.06-.94-2.06-.94L8.5 2.5l-.94 2.06-2.06.94zm10 10l.94 2.06.94-2.06 2.06-.94-2.06-.94-.94-2.06-.94 2.06-2.06.94z\"/><path d=\"M17.41 7.96l-1.37-1.37c-.4-.4-.92-.59-1.43-.59-.52 0-1.04.2-1.43.59L10.3 9.45l-7.72 7.72c-.78.78-.78 2.05 0 2.83L4 21.41c.39.39.9.59 1.41.59.51 0 1.02-.2 1.41-.59l7.78-7.78 2.81-2.81c.8-.78.8-2.07 0-2.86zM5.41 20L4 18.59l7.72-7.72 1.47 1.35L5.41 20z\"/>\n",
              "  </svg>\n",
              "      </button>\n",
              "      \n",
              "  <style>\n",
              "    .colab-df-container {\n",
              "      display:flex;\n",
              "      flex-wrap:wrap;\n",
              "      gap: 12px;\n",
              "    }\n",
              "\n",
              "    .colab-df-convert {\n",
              "      background-color: #E8F0FE;\n",
              "      border: none;\n",
              "      border-radius: 50%;\n",
              "      cursor: pointer;\n",
              "      display: none;\n",
              "      fill: #1967D2;\n",
              "      height: 32px;\n",
              "      padding: 0 0 0 0;\n",
              "      width: 32px;\n",
              "    }\n",
              "\n",
              "    .colab-df-convert:hover {\n",
              "      background-color: #E2EBFA;\n",
              "      box-shadow: 0px 1px 2px rgba(60, 64, 67, 0.3), 0px 1px 3px 1px rgba(60, 64, 67, 0.15);\n",
              "      fill: #174EA6;\n",
              "    }\n",
              "\n",
              "    [theme=dark] .colab-df-convert {\n",
              "      background-color: #3B4455;\n",
              "      fill: #D2E3FC;\n",
              "    }\n",
              "\n",
              "    [theme=dark] .colab-df-convert:hover {\n",
              "      background-color: #434B5C;\n",
              "      box-shadow: 0px 1px 3px 1px rgba(0, 0, 0, 0.15);\n",
              "      filter: drop-shadow(0px 1px 2px rgba(0, 0, 0, 0.3));\n",
              "      fill: #FFFFFF;\n",
              "    }\n",
              "  </style>\n",
              "\n",
              "      <script>\n",
              "        const buttonEl =\n",
              "          document.querySelector('#df-7711eb37-ff44-44b6-903d-1492796fe916 button.colab-df-convert');\n",
              "        buttonEl.style.display =\n",
              "          google.colab.kernel.accessAllowed ? 'block' : 'none';\n",
              "\n",
              "        async function convertToInteractive(key) {\n",
              "          const element = document.querySelector('#df-7711eb37-ff44-44b6-903d-1492796fe916');\n",
              "          const dataTable =\n",
              "            await google.colab.kernel.invokeFunction('convertToInteractive',\n",
              "                                                     [key], {});\n",
              "          if (!dataTable) return;\n",
              "\n",
              "          const docLinkHtml = 'Like what you see? Visit the ' +\n",
              "            '<a target=\"_blank\" href=https://colab.research.google.com/notebooks/data_table.ipynb>data table notebook</a>'\n",
              "            + ' to learn more about interactive tables.';\n",
              "          element.innerHTML = '';\n",
              "          dataTable['output_type'] = 'display_data';\n",
              "          await google.colab.output.renderOutput(dataTable, element);\n",
              "          const docLink = document.createElement('div');\n",
              "          docLink.innerHTML = docLinkHtml;\n",
              "          element.appendChild(docLink);\n",
              "        }\n",
              "      </script>\n",
              "    </div>\n",
              "  </div>\n",
              "  "
            ]
          },
          "metadata": {},
          "execution_count": 2
        }
      ]
    },
    {
      "cell_type": "markdown",
      "source": [
        "## Data Cleaning"
      ],
      "metadata": {
        "id": "ZObUVa64l2EH"
      }
    },
    {
      "cell_type": "code",
      "source": [
        "data.shape"
      ],
      "metadata": {
        "colab": {
          "base_uri": "https://localhost:8080/"
        },
        "id": "x3_KY9GElaZc",
        "outputId": "d05e0237-0a79-4eea-b92b-378e58192d9d"
      },
      "execution_count": 3,
      "outputs": [
        {
          "output_type": "execute_result",
          "data": {
            "text/plain": [
              "(46608, 16)"
            ]
          },
          "metadata": {},
          "execution_count": 3
        }
      ]
    },
    {
      "cell_type": "code",
      "source": [
        "data.columns"
      ],
      "metadata": {
        "colab": {
          "base_uri": "https://localhost:8080/"
        },
        "id": "2IV55FpXlcld",
        "outputId": "fde73ab2-5b62-443d-8a51-0e13473d9127"
      },
      "execution_count": 4,
      "outputs": [
        {
          "output_type": "execute_result",
          "data": {
            "text/plain": [
              "Index(['Unnamed: 0', 'Agent_id', 'status', 'lost_reason', 'budget', 'lease',\n",
              "       'movein', 'source', 'source_city', 'source_country', 'utm_source',\n",
              "       'utm_medium', 'des_city', 'des_country', 'room_type', 'lead_id'],\n",
              "      dtype='object')"
            ]
          },
          "metadata": {},
          "execution_count": 4
        }
      ]
    },
    {
      "cell_type": "code",
      "source": [
        "data.drop(['Unnamed: 0'], axis=1, inplace = True)"
      ],
      "metadata": {
        "id": "yw2iJgy8l8Aw"
      },
      "execution_count": 5,
      "outputs": []
    },
    {
      "cell_type": "code",
      "source": [
        "data = data.replace('9b2d5b4678781e53038e91ea5324530a03f27dc1d0e5f6c9bc9d493a23be9de0', np.nan)"
      ],
      "metadata": {
        "id": "PjMu_QYPBIyH"
      },
      "execution_count": 6,
      "outputs": []
    },
    {
      "cell_type": "code",
      "source": [
        "data.info()"
      ],
      "metadata": {
        "colab": {
          "base_uri": "https://localhost:8080/"
        },
        "id": "F8JgRLyV4Xs-",
        "outputId": "b770147e-abd6-4396-f218-b21a2aec6d86"
      },
      "execution_count": 7,
      "outputs": [
        {
          "output_type": "stream",
          "name": "stdout",
          "text": [
            "<class 'pandas.core.frame.DataFrame'>\n",
            "RangeIndex: 46608 entries, 0 to 46607\n",
            "Data columns (total 15 columns):\n",
            " #   Column          Non-Null Count  Dtype \n",
            "---  ------          --------------  ----- \n",
            " 0   Agent_id        46608 non-null  object\n",
            " 1   status          46608 non-null  object\n",
            " 2   lost_reason     43244 non-null  object\n",
            " 3   budget          42908 non-null  object\n",
            " 4   lease           44267 non-null  object\n",
            " 5   movein          32970 non-null  object\n",
            " 6   source          40631 non-null  object\n",
            " 7   source_city     37757 non-null  object\n",
            " 8   source_country  37967 non-null  object\n",
            " 9   utm_source      46547 non-null  object\n",
            " 10  utm_medium      43421 non-null  object\n",
            " 11  des_city        44071 non-null  object\n",
            " 12  des_country     44071 non-null  object\n",
            " 13  room_type       23061 non-null  object\n",
            " 14  lead_id         46608 non-null  object\n",
            "dtypes: object(15)\n",
            "memory usage: 5.3+ MB\n"
          ]
        }
      ]
    },
    {
      "cell_type": "code",
      "source": [
        "data.describe().T"
      ],
      "metadata": {
        "colab": {
          "base_uri": "https://localhost:8080/",
          "height": 519
        },
        "id": "rLYaZL5g4s1F",
        "outputId": "f5dd7d11-80b4-4a40-a8d0-ed55e286c473"
      },
      "execution_count": 8,
      "outputs": [
        {
          "output_type": "execute_result",
          "data": {
            "text/plain": [
              "                count unique  \\\n",
              "Agent_id        46608    120   \n",
              "status          46608      6   \n",
              "lost_reason     43244     30   \n",
              "budget          42908   1857   \n",
              "lease           44267    311   \n",
              "movein          32970    477   \n",
              "source          40631    682   \n",
              "source_city     37757   4335   \n",
              "source_country  37967    185   \n",
              "utm_source      46547     34   \n",
              "utm_medium      43421     63   \n",
              "des_city        44071    219   \n",
              "des_country     44071     14   \n",
              "room_type       23061      5   \n",
              "lead_id         46608  30574   \n",
              "\n",
              "                                                              top   freq  \n",
              "Agent_id        2fca346db656187102ce806ac732e06a62df0dbb2829e5...   8186  \n",
              "status                                                       LOST  43244  \n",
              "lost_reason                                      Low availability   8892  \n",
              "budget                                        £60 - £120 Per week   9862  \n",
              "lease                         Full Year Course Stay 40 - 44 weeks  11111  \n",
              "movein                                                   10/09/22   2453  \n",
              "source          7aae3e886e89fc1187a5c47d6cea1c22998ee610ade1f2...  19306  \n",
              "source_city     ecc0e7dc084f141b29479058967d0bc07dee25d9690a98...   3044  \n",
              "source_country  e09e10e67812e9d236ad900e5d46b4308fc62f5d69446a...  18812  \n",
              "utm_source      bbdefa2950f49882f295b1285d4fa9dec45fc4144bfb07...  31125  \n",
              "utm_medium      09076eb7665d1fb9389c7c4517fee0b00e43092eb34821...  31761  \n",
              "des_city        ecc0e7dc084f141b29479058967d0bc07dee25d9690a98...   7361  \n",
              "des_country     8d23a6e37e0a6431a8f1b43a91026dcff51170a89a6512...  42674  \n",
              "room_type                                                 Ensuite  12477  \n",
              "lead_id         e741bdc636f2e99f2f83b31a64ff4b6d07f2b6a182d1cc...      2  "
            ],
            "text/html": [
              "\n",
              "  <div id=\"df-2dff7fa1-b84b-4029-898a-b4ca013fbe11\">\n",
              "    <div class=\"colab-df-container\">\n",
              "      <div>\n",
              "<style scoped>\n",
              "    .dataframe tbody tr th:only-of-type {\n",
              "        vertical-align: middle;\n",
              "    }\n",
              "\n",
              "    .dataframe tbody tr th {\n",
              "        vertical-align: top;\n",
              "    }\n",
              "\n",
              "    .dataframe thead th {\n",
              "        text-align: right;\n",
              "    }\n",
              "</style>\n",
              "<table border=\"1\" class=\"dataframe\">\n",
              "  <thead>\n",
              "    <tr style=\"text-align: right;\">\n",
              "      <th></th>\n",
              "      <th>count</th>\n",
              "      <th>unique</th>\n",
              "      <th>top</th>\n",
              "      <th>freq</th>\n",
              "    </tr>\n",
              "  </thead>\n",
              "  <tbody>\n",
              "    <tr>\n",
              "      <th>Agent_id</th>\n",
              "      <td>46608</td>\n",
              "      <td>120</td>\n",
              "      <td>2fca346db656187102ce806ac732e06a62df0dbb2829e5...</td>\n",
              "      <td>8186</td>\n",
              "    </tr>\n",
              "    <tr>\n",
              "      <th>status</th>\n",
              "      <td>46608</td>\n",
              "      <td>6</td>\n",
              "      <td>LOST</td>\n",
              "      <td>43244</td>\n",
              "    </tr>\n",
              "    <tr>\n",
              "      <th>lost_reason</th>\n",
              "      <td>43244</td>\n",
              "      <td>30</td>\n",
              "      <td>Low availability</td>\n",
              "      <td>8892</td>\n",
              "    </tr>\n",
              "    <tr>\n",
              "      <th>budget</th>\n",
              "      <td>42908</td>\n",
              "      <td>1857</td>\n",
              "      <td>£60 - £120 Per week</td>\n",
              "      <td>9862</td>\n",
              "    </tr>\n",
              "    <tr>\n",
              "      <th>lease</th>\n",
              "      <td>44267</td>\n",
              "      <td>311</td>\n",
              "      <td>Full Year Course Stay 40 - 44 weeks</td>\n",
              "      <td>11111</td>\n",
              "    </tr>\n",
              "    <tr>\n",
              "      <th>movein</th>\n",
              "      <td>32970</td>\n",
              "      <td>477</td>\n",
              "      <td>10/09/22</td>\n",
              "      <td>2453</td>\n",
              "    </tr>\n",
              "    <tr>\n",
              "      <th>source</th>\n",
              "      <td>40631</td>\n",
              "      <td>682</td>\n",
              "      <td>7aae3e886e89fc1187a5c47d6cea1c22998ee610ade1f2...</td>\n",
              "      <td>19306</td>\n",
              "    </tr>\n",
              "    <tr>\n",
              "      <th>source_city</th>\n",
              "      <td>37757</td>\n",
              "      <td>4335</td>\n",
              "      <td>ecc0e7dc084f141b29479058967d0bc07dee25d9690a98...</td>\n",
              "      <td>3044</td>\n",
              "    </tr>\n",
              "    <tr>\n",
              "      <th>source_country</th>\n",
              "      <td>37967</td>\n",
              "      <td>185</td>\n",
              "      <td>e09e10e67812e9d236ad900e5d46b4308fc62f5d69446a...</td>\n",
              "      <td>18812</td>\n",
              "    </tr>\n",
              "    <tr>\n",
              "      <th>utm_source</th>\n",
              "      <td>46547</td>\n",
              "      <td>34</td>\n",
              "      <td>bbdefa2950f49882f295b1285d4fa9dec45fc4144bfb07...</td>\n",
              "      <td>31125</td>\n",
              "    </tr>\n",
              "    <tr>\n",
              "      <th>utm_medium</th>\n",
              "      <td>43421</td>\n",
              "      <td>63</td>\n",
              "      <td>09076eb7665d1fb9389c7c4517fee0b00e43092eb34821...</td>\n",
              "      <td>31761</td>\n",
              "    </tr>\n",
              "    <tr>\n",
              "      <th>des_city</th>\n",
              "      <td>44071</td>\n",
              "      <td>219</td>\n",
              "      <td>ecc0e7dc084f141b29479058967d0bc07dee25d9690a98...</td>\n",
              "      <td>7361</td>\n",
              "    </tr>\n",
              "    <tr>\n",
              "      <th>des_country</th>\n",
              "      <td>44071</td>\n",
              "      <td>14</td>\n",
              "      <td>8d23a6e37e0a6431a8f1b43a91026dcff51170a89a6512...</td>\n",
              "      <td>42674</td>\n",
              "    </tr>\n",
              "    <tr>\n",
              "      <th>room_type</th>\n",
              "      <td>23061</td>\n",
              "      <td>5</td>\n",
              "      <td>Ensuite</td>\n",
              "      <td>12477</td>\n",
              "    </tr>\n",
              "    <tr>\n",
              "      <th>lead_id</th>\n",
              "      <td>46608</td>\n",
              "      <td>30574</td>\n",
              "      <td>e741bdc636f2e99f2f83b31a64ff4b6d07f2b6a182d1cc...</td>\n",
              "      <td>2</td>\n",
              "    </tr>\n",
              "  </tbody>\n",
              "</table>\n",
              "</div>\n",
              "      <button class=\"colab-df-convert\" onclick=\"convertToInteractive('df-2dff7fa1-b84b-4029-898a-b4ca013fbe11')\"\n",
              "              title=\"Convert this dataframe to an interactive table.\"\n",
              "              style=\"display:none;\">\n",
              "        \n",
              "  <svg xmlns=\"http://www.w3.org/2000/svg\" height=\"24px\"viewBox=\"0 0 24 24\"\n",
              "       width=\"24px\">\n",
              "    <path d=\"M0 0h24v24H0V0z\" fill=\"none\"/>\n",
              "    <path d=\"M18.56 5.44l.94 2.06.94-2.06 2.06-.94-2.06-.94-.94-2.06-.94 2.06-2.06.94zm-11 1L8.5 8.5l.94-2.06 2.06-.94-2.06-.94L8.5 2.5l-.94 2.06-2.06.94zm10 10l.94 2.06.94-2.06 2.06-.94-2.06-.94-.94-2.06-.94 2.06-2.06.94z\"/><path d=\"M17.41 7.96l-1.37-1.37c-.4-.4-.92-.59-1.43-.59-.52 0-1.04.2-1.43.59L10.3 9.45l-7.72 7.72c-.78.78-.78 2.05 0 2.83L4 21.41c.39.39.9.59 1.41.59.51 0 1.02-.2 1.41-.59l7.78-7.78 2.81-2.81c.8-.78.8-2.07 0-2.86zM5.41 20L4 18.59l7.72-7.72 1.47 1.35L5.41 20z\"/>\n",
              "  </svg>\n",
              "      </button>\n",
              "      \n",
              "  <style>\n",
              "    .colab-df-container {\n",
              "      display:flex;\n",
              "      flex-wrap:wrap;\n",
              "      gap: 12px;\n",
              "    }\n",
              "\n",
              "    .colab-df-convert {\n",
              "      background-color: #E8F0FE;\n",
              "      border: none;\n",
              "      border-radius: 50%;\n",
              "      cursor: pointer;\n",
              "      display: none;\n",
              "      fill: #1967D2;\n",
              "      height: 32px;\n",
              "      padding: 0 0 0 0;\n",
              "      width: 32px;\n",
              "    }\n",
              "\n",
              "    .colab-df-convert:hover {\n",
              "      background-color: #E2EBFA;\n",
              "      box-shadow: 0px 1px 2px rgba(60, 64, 67, 0.3), 0px 1px 3px 1px rgba(60, 64, 67, 0.15);\n",
              "      fill: #174EA6;\n",
              "    }\n",
              "\n",
              "    [theme=dark] .colab-df-convert {\n",
              "      background-color: #3B4455;\n",
              "      fill: #D2E3FC;\n",
              "    }\n",
              "\n",
              "    [theme=dark] .colab-df-convert:hover {\n",
              "      background-color: #434B5C;\n",
              "      box-shadow: 0px 1px 3px 1px rgba(0, 0, 0, 0.15);\n",
              "      filter: drop-shadow(0px 1px 2px rgba(0, 0, 0, 0.3));\n",
              "      fill: #FFFFFF;\n",
              "    }\n",
              "  </style>\n",
              "\n",
              "      <script>\n",
              "        const buttonEl =\n",
              "          document.querySelector('#df-2dff7fa1-b84b-4029-898a-b4ca013fbe11 button.colab-df-convert');\n",
              "        buttonEl.style.display =\n",
              "          google.colab.kernel.accessAllowed ? 'block' : 'none';\n",
              "\n",
              "        async function convertToInteractive(key) {\n",
              "          const element = document.querySelector('#df-2dff7fa1-b84b-4029-898a-b4ca013fbe11');\n",
              "          const dataTable =\n",
              "            await google.colab.kernel.invokeFunction('convertToInteractive',\n",
              "                                                     [key], {});\n",
              "          if (!dataTable) return;\n",
              "\n",
              "          const docLinkHtml = 'Like what you see? Visit the ' +\n",
              "            '<a target=\"_blank\" href=https://colab.research.google.com/notebooks/data_table.ipynb>data table notebook</a>'\n",
              "            + ' to learn more about interactive tables.';\n",
              "          element.innerHTML = '';\n",
              "          dataTable['output_type'] = 'display_data';\n",
              "          await google.colab.output.renderOutput(dataTable, element);\n",
              "          const docLink = document.createElement('div');\n",
              "          docLink.innerHTML = docLinkHtml;\n",
              "          element.appendChild(docLink);\n",
              "        }\n",
              "      </script>\n",
              "    </div>\n",
              "  </div>\n",
              "  "
            ]
          },
          "metadata": {},
          "execution_count": 8
        }
      ]
    },
    {
      "cell_type": "code",
      "source": [
        "# Find missing value percentage for each column\n",
        "\n",
        "def missing_percentage():\n",
        "  cols = data.columns\n",
        "  missing = dict()\n",
        "\n",
        "  for c in cols:\n",
        "    missing[c] = (data[c].isna().sum() / data.shape[0])*100\n",
        "  missing_df = pd.DataFrame({'column': missing.keys(), 'missing_percentage': missing.values()})\n",
        "  return missing_df"
      ],
      "metadata": {
        "id": "w1xR1O5I4ycx"
      },
      "execution_count": 9,
      "outputs": []
    },
    {
      "cell_type": "code",
      "source": [
        "missing_percentage()"
      ],
      "metadata": {
        "colab": {
          "base_uri": "https://localhost:8080/",
          "height": 519
        },
        "id": "OJ6i-fENA76Z",
        "outputId": "1336abc8-d28b-4124-b86e-534117f74a49"
      },
      "execution_count": 10,
      "outputs": [
        {
          "output_type": "execute_result",
          "data": {
            "text/plain": [
              "            column  missing_percentage\n",
              "0         Agent_id            0.000000\n",
              "1           status            0.000000\n",
              "2      lost_reason            7.217645\n",
              "3           budget            7.938551\n",
              "4            lease            5.022743\n",
              "5           movein           29.261071\n",
              "6           source           12.823979\n",
              "7      source_city           18.990302\n",
              "8   source_country           18.539736\n",
              "9       utm_source            0.130879\n",
              "10      utm_medium            6.837882\n",
              "11        des_city            5.443272\n",
              "12     des_country            5.443272\n",
              "13       room_type           50.521370\n",
              "14         lead_id            0.000000"
            ],
            "text/html": [
              "\n",
              "  <div id=\"df-a8589f6c-b30a-41d8-bd8a-f213467a716a\">\n",
              "    <div class=\"colab-df-container\">\n",
              "      <div>\n",
              "<style scoped>\n",
              "    .dataframe tbody tr th:only-of-type {\n",
              "        vertical-align: middle;\n",
              "    }\n",
              "\n",
              "    .dataframe tbody tr th {\n",
              "        vertical-align: top;\n",
              "    }\n",
              "\n",
              "    .dataframe thead th {\n",
              "        text-align: right;\n",
              "    }\n",
              "</style>\n",
              "<table border=\"1\" class=\"dataframe\">\n",
              "  <thead>\n",
              "    <tr style=\"text-align: right;\">\n",
              "      <th></th>\n",
              "      <th>column</th>\n",
              "      <th>missing_percentage</th>\n",
              "    </tr>\n",
              "  </thead>\n",
              "  <tbody>\n",
              "    <tr>\n",
              "      <th>0</th>\n",
              "      <td>Agent_id</td>\n",
              "      <td>0.000000</td>\n",
              "    </tr>\n",
              "    <tr>\n",
              "      <th>1</th>\n",
              "      <td>status</td>\n",
              "      <td>0.000000</td>\n",
              "    </tr>\n",
              "    <tr>\n",
              "      <th>2</th>\n",
              "      <td>lost_reason</td>\n",
              "      <td>7.217645</td>\n",
              "    </tr>\n",
              "    <tr>\n",
              "      <th>3</th>\n",
              "      <td>budget</td>\n",
              "      <td>7.938551</td>\n",
              "    </tr>\n",
              "    <tr>\n",
              "      <th>4</th>\n",
              "      <td>lease</td>\n",
              "      <td>5.022743</td>\n",
              "    </tr>\n",
              "    <tr>\n",
              "      <th>5</th>\n",
              "      <td>movein</td>\n",
              "      <td>29.261071</td>\n",
              "    </tr>\n",
              "    <tr>\n",
              "      <th>6</th>\n",
              "      <td>source</td>\n",
              "      <td>12.823979</td>\n",
              "    </tr>\n",
              "    <tr>\n",
              "      <th>7</th>\n",
              "      <td>source_city</td>\n",
              "      <td>18.990302</td>\n",
              "    </tr>\n",
              "    <tr>\n",
              "      <th>8</th>\n",
              "      <td>source_country</td>\n",
              "      <td>18.539736</td>\n",
              "    </tr>\n",
              "    <tr>\n",
              "      <th>9</th>\n",
              "      <td>utm_source</td>\n",
              "      <td>0.130879</td>\n",
              "    </tr>\n",
              "    <tr>\n",
              "      <th>10</th>\n",
              "      <td>utm_medium</td>\n",
              "      <td>6.837882</td>\n",
              "    </tr>\n",
              "    <tr>\n",
              "      <th>11</th>\n",
              "      <td>des_city</td>\n",
              "      <td>5.443272</td>\n",
              "    </tr>\n",
              "    <tr>\n",
              "      <th>12</th>\n",
              "      <td>des_country</td>\n",
              "      <td>5.443272</td>\n",
              "    </tr>\n",
              "    <tr>\n",
              "      <th>13</th>\n",
              "      <td>room_type</td>\n",
              "      <td>50.521370</td>\n",
              "    </tr>\n",
              "    <tr>\n",
              "      <th>14</th>\n",
              "      <td>lead_id</td>\n",
              "      <td>0.000000</td>\n",
              "    </tr>\n",
              "  </tbody>\n",
              "</table>\n",
              "</div>\n",
              "      <button class=\"colab-df-convert\" onclick=\"convertToInteractive('df-a8589f6c-b30a-41d8-bd8a-f213467a716a')\"\n",
              "              title=\"Convert this dataframe to an interactive table.\"\n",
              "              style=\"display:none;\">\n",
              "        \n",
              "  <svg xmlns=\"http://www.w3.org/2000/svg\" height=\"24px\"viewBox=\"0 0 24 24\"\n",
              "       width=\"24px\">\n",
              "    <path d=\"M0 0h24v24H0V0z\" fill=\"none\"/>\n",
              "    <path d=\"M18.56 5.44l.94 2.06.94-2.06 2.06-.94-2.06-.94-.94-2.06-.94 2.06-2.06.94zm-11 1L8.5 8.5l.94-2.06 2.06-.94-2.06-.94L8.5 2.5l-.94 2.06-2.06.94zm10 10l.94 2.06.94-2.06 2.06-.94-2.06-.94-.94-2.06-.94 2.06-2.06.94z\"/><path d=\"M17.41 7.96l-1.37-1.37c-.4-.4-.92-.59-1.43-.59-.52 0-1.04.2-1.43.59L10.3 9.45l-7.72 7.72c-.78.78-.78 2.05 0 2.83L4 21.41c.39.39.9.59 1.41.59.51 0 1.02-.2 1.41-.59l7.78-7.78 2.81-2.81c.8-.78.8-2.07 0-2.86zM5.41 20L4 18.59l7.72-7.72 1.47 1.35L5.41 20z\"/>\n",
              "  </svg>\n",
              "      </button>\n",
              "      \n",
              "  <style>\n",
              "    .colab-df-container {\n",
              "      display:flex;\n",
              "      flex-wrap:wrap;\n",
              "      gap: 12px;\n",
              "    }\n",
              "\n",
              "    .colab-df-convert {\n",
              "      background-color: #E8F0FE;\n",
              "      border: none;\n",
              "      border-radius: 50%;\n",
              "      cursor: pointer;\n",
              "      display: none;\n",
              "      fill: #1967D2;\n",
              "      height: 32px;\n",
              "      padding: 0 0 0 0;\n",
              "      width: 32px;\n",
              "    }\n",
              "\n",
              "    .colab-df-convert:hover {\n",
              "      background-color: #E2EBFA;\n",
              "      box-shadow: 0px 1px 2px rgba(60, 64, 67, 0.3), 0px 1px 3px 1px rgba(60, 64, 67, 0.15);\n",
              "      fill: #174EA6;\n",
              "    }\n",
              "\n",
              "    [theme=dark] .colab-df-convert {\n",
              "      background-color: #3B4455;\n",
              "      fill: #D2E3FC;\n",
              "    }\n",
              "\n",
              "    [theme=dark] .colab-df-convert:hover {\n",
              "      background-color: #434B5C;\n",
              "      box-shadow: 0px 1px 3px 1px rgba(0, 0, 0, 0.15);\n",
              "      filter: drop-shadow(0px 1px 2px rgba(0, 0, 0, 0.3));\n",
              "      fill: #FFFFFF;\n",
              "    }\n",
              "  </style>\n",
              "\n",
              "      <script>\n",
              "        const buttonEl =\n",
              "          document.querySelector('#df-a8589f6c-b30a-41d8-bd8a-f213467a716a button.colab-df-convert');\n",
              "        buttonEl.style.display =\n",
              "          google.colab.kernel.accessAllowed ? 'block' : 'none';\n",
              "\n",
              "        async function convertToInteractive(key) {\n",
              "          const element = document.querySelector('#df-a8589f6c-b30a-41d8-bd8a-f213467a716a');\n",
              "          const dataTable =\n",
              "            await google.colab.kernel.invokeFunction('convertToInteractive',\n",
              "                                                     [key], {});\n",
              "          if (!dataTable) return;\n",
              "\n",
              "          const docLinkHtml = 'Like what you see? Visit the ' +\n",
              "            '<a target=\"_blank\" href=https://colab.research.google.com/notebooks/data_table.ipynb>data table notebook</a>'\n",
              "            + ' to learn more about interactive tables.';\n",
              "          element.innerHTML = '';\n",
              "          dataTable['output_type'] = 'display_data';\n",
              "          await google.colab.output.renderOutput(dataTable, element);\n",
              "          const docLink = document.createElement('div');\n",
              "          docLink.innerHTML = docLinkHtml;\n",
              "          element.appendChild(docLink);\n",
              "        }\n",
              "      </script>\n",
              "    </div>\n",
              "  </div>\n",
              "  "
            ]
          },
          "metadata": {},
          "execution_count": 10
        }
      ]
    },
    {
      "cell_type": "code",
      "source": [
        "# drop room_type as more that 50% missing\n",
        "data = data.drop('room_type', axis=1)"
      ],
      "metadata": {
        "id": "mWOD5zHB6YbX"
      },
      "execution_count": 11,
      "outputs": []
    },
    {
      "cell_type": "code",
      "source": [
        "data.head()"
      ],
      "metadata": {
        "colab": {
          "base_uri": "https://localhost:8080/",
          "height": 374
        },
        "id": "YsmE9-dG60sa",
        "outputId": "4fbf9551-6a5e-4c62-d9b7-7e3e15590346"
      },
      "execution_count": 12,
      "outputs": [
        {
          "output_type": "execute_result",
          "data": {
            "text/plain": [
              "                                            Agent_id status     lost_reason  \\\n",
              "0  1deba9e96f404694373de9749ddd1ca8aa7bb823145a6f...   LOST  Not responding   \n",
              "1  299ae77a4ef350ae0dd37d6bba1c002d03444fb1edb236...   LOST      Low budget   \n",
              "2  c213697430c006013012dd2aca82dd9732aa0a1a6bca13...   LOST  Not responding   \n",
              "3  eac9815a500f908736d303e23aa227f0957177b0e6756b...   LOST      Low budget   \n",
              "4  1deba9e96f404694373de9749ddd1ca8aa7bb823145a6f...   LOST       Junk lead   \n",
              "\n",
              "                 budget                                lease    movein  \\\n",
              "0                   NaN                                  NaN       NaN   \n",
              "1                   NaN                                  NaN       NaN   \n",
              "2  £121 - £180 Per Week  Full Year Course Stay 40 - 44 weeks  31/08/22   \n",
              "3                   0-0                                    0       NaN   \n",
              "4                   NaN                                  NaN       NaN   \n",
              "\n",
              "                                              source  \\\n",
              "0                                                NaN   \n",
              "1                                                NaN   \n",
              "2  7aae3e886e89fc1187a5c47d6cea1c22998ee610ade1f2...   \n",
              "3  ba2d0a29556ac20f86f45e4543c0825428cba33fd7a9ea...   \n",
              "4                                                NaN   \n",
              "\n",
              "                                         source_city  \\\n",
              "0                                                NaN   \n",
              "1                                                NaN   \n",
              "2  9b8cc3c63cdf447e463c11544924bf027945cbd29675f7...   \n",
              "3  a5f0d2d08eb0592087e3a3a2f9c1ba2c67cc30f2efd2bd...   \n",
              "4                                                NaN   \n",
              "\n",
              "                                      source_country  \\\n",
              "0                                                NaN   \n",
              "1                                                NaN   \n",
              "2  e09e10e67812e9d236ad900e5d46b4308fc62f5d69446a...   \n",
              "3  e09e10e67812e9d236ad900e5d46b4308fc62f5d69446a...   \n",
              "4                                                NaN   \n",
              "\n",
              "                                          utm_source  \\\n",
              "0  3d59f7548e1af2151b64135003ce63c0a484c26b9b8b16...   \n",
              "1  3d59f7548e1af2151b64135003ce63c0a484c26b9b8b16...   \n",
              "2  bbdefa2950f49882f295b1285d4fa9dec45fc4144bfb07...   \n",
              "3  bbdefa2950f49882f295b1285d4fa9dec45fc4144bfb07...   \n",
              "4  3d59f7548e1af2151b64135003ce63c0a484c26b9b8b16...   \n",
              "\n",
              "                                          utm_medium  \\\n",
              "0  268ad70eb5bc4737a2ae28162cbca30118cc94520e49ef...   \n",
              "1  268ad70eb5bc4737a2ae28162cbca30118cc94520e49ef...   \n",
              "2  09076eb7665d1fb9389c7c4517fee0b00e43092eb34821...   \n",
              "3  09076eb7665d1fb9389c7c4517fee0b00e43092eb34821...   \n",
              "4  268ad70eb5bc4737a2ae28162cbca30118cc94520e49ef...   \n",
              "\n",
              "                                            des_city  \\\n",
              "0  ecc0e7dc084f141b29479058967d0bc07dee25d9690a98...   \n",
              "1  5372372f3bf5896820cb2819300c3e681820d82c6efc54...   \n",
              "2  11ab03a1a8c367191355c152f39fe28cae5e426fce49ef...   \n",
              "3  19372fa44c57a01c37a5a8418779ca3d99b0b59731fb35...   \n",
              "4                                                NaN   \n",
              "\n",
              "                                         des_country  \\\n",
              "0  8d23a6e37e0a6431a8f1b43a91026dcff51170a89a6512...   \n",
              "1  8d23a6e37e0a6431a8f1b43a91026dcff51170a89a6512...   \n",
              "2  8d23a6e37e0a6431a8f1b43a91026dcff51170a89a6512...   \n",
              "3  8d23a6e37e0a6431a8f1b43a91026dcff51170a89a6512...   \n",
              "4                                                NaN   \n",
              "\n",
              "                                             lead_id  \n",
              "0  cd5dc0d9393f3980d11d4ba6f88f8110c2b7a7f7796307...  \n",
              "1  b94693673a5f7178d1b114e4004ad52377d3244dd24a3d...  \n",
              "2  96ea4e2bf04496c044745938c0299c264c3f4ba079e572...  \n",
              "3  1d2b34d8add02a182a4129023766ca4585a8ddced0e5b3...  \n",
              "4  fc10fffd29cfbe93c55158fb47752a7501c211d253468c...  "
            ],
            "text/html": [
              "\n",
              "  <div id=\"df-ee988630-3497-4120-acf6-5e6dad1b1a74\">\n",
              "    <div class=\"colab-df-container\">\n",
              "      <div>\n",
              "<style scoped>\n",
              "    .dataframe tbody tr th:only-of-type {\n",
              "        vertical-align: middle;\n",
              "    }\n",
              "\n",
              "    .dataframe tbody tr th {\n",
              "        vertical-align: top;\n",
              "    }\n",
              "\n",
              "    .dataframe thead th {\n",
              "        text-align: right;\n",
              "    }\n",
              "</style>\n",
              "<table border=\"1\" class=\"dataframe\">\n",
              "  <thead>\n",
              "    <tr style=\"text-align: right;\">\n",
              "      <th></th>\n",
              "      <th>Agent_id</th>\n",
              "      <th>status</th>\n",
              "      <th>lost_reason</th>\n",
              "      <th>budget</th>\n",
              "      <th>lease</th>\n",
              "      <th>movein</th>\n",
              "      <th>source</th>\n",
              "      <th>source_city</th>\n",
              "      <th>source_country</th>\n",
              "      <th>utm_source</th>\n",
              "      <th>utm_medium</th>\n",
              "      <th>des_city</th>\n",
              "      <th>des_country</th>\n",
              "      <th>lead_id</th>\n",
              "    </tr>\n",
              "  </thead>\n",
              "  <tbody>\n",
              "    <tr>\n",
              "      <th>0</th>\n",
              "      <td>1deba9e96f404694373de9749ddd1ca8aa7bb823145a6f...</td>\n",
              "      <td>LOST</td>\n",
              "      <td>Not responding</td>\n",
              "      <td>NaN</td>\n",
              "      <td>NaN</td>\n",
              "      <td>NaN</td>\n",
              "      <td>NaN</td>\n",
              "      <td>NaN</td>\n",
              "      <td>NaN</td>\n",
              "      <td>3d59f7548e1af2151b64135003ce63c0a484c26b9b8b16...</td>\n",
              "      <td>268ad70eb5bc4737a2ae28162cbca30118cc94520e49ef...</td>\n",
              "      <td>ecc0e7dc084f141b29479058967d0bc07dee25d9690a98...</td>\n",
              "      <td>8d23a6e37e0a6431a8f1b43a91026dcff51170a89a6512...</td>\n",
              "      <td>cd5dc0d9393f3980d11d4ba6f88f8110c2b7a7f7796307...</td>\n",
              "    </tr>\n",
              "    <tr>\n",
              "      <th>1</th>\n",
              "      <td>299ae77a4ef350ae0dd37d6bba1c002d03444fb1edb236...</td>\n",
              "      <td>LOST</td>\n",
              "      <td>Low budget</td>\n",
              "      <td>NaN</td>\n",
              "      <td>NaN</td>\n",
              "      <td>NaN</td>\n",
              "      <td>NaN</td>\n",
              "      <td>NaN</td>\n",
              "      <td>NaN</td>\n",
              "      <td>3d59f7548e1af2151b64135003ce63c0a484c26b9b8b16...</td>\n",
              "      <td>268ad70eb5bc4737a2ae28162cbca30118cc94520e49ef...</td>\n",
              "      <td>5372372f3bf5896820cb2819300c3e681820d82c6efc54...</td>\n",
              "      <td>8d23a6e37e0a6431a8f1b43a91026dcff51170a89a6512...</td>\n",
              "      <td>b94693673a5f7178d1b114e4004ad52377d3244dd24a3d...</td>\n",
              "    </tr>\n",
              "    <tr>\n",
              "      <th>2</th>\n",
              "      <td>c213697430c006013012dd2aca82dd9732aa0a1a6bca13...</td>\n",
              "      <td>LOST</td>\n",
              "      <td>Not responding</td>\n",
              "      <td>£121 - £180 Per Week</td>\n",
              "      <td>Full Year Course Stay 40 - 44 weeks</td>\n",
              "      <td>31/08/22</td>\n",
              "      <td>7aae3e886e89fc1187a5c47d6cea1c22998ee610ade1f2...</td>\n",
              "      <td>9b8cc3c63cdf447e463c11544924bf027945cbd29675f7...</td>\n",
              "      <td>e09e10e67812e9d236ad900e5d46b4308fc62f5d69446a...</td>\n",
              "      <td>bbdefa2950f49882f295b1285d4fa9dec45fc4144bfb07...</td>\n",
              "      <td>09076eb7665d1fb9389c7c4517fee0b00e43092eb34821...</td>\n",
              "      <td>11ab03a1a8c367191355c152f39fe28cae5e426fce49ef...</td>\n",
              "      <td>8d23a6e37e0a6431a8f1b43a91026dcff51170a89a6512...</td>\n",
              "      <td>96ea4e2bf04496c044745938c0299c264c3f4ba079e572...</td>\n",
              "    </tr>\n",
              "    <tr>\n",
              "      <th>3</th>\n",
              "      <td>eac9815a500f908736d303e23aa227f0957177b0e6756b...</td>\n",
              "      <td>LOST</td>\n",
              "      <td>Low budget</td>\n",
              "      <td>0-0</td>\n",
              "      <td>0</td>\n",
              "      <td>NaN</td>\n",
              "      <td>ba2d0a29556ac20f86f45e4543c0825428cba33fd7a9ea...</td>\n",
              "      <td>a5f0d2d08eb0592087e3a3a2f9c1ba2c67cc30f2efd2bd...</td>\n",
              "      <td>e09e10e67812e9d236ad900e5d46b4308fc62f5d69446a...</td>\n",
              "      <td>bbdefa2950f49882f295b1285d4fa9dec45fc4144bfb07...</td>\n",
              "      <td>09076eb7665d1fb9389c7c4517fee0b00e43092eb34821...</td>\n",
              "      <td>19372fa44c57a01c37a5a8418779ca3d99b0b59731fb35...</td>\n",
              "      <td>8d23a6e37e0a6431a8f1b43a91026dcff51170a89a6512...</td>\n",
              "      <td>1d2b34d8add02a182a4129023766ca4585a8ddced0e5b3...</td>\n",
              "    </tr>\n",
              "    <tr>\n",
              "      <th>4</th>\n",
              "      <td>1deba9e96f404694373de9749ddd1ca8aa7bb823145a6f...</td>\n",
              "      <td>LOST</td>\n",
              "      <td>Junk lead</td>\n",
              "      <td>NaN</td>\n",
              "      <td>NaN</td>\n",
              "      <td>NaN</td>\n",
              "      <td>NaN</td>\n",
              "      <td>NaN</td>\n",
              "      <td>NaN</td>\n",
              "      <td>3d59f7548e1af2151b64135003ce63c0a484c26b9b8b16...</td>\n",
              "      <td>268ad70eb5bc4737a2ae28162cbca30118cc94520e49ef...</td>\n",
              "      <td>NaN</td>\n",
              "      <td>NaN</td>\n",
              "      <td>fc10fffd29cfbe93c55158fb47752a7501c211d253468c...</td>\n",
              "    </tr>\n",
              "  </tbody>\n",
              "</table>\n",
              "</div>\n",
              "      <button class=\"colab-df-convert\" onclick=\"convertToInteractive('df-ee988630-3497-4120-acf6-5e6dad1b1a74')\"\n",
              "              title=\"Convert this dataframe to an interactive table.\"\n",
              "              style=\"display:none;\">\n",
              "        \n",
              "  <svg xmlns=\"http://www.w3.org/2000/svg\" height=\"24px\"viewBox=\"0 0 24 24\"\n",
              "       width=\"24px\">\n",
              "    <path d=\"M0 0h24v24H0V0z\" fill=\"none\"/>\n",
              "    <path d=\"M18.56 5.44l.94 2.06.94-2.06 2.06-.94-2.06-.94-.94-2.06-.94 2.06-2.06.94zm-11 1L8.5 8.5l.94-2.06 2.06-.94-2.06-.94L8.5 2.5l-.94 2.06-2.06.94zm10 10l.94 2.06.94-2.06 2.06-.94-2.06-.94-.94-2.06-.94 2.06-2.06.94z\"/><path d=\"M17.41 7.96l-1.37-1.37c-.4-.4-.92-.59-1.43-.59-.52 0-1.04.2-1.43.59L10.3 9.45l-7.72 7.72c-.78.78-.78 2.05 0 2.83L4 21.41c.39.39.9.59 1.41.59.51 0 1.02-.2 1.41-.59l7.78-7.78 2.81-2.81c.8-.78.8-2.07 0-2.86zM5.41 20L4 18.59l7.72-7.72 1.47 1.35L5.41 20z\"/>\n",
              "  </svg>\n",
              "      </button>\n",
              "      \n",
              "  <style>\n",
              "    .colab-df-container {\n",
              "      display:flex;\n",
              "      flex-wrap:wrap;\n",
              "      gap: 12px;\n",
              "    }\n",
              "\n",
              "    .colab-df-convert {\n",
              "      background-color: #E8F0FE;\n",
              "      border: none;\n",
              "      border-radius: 50%;\n",
              "      cursor: pointer;\n",
              "      display: none;\n",
              "      fill: #1967D2;\n",
              "      height: 32px;\n",
              "      padding: 0 0 0 0;\n",
              "      width: 32px;\n",
              "    }\n",
              "\n",
              "    .colab-df-convert:hover {\n",
              "      background-color: #E2EBFA;\n",
              "      box-shadow: 0px 1px 2px rgba(60, 64, 67, 0.3), 0px 1px 3px 1px rgba(60, 64, 67, 0.15);\n",
              "      fill: #174EA6;\n",
              "    }\n",
              "\n",
              "    [theme=dark] .colab-df-convert {\n",
              "      background-color: #3B4455;\n",
              "      fill: #D2E3FC;\n",
              "    }\n",
              "\n",
              "    [theme=dark] .colab-df-convert:hover {\n",
              "      background-color: #434B5C;\n",
              "      box-shadow: 0px 1px 3px 1px rgba(0, 0, 0, 0.15);\n",
              "      filter: drop-shadow(0px 1px 2px rgba(0, 0, 0, 0.3));\n",
              "      fill: #FFFFFF;\n",
              "    }\n",
              "  </style>\n",
              "\n",
              "      <script>\n",
              "        const buttonEl =\n",
              "          document.querySelector('#df-ee988630-3497-4120-acf6-5e6dad1b1a74 button.colab-df-convert');\n",
              "        buttonEl.style.display =\n",
              "          google.colab.kernel.accessAllowed ? 'block' : 'none';\n",
              "\n",
              "        async function convertToInteractive(key) {\n",
              "          const element = document.querySelector('#df-ee988630-3497-4120-acf6-5e6dad1b1a74');\n",
              "          const dataTable =\n",
              "            await google.colab.kernel.invokeFunction('convertToInteractive',\n",
              "                                                     [key], {});\n",
              "          if (!dataTable) return;\n",
              "\n",
              "          const docLinkHtml = 'Like what you see? Visit the ' +\n",
              "            '<a target=\"_blank\" href=https://colab.research.google.com/notebooks/data_table.ipynb>data table notebook</a>'\n",
              "            + ' to learn more about interactive tables.';\n",
              "          element.innerHTML = '';\n",
              "          dataTable['output_type'] = 'display_data';\n",
              "          await google.colab.output.renderOutput(dataTable, element);\n",
              "          const docLink = document.createElement('div');\n",
              "          docLink.innerHTML = docLinkHtml;\n",
              "          element.appendChild(docLink);\n",
              "        }\n",
              "      </script>\n",
              "    </div>\n",
              "  </div>\n",
              "  "
            ]
          },
          "metadata": {},
          "execution_count": 12
        }
      ]
    },
    {
      "cell_type": "code",
      "source": [
        "missing_percentage()"
      ],
      "metadata": {
        "colab": {
          "base_uri": "https://localhost:8080/",
          "height": 488
        },
        "id": "Zw1Fo002BbHY",
        "outputId": "bd88408e-743b-4544-af29-572d84900c3a"
      },
      "execution_count": 13,
      "outputs": [
        {
          "output_type": "execute_result",
          "data": {
            "text/plain": [
              "            column  missing_percentage\n",
              "0         Agent_id            0.000000\n",
              "1           status            0.000000\n",
              "2      lost_reason            7.217645\n",
              "3           budget            7.938551\n",
              "4            lease            5.022743\n",
              "5           movein           29.261071\n",
              "6           source           12.823979\n",
              "7      source_city           18.990302\n",
              "8   source_country           18.539736\n",
              "9       utm_source            0.130879\n",
              "10      utm_medium            6.837882\n",
              "11        des_city            5.443272\n",
              "12     des_country            5.443272\n",
              "13         lead_id            0.000000"
            ],
            "text/html": [
              "\n",
              "  <div id=\"df-33f5808e-ce0a-40fb-ac32-1af88e13aeac\">\n",
              "    <div class=\"colab-df-container\">\n",
              "      <div>\n",
              "<style scoped>\n",
              "    .dataframe tbody tr th:only-of-type {\n",
              "        vertical-align: middle;\n",
              "    }\n",
              "\n",
              "    .dataframe tbody tr th {\n",
              "        vertical-align: top;\n",
              "    }\n",
              "\n",
              "    .dataframe thead th {\n",
              "        text-align: right;\n",
              "    }\n",
              "</style>\n",
              "<table border=\"1\" class=\"dataframe\">\n",
              "  <thead>\n",
              "    <tr style=\"text-align: right;\">\n",
              "      <th></th>\n",
              "      <th>column</th>\n",
              "      <th>missing_percentage</th>\n",
              "    </tr>\n",
              "  </thead>\n",
              "  <tbody>\n",
              "    <tr>\n",
              "      <th>0</th>\n",
              "      <td>Agent_id</td>\n",
              "      <td>0.000000</td>\n",
              "    </tr>\n",
              "    <tr>\n",
              "      <th>1</th>\n",
              "      <td>status</td>\n",
              "      <td>0.000000</td>\n",
              "    </tr>\n",
              "    <tr>\n",
              "      <th>2</th>\n",
              "      <td>lost_reason</td>\n",
              "      <td>7.217645</td>\n",
              "    </tr>\n",
              "    <tr>\n",
              "      <th>3</th>\n",
              "      <td>budget</td>\n",
              "      <td>7.938551</td>\n",
              "    </tr>\n",
              "    <tr>\n",
              "      <th>4</th>\n",
              "      <td>lease</td>\n",
              "      <td>5.022743</td>\n",
              "    </tr>\n",
              "    <tr>\n",
              "      <th>5</th>\n",
              "      <td>movein</td>\n",
              "      <td>29.261071</td>\n",
              "    </tr>\n",
              "    <tr>\n",
              "      <th>6</th>\n",
              "      <td>source</td>\n",
              "      <td>12.823979</td>\n",
              "    </tr>\n",
              "    <tr>\n",
              "      <th>7</th>\n",
              "      <td>source_city</td>\n",
              "      <td>18.990302</td>\n",
              "    </tr>\n",
              "    <tr>\n",
              "      <th>8</th>\n",
              "      <td>source_country</td>\n",
              "      <td>18.539736</td>\n",
              "    </tr>\n",
              "    <tr>\n",
              "      <th>9</th>\n",
              "      <td>utm_source</td>\n",
              "      <td>0.130879</td>\n",
              "    </tr>\n",
              "    <tr>\n",
              "      <th>10</th>\n",
              "      <td>utm_medium</td>\n",
              "      <td>6.837882</td>\n",
              "    </tr>\n",
              "    <tr>\n",
              "      <th>11</th>\n",
              "      <td>des_city</td>\n",
              "      <td>5.443272</td>\n",
              "    </tr>\n",
              "    <tr>\n",
              "      <th>12</th>\n",
              "      <td>des_country</td>\n",
              "      <td>5.443272</td>\n",
              "    </tr>\n",
              "    <tr>\n",
              "      <th>13</th>\n",
              "      <td>lead_id</td>\n",
              "      <td>0.000000</td>\n",
              "    </tr>\n",
              "  </tbody>\n",
              "</table>\n",
              "</div>\n",
              "      <button class=\"colab-df-convert\" onclick=\"convertToInteractive('df-33f5808e-ce0a-40fb-ac32-1af88e13aeac')\"\n",
              "              title=\"Convert this dataframe to an interactive table.\"\n",
              "              style=\"display:none;\">\n",
              "        \n",
              "  <svg xmlns=\"http://www.w3.org/2000/svg\" height=\"24px\"viewBox=\"0 0 24 24\"\n",
              "       width=\"24px\">\n",
              "    <path d=\"M0 0h24v24H0V0z\" fill=\"none\"/>\n",
              "    <path d=\"M18.56 5.44l.94 2.06.94-2.06 2.06-.94-2.06-.94-.94-2.06-.94 2.06-2.06.94zm-11 1L8.5 8.5l.94-2.06 2.06-.94-2.06-.94L8.5 2.5l-.94 2.06-2.06.94zm10 10l.94 2.06.94-2.06 2.06-.94-2.06-.94-.94-2.06-.94 2.06-2.06.94z\"/><path d=\"M17.41 7.96l-1.37-1.37c-.4-.4-.92-.59-1.43-.59-.52 0-1.04.2-1.43.59L10.3 9.45l-7.72 7.72c-.78.78-.78 2.05 0 2.83L4 21.41c.39.39.9.59 1.41.59.51 0 1.02-.2 1.41-.59l7.78-7.78 2.81-2.81c.8-.78.8-2.07 0-2.86zM5.41 20L4 18.59l7.72-7.72 1.47 1.35L5.41 20z\"/>\n",
              "  </svg>\n",
              "      </button>\n",
              "      \n",
              "  <style>\n",
              "    .colab-df-container {\n",
              "      display:flex;\n",
              "      flex-wrap:wrap;\n",
              "      gap: 12px;\n",
              "    }\n",
              "\n",
              "    .colab-df-convert {\n",
              "      background-color: #E8F0FE;\n",
              "      border: none;\n",
              "      border-radius: 50%;\n",
              "      cursor: pointer;\n",
              "      display: none;\n",
              "      fill: #1967D2;\n",
              "      height: 32px;\n",
              "      padding: 0 0 0 0;\n",
              "      width: 32px;\n",
              "    }\n",
              "\n",
              "    .colab-df-convert:hover {\n",
              "      background-color: #E2EBFA;\n",
              "      box-shadow: 0px 1px 2px rgba(60, 64, 67, 0.3), 0px 1px 3px 1px rgba(60, 64, 67, 0.15);\n",
              "      fill: #174EA6;\n",
              "    }\n",
              "\n",
              "    [theme=dark] .colab-df-convert {\n",
              "      background-color: #3B4455;\n",
              "      fill: #D2E3FC;\n",
              "    }\n",
              "\n",
              "    [theme=dark] .colab-df-convert:hover {\n",
              "      background-color: #434B5C;\n",
              "      box-shadow: 0px 1px 3px 1px rgba(0, 0, 0, 0.15);\n",
              "      filter: drop-shadow(0px 1px 2px rgba(0, 0, 0, 0.3));\n",
              "      fill: #FFFFFF;\n",
              "    }\n",
              "  </style>\n",
              "\n",
              "      <script>\n",
              "        const buttonEl =\n",
              "          document.querySelector('#df-33f5808e-ce0a-40fb-ac32-1af88e13aeac button.colab-df-convert');\n",
              "        buttonEl.style.display =\n",
              "          google.colab.kernel.accessAllowed ? 'block' : 'none';\n",
              "\n",
              "        async function convertToInteractive(key) {\n",
              "          const element = document.querySelector('#df-33f5808e-ce0a-40fb-ac32-1af88e13aeac');\n",
              "          const dataTable =\n",
              "            await google.colab.kernel.invokeFunction('convertToInteractive',\n",
              "                                                     [key], {});\n",
              "          if (!dataTable) return;\n",
              "\n",
              "          const docLinkHtml = 'Like what you see? Visit the ' +\n",
              "            '<a target=\"_blank\" href=https://colab.research.google.com/notebooks/data_table.ipynb>data table notebook</a>'\n",
              "            + ' to learn more about interactive tables.';\n",
              "          element.innerHTML = '';\n",
              "          dataTable['output_type'] = 'display_data';\n",
              "          await google.colab.output.renderOutput(dataTable, element);\n",
              "          const docLink = document.createElement('div');\n",
              "          docLink.innerHTML = docLinkHtml;\n",
              "          element.appendChild(docLink);\n",
              "        }\n",
              "      </script>\n",
              "    </div>\n",
              "  </div>\n",
              "  "
            ]
          },
          "metadata": {},
          "execution_count": 13
        }
      ]
    },
    {
      "cell_type": "code",
      "source": [
        "data.describe().T"
      ],
      "metadata": {
        "colab": {
          "base_uri": "https://localhost:8080/",
          "height": 488
        },
        "id": "7TFda7T861zl",
        "outputId": "0f0dae6b-9f04-4276-d03a-fda98825d970"
      },
      "execution_count": 14,
      "outputs": [
        {
          "output_type": "execute_result",
          "data": {
            "text/plain": [
              "                count unique  \\\n",
              "Agent_id        46608    120   \n",
              "status          46608      6   \n",
              "lost_reason     43244     30   \n",
              "budget          42908   1857   \n",
              "lease           44267    311   \n",
              "movein          32970    477   \n",
              "source          40631    682   \n",
              "source_city     37757   4335   \n",
              "source_country  37967    185   \n",
              "utm_source      46547     34   \n",
              "utm_medium      43421     63   \n",
              "des_city        44071    219   \n",
              "des_country     44071     14   \n",
              "lead_id         46608  30574   \n",
              "\n",
              "                                                              top   freq  \n",
              "Agent_id        2fca346db656187102ce806ac732e06a62df0dbb2829e5...   8186  \n",
              "status                                                       LOST  43244  \n",
              "lost_reason                                      Low availability   8892  \n",
              "budget                                        £60 - £120 Per week   9862  \n",
              "lease                         Full Year Course Stay 40 - 44 weeks  11111  \n",
              "movein                                                   10/09/22   2453  \n",
              "source          7aae3e886e89fc1187a5c47d6cea1c22998ee610ade1f2...  19306  \n",
              "source_city     ecc0e7dc084f141b29479058967d0bc07dee25d9690a98...   3044  \n",
              "source_country  e09e10e67812e9d236ad900e5d46b4308fc62f5d69446a...  18812  \n",
              "utm_source      bbdefa2950f49882f295b1285d4fa9dec45fc4144bfb07...  31125  \n",
              "utm_medium      09076eb7665d1fb9389c7c4517fee0b00e43092eb34821...  31761  \n",
              "des_city        ecc0e7dc084f141b29479058967d0bc07dee25d9690a98...   7361  \n",
              "des_country     8d23a6e37e0a6431a8f1b43a91026dcff51170a89a6512...  42674  \n",
              "lead_id         e741bdc636f2e99f2f83b31a64ff4b6d07f2b6a182d1cc...      2  "
            ],
            "text/html": [
              "\n",
              "  <div id=\"df-f250e580-bc8e-4a98-ab1e-e71db91d13b8\">\n",
              "    <div class=\"colab-df-container\">\n",
              "      <div>\n",
              "<style scoped>\n",
              "    .dataframe tbody tr th:only-of-type {\n",
              "        vertical-align: middle;\n",
              "    }\n",
              "\n",
              "    .dataframe tbody tr th {\n",
              "        vertical-align: top;\n",
              "    }\n",
              "\n",
              "    .dataframe thead th {\n",
              "        text-align: right;\n",
              "    }\n",
              "</style>\n",
              "<table border=\"1\" class=\"dataframe\">\n",
              "  <thead>\n",
              "    <tr style=\"text-align: right;\">\n",
              "      <th></th>\n",
              "      <th>count</th>\n",
              "      <th>unique</th>\n",
              "      <th>top</th>\n",
              "      <th>freq</th>\n",
              "    </tr>\n",
              "  </thead>\n",
              "  <tbody>\n",
              "    <tr>\n",
              "      <th>Agent_id</th>\n",
              "      <td>46608</td>\n",
              "      <td>120</td>\n",
              "      <td>2fca346db656187102ce806ac732e06a62df0dbb2829e5...</td>\n",
              "      <td>8186</td>\n",
              "    </tr>\n",
              "    <tr>\n",
              "      <th>status</th>\n",
              "      <td>46608</td>\n",
              "      <td>6</td>\n",
              "      <td>LOST</td>\n",
              "      <td>43244</td>\n",
              "    </tr>\n",
              "    <tr>\n",
              "      <th>lost_reason</th>\n",
              "      <td>43244</td>\n",
              "      <td>30</td>\n",
              "      <td>Low availability</td>\n",
              "      <td>8892</td>\n",
              "    </tr>\n",
              "    <tr>\n",
              "      <th>budget</th>\n",
              "      <td>42908</td>\n",
              "      <td>1857</td>\n",
              "      <td>£60 - £120 Per week</td>\n",
              "      <td>9862</td>\n",
              "    </tr>\n",
              "    <tr>\n",
              "      <th>lease</th>\n",
              "      <td>44267</td>\n",
              "      <td>311</td>\n",
              "      <td>Full Year Course Stay 40 - 44 weeks</td>\n",
              "      <td>11111</td>\n",
              "    </tr>\n",
              "    <tr>\n",
              "      <th>movein</th>\n",
              "      <td>32970</td>\n",
              "      <td>477</td>\n",
              "      <td>10/09/22</td>\n",
              "      <td>2453</td>\n",
              "    </tr>\n",
              "    <tr>\n",
              "      <th>source</th>\n",
              "      <td>40631</td>\n",
              "      <td>682</td>\n",
              "      <td>7aae3e886e89fc1187a5c47d6cea1c22998ee610ade1f2...</td>\n",
              "      <td>19306</td>\n",
              "    </tr>\n",
              "    <tr>\n",
              "      <th>source_city</th>\n",
              "      <td>37757</td>\n",
              "      <td>4335</td>\n",
              "      <td>ecc0e7dc084f141b29479058967d0bc07dee25d9690a98...</td>\n",
              "      <td>3044</td>\n",
              "    </tr>\n",
              "    <tr>\n",
              "      <th>source_country</th>\n",
              "      <td>37967</td>\n",
              "      <td>185</td>\n",
              "      <td>e09e10e67812e9d236ad900e5d46b4308fc62f5d69446a...</td>\n",
              "      <td>18812</td>\n",
              "    </tr>\n",
              "    <tr>\n",
              "      <th>utm_source</th>\n",
              "      <td>46547</td>\n",
              "      <td>34</td>\n",
              "      <td>bbdefa2950f49882f295b1285d4fa9dec45fc4144bfb07...</td>\n",
              "      <td>31125</td>\n",
              "    </tr>\n",
              "    <tr>\n",
              "      <th>utm_medium</th>\n",
              "      <td>43421</td>\n",
              "      <td>63</td>\n",
              "      <td>09076eb7665d1fb9389c7c4517fee0b00e43092eb34821...</td>\n",
              "      <td>31761</td>\n",
              "    </tr>\n",
              "    <tr>\n",
              "      <th>des_city</th>\n",
              "      <td>44071</td>\n",
              "      <td>219</td>\n",
              "      <td>ecc0e7dc084f141b29479058967d0bc07dee25d9690a98...</td>\n",
              "      <td>7361</td>\n",
              "    </tr>\n",
              "    <tr>\n",
              "      <th>des_country</th>\n",
              "      <td>44071</td>\n",
              "      <td>14</td>\n",
              "      <td>8d23a6e37e0a6431a8f1b43a91026dcff51170a89a6512...</td>\n",
              "      <td>42674</td>\n",
              "    </tr>\n",
              "    <tr>\n",
              "      <th>lead_id</th>\n",
              "      <td>46608</td>\n",
              "      <td>30574</td>\n",
              "      <td>e741bdc636f2e99f2f83b31a64ff4b6d07f2b6a182d1cc...</td>\n",
              "      <td>2</td>\n",
              "    </tr>\n",
              "  </tbody>\n",
              "</table>\n",
              "</div>\n",
              "      <button class=\"colab-df-convert\" onclick=\"convertToInteractive('df-f250e580-bc8e-4a98-ab1e-e71db91d13b8')\"\n",
              "              title=\"Convert this dataframe to an interactive table.\"\n",
              "              style=\"display:none;\">\n",
              "        \n",
              "  <svg xmlns=\"http://www.w3.org/2000/svg\" height=\"24px\"viewBox=\"0 0 24 24\"\n",
              "       width=\"24px\">\n",
              "    <path d=\"M0 0h24v24H0V0z\" fill=\"none\"/>\n",
              "    <path d=\"M18.56 5.44l.94 2.06.94-2.06 2.06-.94-2.06-.94-.94-2.06-.94 2.06-2.06.94zm-11 1L8.5 8.5l.94-2.06 2.06-.94-2.06-.94L8.5 2.5l-.94 2.06-2.06.94zm10 10l.94 2.06.94-2.06 2.06-.94-2.06-.94-.94-2.06-.94 2.06-2.06.94z\"/><path d=\"M17.41 7.96l-1.37-1.37c-.4-.4-.92-.59-1.43-.59-.52 0-1.04.2-1.43.59L10.3 9.45l-7.72 7.72c-.78.78-.78 2.05 0 2.83L4 21.41c.39.39.9.59 1.41.59.51 0 1.02-.2 1.41-.59l7.78-7.78 2.81-2.81c.8-.78.8-2.07 0-2.86zM5.41 20L4 18.59l7.72-7.72 1.47 1.35L5.41 20z\"/>\n",
              "  </svg>\n",
              "      </button>\n",
              "      \n",
              "  <style>\n",
              "    .colab-df-container {\n",
              "      display:flex;\n",
              "      flex-wrap:wrap;\n",
              "      gap: 12px;\n",
              "    }\n",
              "\n",
              "    .colab-df-convert {\n",
              "      background-color: #E8F0FE;\n",
              "      border: none;\n",
              "      border-radius: 50%;\n",
              "      cursor: pointer;\n",
              "      display: none;\n",
              "      fill: #1967D2;\n",
              "      height: 32px;\n",
              "      padding: 0 0 0 0;\n",
              "      width: 32px;\n",
              "    }\n",
              "\n",
              "    .colab-df-convert:hover {\n",
              "      background-color: #E2EBFA;\n",
              "      box-shadow: 0px 1px 2px rgba(60, 64, 67, 0.3), 0px 1px 3px 1px rgba(60, 64, 67, 0.15);\n",
              "      fill: #174EA6;\n",
              "    }\n",
              "\n",
              "    [theme=dark] .colab-df-convert {\n",
              "      background-color: #3B4455;\n",
              "      fill: #D2E3FC;\n",
              "    }\n",
              "\n",
              "    [theme=dark] .colab-df-convert:hover {\n",
              "      background-color: #434B5C;\n",
              "      box-shadow: 0px 1px 3px 1px rgba(0, 0, 0, 0.15);\n",
              "      filter: drop-shadow(0px 1px 2px rgba(0, 0, 0, 0.3));\n",
              "      fill: #FFFFFF;\n",
              "    }\n",
              "  </style>\n",
              "\n",
              "      <script>\n",
              "        const buttonEl =\n",
              "          document.querySelector('#df-f250e580-bc8e-4a98-ab1e-e71db91d13b8 button.colab-df-convert');\n",
              "        buttonEl.style.display =\n",
              "          google.colab.kernel.accessAllowed ? 'block' : 'none';\n",
              "\n",
              "        async function convertToInteractive(key) {\n",
              "          const element = document.querySelector('#df-f250e580-bc8e-4a98-ab1e-e71db91d13b8');\n",
              "          const dataTable =\n",
              "            await google.colab.kernel.invokeFunction('convertToInteractive',\n",
              "                                                     [key], {});\n",
              "          if (!dataTable) return;\n",
              "\n",
              "          const docLinkHtml = 'Like what you see? Visit the ' +\n",
              "            '<a target=\"_blank\" href=https://colab.research.google.com/notebooks/data_table.ipynb>data table notebook</a>'\n",
              "            + ' to learn more about interactive tables.';\n",
              "          element.innerHTML = '';\n",
              "          dataTable['output_type'] = 'display_data';\n",
              "          await google.colab.output.renderOutput(dataTable, element);\n",
              "          const docLink = document.createElement('div');\n",
              "          docLink.innerHTML = docLinkHtml;\n",
              "          element.appendChild(docLink);\n",
              "        }\n",
              "      </script>\n",
              "    </div>\n",
              "  </div>\n",
              "  "
            ]
          },
          "metadata": {},
          "execution_count": 14
        }
      ]
    },
    {
      "cell_type": "code",
      "source": [
        "#replacing missing values with mode\n",
        "from sklearn.impute import SimpleImputer\n",
        "\n",
        "cols = data.columns\n",
        "\n",
        "data = pd.DataFrame(SimpleImputer(strategy='most_frequent').fit_transform(data))\n",
        "\n",
        "data.columns = cols\n",
        "\n",
        "data.head()\n"
      ],
      "metadata": {
        "colab": {
          "base_uri": "https://localhost:8080/",
          "height": 617
        },
        "id": "KsRap7ya9g6Z",
        "outputId": "9a2d18ed-3174-4605-844c-c04675125857"
      },
      "execution_count": 15,
      "outputs": [
        {
          "output_type": "execute_result",
          "data": {
            "text/plain": [
              "                                            Agent_id status     lost_reason  \\\n",
              "0  1deba9e96f404694373de9749ddd1ca8aa7bb823145a6f...   LOST  Not responding   \n",
              "1  299ae77a4ef350ae0dd37d6bba1c002d03444fb1edb236...   LOST      Low budget   \n",
              "2  c213697430c006013012dd2aca82dd9732aa0a1a6bca13...   LOST  Not responding   \n",
              "3  eac9815a500f908736d303e23aa227f0957177b0e6756b...   LOST      Low budget   \n",
              "4  1deba9e96f404694373de9749ddd1ca8aa7bb823145a6f...   LOST       Junk lead   \n",
              "\n",
              "                 budget                                lease    movein  \\\n",
              "0   £60 - £120 Per week  Full Year Course Stay 40 - 44 weeks  10/09/22   \n",
              "1   £60 - £120 Per week  Full Year Course Stay 40 - 44 weeks  10/09/22   \n",
              "2  £121 - £180 Per Week  Full Year Course Stay 40 - 44 weeks  31/08/22   \n",
              "3                   0-0                                    0  10/09/22   \n",
              "4   £60 - £120 Per week  Full Year Course Stay 40 - 44 weeks  10/09/22   \n",
              "\n",
              "                                              source  \\\n",
              "0  7aae3e886e89fc1187a5c47d6cea1c22998ee610ade1f2...   \n",
              "1  7aae3e886e89fc1187a5c47d6cea1c22998ee610ade1f2...   \n",
              "2  7aae3e886e89fc1187a5c47d6cea1c22998ee610ade1f2...   \n",
              "3  ba2d0a29556ac20f86f45e4543c0825428cba33fd7a9ea...   \n",
              "4  7aae3e886e89fc1187a5c47d6cea1c22998ee610ade1f2...   \n",
              "\n",
              "                                         source_city  \\\n",
              "0  ecc0e7dc084f141b29479058967d0bc07dee25d9690a98...   \n",
              "1  ecc0e7dc084f141b29479058967d0bc07dee25d9690a98...   \n",
              "2  9b8cc3c63cdf447e463c11544924bf027945cbd29675f7...   \n",
              "3  a5f0d2d08eb0592087e3a3a2f9c1ba2c67cc30f2efd2bd...   \n",
              "4  ecc0e7dc084f141b29479058967d0bc07dee25d9690a98...   \n",
              "\n",
              "                                      source_country  \\\n",
              "0  e09e10e67812e9d236ad900e5d46b4308fc62f5d69446a...   \n",
              "1  e09e10e67812e9d236ad900e5d46b4308fc62f5d69446a...   \n",
              "2  e09e10e67812e9d236ad900e5d46b4308fc62f5d69446a...   \n",
              "3  e09e10e67812e9d236ad900e5d46b4308fc62f5d69446a...   \n",
              "4  e09e10e67812e9d236ad900e5d46b4308fc62f5d69446a...   \n",
              "\n",
              "                                          utm_source  \\\n",
              "0  3d59f7548e1af2151b64135003ce63c0a484c26b9b8b16...   \n",
              "1  3d59f7548e1af2151b64135003ce63c0a484c26b9b8b16...   \n",
              "2  bbdefa2950f49882f295b1285d4fa9dec45fc4144bfb07...   \n",
              "3  bbdefa2950f49882f295b1285d4fa9dec45fc4144bfb07...   \n",
              "4  3d59f7548e1af2151b64135003ce63c0a484c26b9b8b16...   \n",
              "\n",
              "                                          utm_medium  \\\n",
              "0  268ad70eb5bc4737a2ae28162cbca30118cc94520e49ef...   \n",
              "1  268ad70eb5bc4737a2ae28162cbca30118cc94520e49ef...   \n",
              "2  09076eb7665d1fb9389c7c4517fee0b00e43092eb34821...   \n",
              "3  09076eb7665d1fb9389c7c4517fee0b00e43092eb34821...   \n",
              "4  268ad70eb5bc4737a2ae28162cbca30118cc94520e49ef...   \n",
              "\n",
              "                                            des_city  \\\n",
              "0  ecc0e7dc084f141b29479058967d0bc07dee25d9690a98...   \n",
              "1  5372372f3bf5896820cb2819300c3e681820d82c6efc54...   \n",
              "2  11ab03a1a8c367191355c152f39fe28cae5e426fce49ef...   \n",
              "3  19372fa44c57a01c37a5a8418779ca3d99b0b59731fb35...   \n",
              "4  ecc0e7dc084f141b29479058967d0bc07dee25d9690a98...   \n",
              "\n",
              "                                         des_country  \\\n",
              "0  8d23a6e37e0a6431a8f1b43a91026dcff51170a89a6512...   \n",
              "1  8d23a6e37e0a6431a8f1b43a91026dcff51170a89a6512...   \n",
              "2  8d23a6e37e0a6431a8f1b43a91026dcff51170a89a6512...   \n",
              "3  8d23a6e37e0a6431a8f1b43a91026dcff51170a89a6512...   \n",
              "4  8d23a6e37e0a6431a8f1b43a91026dcff51170a89a6512...   \n",
              "\n",
              "                                             lead_id  \n",
              "0  cd5dc0d9393f3980d11d4ba6f88f8110c2b7a7f7796307...  \n",
              "1  b94693673a5f7178d1b114e4004ad52377d3244dd24a3d...  \n",
              "2  96ea4e2bf04496c044745938c0299c264c3f4ba079e572...  \n",
              "3  1d2b34d8add02a182a4129023766ca4585a8ddced0e5b3...  \n",
              "4  fc10fffd29cfbe93c55158fb47752a7501c211d253468c...  "
            ],
            "text/html": [
              "\n",
              "  <div id=\"df-f10687f5-59ca-48ca-b30a-583a97d5070d\">\n",
              "    <div class=\"colab-df-container\">\n",
              "      <div>\n",
              "<style scoped>\n",
              "    .dataframe tbody tr th:only-of-type {\n",
              "        vertical-align: middle;\n",
              "    }\n",
              "\n",
              "    .dataframe tbody tr th {\n",
              "        vertical-align: top;\n",
              "    }\n",
              "\n",
              "    .dataframe thead th {\n",
              "        text-align: right;\n",
              "    }\n",
              "</style>\n",
              "<table border=\"1\" class=\"dataframe\">\n",
              "  <thead>\n",
              "    <tr style=\"text-align: right;\">\n",
              "      <th></th>\n",
              "      <th>Agent_id</th>\n",
              "      <th>status</th>\n",
              "      <th>lost_reason</th>\n",
              "      <th>budget</th>\n",
              "      <th>lease</th>\n",
              "      <th>movein</th>\n",
              "      <th>source</th>\n",
              "      <th>source_city</th>\n",
              "      <th>source_country</th>\n",
              "      <th>utm_source</th>\n",
              "      <th>utm_medium</th>\n",
              "      <th>des_city</th>\n",
              "      <th>des_country</th>\n",
              "      <th>lead_id</th>\n",
              "    </tr>\n",
              "  </thead>\n",
              "  <tbody>\n",
              "    <tr>\n",
              "      <th>0</th>\n",
              "      <td>1deba9e96f404694373de9749ddd1ca8aa7bb823145a6f...</td>\n",
              "      <td>LOST</td>\n",
              "      <td>Not responding</td>\n",
              "      <td>£60 - £120 Per week</td>\n",
              "      <td>Full Year Course Stay 40 - 44 weeks</td>\n",
              "      <td>10/09/22</td>\n",
              "      <td>7aae3e886e89fc1187a5c47d6cea1c22998ee610ade1f2...</td>\n",
              "      <td>ecc0e7dc084f141b29479058967d0bc07dee25d9690a98...</td>\n",
              "      <td>e09e10e67812e9d236ad900e5d46b4308fc62f5d69446a...</td>\n",
              "      <td>3d59f7548e1af2151b64135003ce63c0a484c26b9b8b16...</td>\n",
              "      <td>268ad70eb5bc4737a2ae28162cbca30118cc94520e49ef...</td>\n",
              "      <td>ecc0e7dc084f141b29479058967d0bc07dee25d9690a98...</td>\n",
              "      <td>8d23a6e37e0a6431a8f1b43a91026dcff51170a89a6512...</td>\n",
              "      <td>cd5dc0d9393f3980d11d4ba6f88f8110c2b7a7f7796307...</td>\n",
              "    </tr>\n",
              "    <tr>\n",
              "      <th>1</th>\n",
              "      <td>299ae77a4ef350ae0dd37d6bba1c002d03444fb1edb236...</td>\n",
              "      <td>LOST</td>\n",
              "      <td>Low budget</td>\n",
              "      <td>£60 - £120 Per week</td>\n",
              "      <td>Full Year Course Stay 40 - 44 weeks</td>\n",
              "      <td>10/09/22</td>\n",
              "      <td>7aae3e886e89fc1187a5c47d6cea1c22998ee610ade1f2...</td>\n",
              "      <td>ecc0e7dc084f141b29479058967d0bc07dee25d9690a98...</td>\n",
              "      <td>e09e10e67812e9d236ad900e5d46b4308fc62f5d69446a...</td>\n",
              "      <td>3d59f7548e1af2151b64135003ce63c0a484c26b9b8b16...</td>\n",
              "      <td>268ad70eb5bc4737a2ae28162cbca30118cc94520e49ef...</td>\n",
              "      <td>5372372f3bf5896820cb2819300c3e681820d82c6efc54...</td>\n",
              "      <td>8d23a6e37e0a6431a8f1b43a91026dcff51170a89a6512...</td>\n",
              "      <td>b94693673a5f7178d1b114e4004ad52377d3244dd24a3d...</td>\n",
              "    </tr>\n",
              "    <tr>\n",
              "      <th>2</th>\n",
              "      <td>c213697430c006013012dd2aca82dd9732aa0a1a6bca13...</td>\n",
              "      <td>LOST</td>\n",
              "      <td>Not responding</td>\n",
              "      <td>£121 - £180 Per Week</td>\n",
              "      <td>Full Year Course Stay 40 - 44 weeks</td>\n",
              "      <td>31/08/22</td>\n",
              "      <td>7aae3e886e89fc1187a5c47d6cea1c22998ee610ade1f2...</td>\n",
              "      <td>9b8cc3c63cdf447e463c11544924bf027945cbd29675f7...</td>\n",
              "      <td>e09e10e67812e9d236ad900e5d46b4308fc62f5d69446a...</td>\n",
              "      <td>bbdefa2950f49882f295b1285d4fa9dec45fc4144bfb07...</td>\n",
              "      <td>09076eb7665d1fb9389c7c4517fee0b00e43092eb34821...</td>\n",
              "      <td>11ab03a1a8c367191355c152f39fe28cae5e426fce49ef...</td>\n",
              "      <td>8d23a6e37e0a6431a8f1b43a91026dcff51170a89a6512...</td>\n",
              "      <td>96ea4e2bf04496c044745938c0299c264c3f4ba079e572...</td>\n",
              "    </tr>\n",
              "    <tr>\n",
              "      <th>3</th>\n",
              "      <td>eac9815a500f908736d303e23aa227f0957177b0e6756b...</td>\n",
              "      <td>LOST</td>\n",
              "      <td>Low budget</td>\n",
              "      <td>0-0</td>\n",
              "      <td>0</td>\n",
              "      <td>10/09/22</td>\n",
              "      <td>ba2d0a29556ac20f86f45e4543c0825428cba33fd7a9ea...</td>\n",
              "      <td>a5f0d2d08eb0592087e3a3a2f9c1ba2c67cc30f2efd2bd...</td>\n",
              "      <td>e09e10e67812e9d236ad900e5d46b4308fc62f5d69446a...</td>\n",
              "      <td>bbdefa2950f49882f295b1285d4fa9dec45fc4144bfb07...</td>\n",
              "      <td>09076eb7665d1fb9389c7c4517fee0b00e43092eb34821...</td>\n",
              "      <td>19372fa44c57a01c37a5a8418779ca3d99b0b59731fb35...</td>\n",
              "      <td>8d23a6e37e0a6431a8f1b43a91026dcff51170a89a6512...</td>\n",
              "      <td>1d2b34d8add02a182a4129023766ca4585a8ddced0e5b3...</td>\n",
              "    </tr>\n",
              "    <tr>\n",
              "      <th>4</th>\n",
              "      <td>1deba9e96f404694373de9749ddd1ca8aa7bb823145a6f...</td>\n",
              "      <td>LOST</td>\n",
              "      <td>Junk lead</td>\n",
              "      <td>£60 - £120 Per week</td>\n",
              "      <td>Full Year Course Stay 40 - 44 weeks</td>\n",
              "      <td>10/09/22</td>\n",
              "      <td>7aae3e886e89fc1187a5c47d6cea1c22998ee610ade1f2...</td>\n",
              "      <td>ecc0e7dc084f141b29479058967d0bc07dee25d9690a98...</td>\n",
              "      <td>e09e10e67812e9d236ad900e5d46b4308fc62f5d69446a...</td>\n",
              "      <td>3d59f7548e1af2151b64135003ce63c0a484c26b9b8b16...</td>\n",
              "      <td>268ad70eb5bc4737a2ae28162cbca30118cc94520e49ef...</td>\n",
              "      <td>ecc0e7dc084f141b29479058967d0bc07dee25d9690a98...</td>\n",
              "      <td>8d23a6e37e0a6431a8f1b43a91026dcff51170a89a6512...</td>\n",
              "      <td>fc10fffd29cfbe93c55158fb47752a7501c211d253468c...</td>\n",
              "    </tr>\n",
              "  </tbody>\n",
              "</table>\n",
              "</div>\n",
              "      <button class=\"colab-df-convert\" onclick=\"convertToInteractive('df-f10687f5-59ca-48ca-b30a-583a97d5070d')\"\n",
              "              title=\"Convert this dataframe to an interactive table.\"\n",
              "              style=\"display:none;\">\n",
              "        \n",
              "  <svg xmlns=\"http://www.w3.org/2000/svg\" height=\"24px\"viewBox=\"0 0 24 24\"\n",
              "       width=\"24px\">\n",
              "    <path d=\"M0 0h24v24H0V0z\" fill=\"none\"/>\n",
              "    <path d=\"M18.56 5.44l.94 2.06.94-2.06 2.06-.94-2.06-.94-.94-2.06-.94 2.06-2.06.94zm-11 1L8.5 8.5l.94-2.06 2.06-.94-2.06-.94L8.5 2.5l-.94 2.06-2.06.94zm10 10l.94 2.06.94-2.06 2.06-.94-2.06-.94-.94-2.06-.94 2.06-2.06.94z\"/><path d=\"M17.41 7.96l-1.37-1.37c-.4-.4-.92-.59-1.43-.59-.52 0-1.04.2-1.43.59L10.3 9.45l-7.72 7.72c-.78.78-.78 2.05 0 2.83L4 21.41c.39.39.9.59 1.41.59.51 0 1.02-.2 1.41-.59l7.78-7.78 2.81-2.81c.8-.78.8-2.07 0-2.86zM5.41 20L4 18.59l7.72-7.72 1.47 1.35L5.41 20z\"/>\n",
              "  </svg>\n",
              "      </button>\n",
              "      \n",
              "  <style>\n",
              "    .colab-df-container {\n",
              "      display:flex;\n",
              "      flex-wrap:wrap;\n",
              "      gap: 12px;\n",
              "    }\n",
              "\n",
              "    .colab-df-convert {\n",
              "      background-color: #E8F0FE;\n",
              "      border: none;\n",
              "      border-radius: 50%;\n",
              "      cursor: pointer;\n",
              "      display: none;\n",
              "      fill: #1967D2;\n",
              "      height: 32px;\n",
              "      padding: 0 0 0 0;\n",
              "      width: 32px;\n",
              "    }\n",
              "\n",
              "    .colab-df-convert:hover {\n",
              "      background-color: #E2EBFA;\n",
              "      box-shadow: 0px 1px 2px rgba(60, 64, 67, 0.3), 0px 1px 3px 1px rgba(60, 64, 67, 0.15);\n",
              "      fill: #174EA6;\n",
              "    }\n",
              "\n",
              "    [theme=dark] .colab-df-convert {\n",
              "      background-color: #3B4455;\n",
              "      fill: #D2E3FC;\n",
              "    }\n",
              "\n",
              "    [theme=dark] .colab-df-convert:hover {\n",
              "      background-color: #434B5C;\n",
              "      box-shadow: 0px 1px 3px 1px rgba(0, 0, 0, 0.15);\n",
              "      filter: drop-shadow(0px 1px 2px rgba(0, 0, 0, 0.3));\n",
              "      fill: #FFFFFF;\n",
              "    }\n",
              "  </style>\n",
              "\n",
              "      <script>\n",
              "        const buttonEl =\n",
              "          document.querySelector('#df-f10687f5-59ca-48ca-b30a-583a97d5070d button.colab-df-convert');\n",
              "        buttonEl.style.display =\n",
              "          google.colab.kernel.accessAllowed ? 'block' : 'none';\n",
              "\n",
              "        async function convertToInteractive(key) {\n",
              "          const element = document.querySelector('#df-f10687f5-59ca-48ca-b30a-583a97d5070d');\n",
              "          const dataTable =\n",
              "            await google.colab.kernel.invokeFunction('convertToInteractive',\n",
              "                                                     [key], {});\n",
              "          if (!dataTable) return;\n",
              "\n",
              "          const docLinkHtml = 'Like what you see? Visit the ' +\n",
              "            '<a target=\"_blank\" href=https://colab.research.google.com/notebooks/data_table.ipynb>data table notebook</a>'\n",
              "            + ' to learn more about interactive tables.';\n",
              "          element.innerHTML = '';\n",
              "          dataTable['output_type'] = 'display_data';\n",
              "          await google.colab.output.renderOutput(dataTable, element);\n",
              "          const docLink = document.createElement('div');\n",
              "          docLink.innerHTML = docLinkHtml;\n",
              "          element.appendChild(docLink);\n",
              "        }\n",
              "      </script>\n",
              "    </div>\n",
              "  </div>\n",
              "  "
            ]
          },
          "metadata": {},
          "execution_count": 15
        }
      ]
    },
    {
      "cell_type": "code",
      "source": [
        "missing_percentage()"
      ],
      "metadata": {
        "colab": {
          "base_uri": "https://localhost:8080/",
          "height": 488
        },
        "id": "Cy3Pdt9Y-2VS",
        "outputId": "dbba04e9-fc5d-4211-89ac-4a3e31de2e0c"
      },
      "execution_count": 16,
      "outputs": [
        {
          "output_type": "execute_result",
          "data": {
            "text/plain": [
              "            column  missing_percentage\n",
              "0         Agent_id                 0.0\n",
              "1           status                 0.0\n",
              "2      lost_reason                 0.0\n",
              "3           budget                 0.0\n",
              "4            lease                 0.0\n",
              "5           movein                 0.0\n",
              "6           source                 0.0\n",
              "7      source_city                 0.0\n",
              "8   source_country                 0.0\n",
              "9       utm_source                 0.0\n",
              "10      utm_medium                 0.0\n",
              "11        des_city                 0.0\n",
              "12     des_country                 0.0\n",
              "13         lead_id                 0.0"
            ],
            "text/html": [
              "\n",
              "  <div id=\"df-cb1ec768-4cd1-42a5-9d0c-e53173e3fb6b\">\n",
              "    <div class=\"colab-df-container\">\n",
              "      <div>\n",
              "<style scoped>\n",
              "    .dataframe tbody tr th:only-of-type {\n",
              "        vertical-align: middle;\n",
              "    }\n",
              "\n",
              "    .dataframe tbody tr th {\n",
              "        vertical-align: top;\n",
              "    }\n",
              "\n",
              "    .dataframe thead th {\n",
              "        text-align: right;\n",
              "    }\n",
              "</style>\n",
              "<table border=\"1\" class=\"dataframe\">\n",
              "  <thead>\n",
              "    <tr style=\"text-align: right;\">\n",
              "      <th></th>\n",
              "      <th>column</th>\n",
              "      <th>missing_percentage</th>\n",
              "    </tr>\n",
              "  </thead>\n",
              "  <tbody>\n",
              "    <tr>\n",
              "      <th>0</th>\n",
              "      <td>Agent_id</td>\n",
              "      <td>0.0</td>\n",
              "    </tr>\n",
              "    <tr>\n",
              "      <th>1</th>\n",
              "      <td>status</td>\n",
              "      <td>0.0</td>\n",
              "    </tr>\n",
              "    <tr>\n",
              "      <th>2</th>\n",
              "      <td>lost_reason</td>\n",
              "      <td>0.0</td>\n",
              "    </tr>\n",
              "    <tr>\n",
              "      <th>3</th>\n",
              "      <td>budget</td>\n",
              "      <td>0.0</td>\n",
              "    </tr>\n",
              "    <tr>\n",
              "      <th>4</th>\n",
              "      <td>lease</td>\n",
              "      <td>0.0</td>\n",
              "    </tr>\n",
              "    <tr>\n",
              "      <th>5</th>\n",
              "      <td>movein</td>\n",
              "      <td>0.0</td>\n",
              "    </tr>\n",
              "    <tr>\n",
              "      <th>6</th>\n",
              "      <td>source</td>\n",
              "      <td>0.0</td>\n",
              "    </tr>\n",
              "    <tr>\n",
              "      <th>7</th>\n",
              "      <td>source_city</td>\n",
              "      <td>0.0</td>\n",
              "    </tr>\n",
              "    <tr>\n",
              "      <th>8</th>\n",
              "      <td>source_country</td>\n",
              "      <td>0.0</td>\n",
              "    </tr>\n",
              "    <tr>\n",
              "      <th>9</th>\n",
              "      <td>utm_source</td>\n",
              "      <td>0.0</td>\n",
              "    </tr>\n",
              "    <tr>\n",
              "      <th>10</th>\n",
              "      <td>utm_medium</td>\n",
              "      <td>0.0</td>\n",
              "    </tr>\n",
              "    <tr>\n",
              "      <th>11</th>\n",
              "      <td>des_city</td>\n",
              "      <td>0.0</td>\n",
              "    </tr>\n",
              "    <tr>\n",
              "      <th>12</th>\n",
              "      <td>des_country</td>\n",
              "      <td>0.0</td>\n",
              "    </tr>\n",
              "    <tr>\n",
              "      <th>13</th>\n",
              "      <td>lead_id</td>\n",
              "      <td>0.0</td>\n",
              "    </tr>\n",
              "  </tbody>\n",
              "</table>\n",
              "</div>\n",
              "      <button class=\"colab-df-convert\" onclick=\"convertToInteractive('df-cb1ec768-4cd1-42a5-9d0c-e53173e3fb6b')\"\n",
              "              title=\"Convert this dataframe to an interactive table.\"\n",
              "              style=\"display:none;\">\n",
              "        \n",
              "  <svg xmlns=\"http://www.w3.org/2000/svg\" height=\"24px\"viewBox=\"0 0 24 24\"\n",
              "       width=\"24px\">\n",
              "    <path d=\"M0 0h24v24H0V0z\" fill=\"none\"/>\n",
              "    <path d=\"M18.56 5.44l.94 2.06.94-2.06 2.06-.94-2.06-.94-.94-2.06-.94 2.06-2.06.94zm-11 1L8.5 8.5l.94-2.06 2.06-.94-2.06-.94L8.5 2.5l-.94 2.06-2.06.94zm10 10l.94 2.06.94-2.06 2.06-.94-2.06-.94-.94-2.06-.94 2.06-2.06.94z\"/><path d=\"M17.41 7.96l-1.37-1.37c-.4-.4-.92-.59-1.43-.59-.52 0-1.04.2-1.43.59L10.3 9.45l-7.72 7.72c-.78.78-.78 2.05 0 2.83L4 21.41c.39.39.9.59 1.41.59.51 0 1.02-.2 1.41-.59l7.78-7.78 2.81-2.81c.8-.78.8-2.07 0-2.86zM5.41 20L4 18.59l7.72-7.72 1.47 1.35L5.41 20z\"/>\n",
              "  </svg>\n",
              "      </button>\n",
              "      \n",
              "  <style>\n",
              "    .colab-df-container {\n",
              "      display:flex;\n",
              "      flex-wrap:wrap;\n",
              "      gap: 12px;\n",
              "    }\n",
              "\n",
              "    .colab-df-convert {\n",
              "      background-color: #E8F0FE;\n",
              "      border: none;\n",
              "      border-radius: 50%;\n",
              "      cursor: pointer;\n",
              "      display: none;\n",
              "      fill: #1967D2;\n",
              "      height: 32px;\n",
              "      padding: 0 0 0 0;\n",
              "      width: 32px;\n",
              "    }\n",
              "\n",
              "    .colab-df-convert:hover {\n",
              "      background-color: #E2EBFA;\n",
              "      box-shadow: 0px 1px 2px rgba(60, 64, 67, 0.3), 0px 1px 3px 1px rgba(60, 64, 67, 0.15);\n",
              "      fill: #174EA6;\n",
              "    }\n",
              "\n",
              "    [theme=dark] .colab-df-convert {\n",
              "      background-color: #3B4455;\n",
              "      fill: #D2E3FC;\n",
              "    }\n",
              "\n",
              "    [theme=dark] .colab-df-convert:hover {\n",
              "      background-color: #434B5C;\n",
              "      box-shadow: 0px 1px 3px 1px rgba(0, 0, 0, 0.15);\n",
              "      filter: drop-shadow(0px 1px 2px rgba(0, 0, 0, 0.3));\n",
              "      fill: #FFFFFF;\n",
              "    }\n",
              "  </style>\n",
              "\n",
              "      <script>\n",
              "        const buttonEl =\n",
              "          document.querySelector('#df-cb1ec768-4cd1-42a5-9d0c-e53173e3fb6b button.colab-df-convert');\n",
              "        buttonEl.style.display =\n",
              "          google.colab.kernel.accessAllowed ? 'block' : 'none';\n",
              "\n",
              "        async function convertToInteractive(key) {\n",
              "          const element = document.querySelector('#df-cb1ec768-4cd1-42a5-9d0c-e53173e3fb6b');\n",
              "          const dataTable =\n",
              "            await google.colab.kernel.invokeFunction('convertToInteractive',\n",
              "                                                     [key], {});\n",
              "          if (!dataTable) return;\n",
              "\n",
              "          const docLinkHtml = 'Like what you see? Visit the ' +\n",
              "            '<a target=\"_blank\" href=https://colab.research.google.com/notebooks/data_table.ipynb>data table notebook</a>'\n",
              "            + ' to learn more about interactive tables.';\n",
              "          element.innerHTML = '';\n",
              "          dataTable['output_type'] = 'display_data';\n",
              "          await google.colab.output.renderOutput(dataTable, element);\n",
              "          const docLink = document.createElement('div');\n",
              "          docLink.innerHTML = docLinkHtml;\n",
              "          element.appendChild(docLink);\n",
              "        }\n",
              "      </script>\n",
              "    </div>\n",
              "  </div>\n",
              "  "
            ]
          },
          "metadata": {},
          "execution_count": 16
        }
      ]
    },
    {
      "cell_type": "code",
      "source": [
        "data.head()"
      ],
      "metadata": {
        "colab": {
          "base_uri": "https://localhost:8080/",
          "height": 617
        },
        "id": "myl5R151B7rI",
        "outputId": "343733c4-9127-4af5-a23e-7007c26259bf"
      },
      "execution_count": 17,
      "outputs": [
        {
          "output_type": "execute_result",
          "data": {
            "text/plain": [
              "                                            Agent_id status     lost_reason  \\\n",
              "0  1deba9e96f404694373de9749ddd1ca8aa7bb823145a6f...   LOST  Not responding   \n",
              "1  299ae77a4ef350ae0dd37d6bba1c002d03444fb1edb236...   LOST      Low budget   \n",
              "2  c213697430c006013012dd2aca82dd9732aa0a1a6bca13...   LOST  Not responding   \n",
              "3  eac9815a500f908736d303e23aa227f0957177b0e6756b...   LOST      Low budget   \n",
              "4  1deba9e96f404694373de9749ddd1ca8aa7bb823145a6f...   LOST       Junk lead   \n",
              "\n",
              "                 budget                                lease    movein  \\\n",
              "0   £60 - £120 Per week  Full Year Course Stay 40 - 44 weeks  10/09/22   \n",
              "1   £60 - £120 Per week  Full Year Course Stay 40 - 44 weeks  10/09/22   \n",
              "2  £121 - £180 Per Week  Full Year Course Stay 40 - 44 weeks  31/08/22   \n",
              "3                   0-0                                    0  10/09/22   \n",
              "4   £60 - £120 Per week  Full Year Course Stay 40 - 44 weeks  10/09/22   \n",
              "\n",
              "                                              source  \\\n",
              "0  7aae3e886e89fc1187a5c47d6cea1c22998ee610ade1f2...   \n",
              "1  7aae3e886e89fc1187a5c47d6cea1c22998ee610ade1f2...   \n",
              "2  7aae3e886e89fc1187a5c47d6cea1c22998ee610ade1f2...   \n",
              "3  ba2d0a29556ac20f86f45e4543c0825428cba33fd7a9ea...   \n",
              "4  7aae3e886e89fc1187a5c47d6cea1c22998ee610ade1f2...   \n",
              "\n",
              "                                         source_city  \\\n",
              "0  ecc0e7dc084f141b29479058967d0bc07dee25d9690a98...   \n",
              "1  ecc0e7dc084f141b29479058967d0bc07dee25d9690a98...   \n",
              "2  9b8cc3c63cdf447e463c11544924bf027945cbd29675f7...   \n",
              "3  a5f0d2d08eb0592087e3a3a2f9c1ba2c67cc30f2efd2bd...   \n",
              "4  ecc0e7dc084f141b29479058967d0bc07dee25d9690a98...   \n",
              "\n",
              "                                      source_country  \\\n",
              "0  e09e10e67812e9d236ad900e5d46b4308fc62f5d69446a...   \n",
              "1  e09e10e67812e9d236ad900e5d46b4308fc62f5d69446a...   \n",
              "2  e09e10e67812e9d236ad900e5d46b4308fc62f5d69446a...   \n",
              "3  e09e10e67812e9d236ad900e5d46b4308fc62f5d69446a...   \n",
              "4  e09e10e67812e9d236ad900e5d46b4308fc62f5d69446a...   \n",
              "\n",
              "                                          utm_source  \\\n",
              "0  3d59f7548e1af2151b64135003ce63c0a484c26b9b8b16...   \n",
              "1  3d59f7548e1af2151b64135003ce63c0a484c26b9b8b16...   \n",
              "2  bbdefa2950f49882f295b1285d4fa9dec45fc4144bfb07...   \n",
              "3  bbdefa2950f49882f295b1285d4fa9dec45fc4144bfb07...   \n",
              "4  3d59f7548e1af2151b64135003ce63c0a484c26b9b8b16...   \n",
              "\n",
              "                                          utm_medium  \\\n",
              "0  268ad70eb5bc4737a2ae28162cbca30118cc94520e49ef...   \n",
              "1  268ad70eb5bc4737a2ae28162cbca30118cc94520e49ef...   \n",
              "2  09076eb7665d1fb9389c7c4517fee0b00e43092eb34821...   \n",
              "3  09076eb7665d1fb9389c7c4517fee0b00e43092eb34821...   \n",
              "4  268ad70eb5bc4737a2ae28162cbca30118cc94520e49ef...   \n",
              "\n",
              "                                            des_city  \\\n",
              "0  ecc0e7dc084f141b29479058967d0bc07dee25d9690a98...   \n",
              "1  5372372f3bf5896820cb2819300c3e681820d82c6efc54...   \n",
              "2  11ab03a1a8c367191355c152f39fe28cae5e426fce49ef...   \n",
              "3  19372fa44c57a01c37a5a8418779ca3d99b0b59731fb35...   \n",
              "4  ecc0e7dc084f141b29479058967d0bc07dee25d9690a98...   \n",
              "\n",
              "                                         des_country  \\\n",
              "0  8d23a6e37e0a6431a8f1b43a91026dcff51170a89a6512...   \n",
              "1  8d23a6e37e0a6431a8f1b43a91026dcff51170a89a6512...   \n",
              "2  8d23a6e37e0a6431a8f1b43a91026dcff51170a89a6512...   \n",
              "3  8d23a6e37e0a6431a8f1b43a91026dcff51170a89a6512...   \n",
              "4  8d23a6e37e0a6431a8f1b43a91026dcff51170a89a6512...   \n",
              "\n",
              "                                             lead_id  \n",
              "0  cd5dc0d9393f3980d11d4ba6f88f8110c2b7a7f7796307...  \n",
              "1  b94693673a5f7178d1b114e4004ad52377d3244dd24a3d...  \n",
              "2  96ea4e2bf04496c044745938c0299c264c3f4ba079e572...  \n",
              "3  1d2b34d8add02a182a4129023766ca4585a8ddced0e5b3...  \n",
              "4  fc10fffd29cfbe93c55158fb47752a7501c211d253468c...  "
            ],
            "text/html": [
              "\n",
              "  <div id=\"df-660e088f-cf1f-4ba4-8fe2-a700c84e7bb7\">\n",
              "    <div class=\"colab-df-container\">\n",
              "      <div>\n",
              "<style scoped>\n",
              "    .dataframe tbody tr th:only-of-type {\n",
              "        vertical-align: middle;\n",
              "    }\n",
              "\n",
              "    .dataframe tbody tr th {\n",
              "        vertical-align: top;\n",
              "    }\n",
              "\n",
              "    .dataframe thead th {\n",
              "        text-align: right;\n",
              "    }\n",
              "</style>\n",
              "<table border=\"1\" class=\"dataframe\">\n",
              "  <thead>\n",
              "    <tr style=\"text-align: right;\">\n",
              "      <th></th>\n",
              "      <th>Agent_id</th>\n",
              "      <th>status</th>\n",
              "      <th>lost_reason</th>\n",
              "      <th>budget</th>\n",
              "      <th>lease</th>\n",
              "      <th>movein</th>\n",
              "      <th>source</th>\n",
              "      <th>source_city</th>\n",
              "      <th>source_country</th>\n",
              "      <th>utm_source</th>\n",
              "      <th>utm_medium</th>\n",
              "      <th>des_city</th>\n",
              "      <th>des_country</th>\n",
              "      <th>lead_id</th>\n",
              "    </tr>\n",
              "  </thead>\n",
              "  <tbody>\n",
              "    <tr>\n",
              "      <th>0</th>\n",
              "      <td>1deba9e96f404694373de9749ddd1ca8aa7bb823145a6f...</td>\n",
              "      <td>LOST</td>\n",
              "      <td>Not responding</td>\n",
              "      <td>£60 - £120 Per week</td>\n",
              "      <td>Full Year Course Stay 40 - 44 weeks</td>\n",
              "      <td>10/09/22</td>\n",
              "      <td>7aae3e886e89fc1187a5c47d6cea1c22998ee610ade1f2...</td>\n",
              "      <td>ecc0e7dc084f141b29479058967d0bc07dee25d9690a98...</td>\n",
              "      <td>e09e10e67812e9d236ad900e5d46b4308fc62f5d69446a...</td>\n",
              "      <td>3d59f7548e1af2151b64135003ce63c0a484c26b9b8b16...</td>\n",
              "      <td>268ad70eb5bc4737a2ae28162cbca30118cc94520e49ef...</td>\n",
              "      <td>ecc0e7dc084f141b29479058967d0bc07dee25d9690a98...</td>\n",
              "      <td>8d23a6e37e0a6431a8f1b43a91026dcff51170a89a6512...</td>\n",
              "      <td>cd5dc0d9393f3980d11d4ba6f88f8110c2b7a7f7796307...</td>\n",
              "    </tr>\n",
              "    <tr>\n",
              "      <th>1</th>\n",
              "      <td>299ae77a4ef350ae0dd37d6bba1c002d03444fb1edb236...</td>\n",
              "      <td>LOST</td>\n",
              "      <td>Low budget</td>\n",
              "      <td>£60 - £120 Per week</td>\n",
              "      <td>Full Year Course Stay 40 - 44 weeks</td>\n",
              "      <td>10/09/22</td>\n",
              "      <td>7aae3e886e89fc1187a5c47d6cea1c22998ee610ade1f2...</td>\n",
              "      <td>ecc0e7dc084f141b29479058967d0bc07dee25d9690a98...</td>\n",
              "      <td>e09e10e67812e9d236ad900e5d46b4308fc62f5d69446a...</td>\n",
              "      <td>3d59f7548e1af2151b64135003ce63c0a484c26b9b8b16...</td>\n",
              "      <td>268ad70eb5bc4737a2ae28162cbca30118cc94520e49ef...</td>\n",
              "      <td>5372372f3bf5896820cb2819300c3e681820d82c6efc54...</td>\n",
              "      <td>8d23a6e37e0a6431a8f1b43a91026dcff51170a89a6512...</td>\n",
              "      <td>b94693673a5f7178d1b114e4004ad52377d3244dd24a3d...</td>\n",
              "    </tr>\n",
              "    <tr>\n",
              "      <th>2</th>\n",
              "      <td>c213697430c006013012dd2aca82dd9732aa0a1a6bca13...</td>\n",
              "      <td>LOST</td>\n",
              "      <td>Not responding</td>\n",
              "      <td>£121 - £180 Per Week</td>\n",
              "      <td>Full Year Course Stay 40 - 44 weeks</td>\n",
              "      <td>31/08/22</td>\n",
              "      <td>7aae3e886e89fc1187a5c47d6cea1c22998ee610ade1f2...</td>\n",
              "      <td>9b8cc3c63cdf447e463c11544924bf027945cbd29675f7...</td>\n",
              "      <td>e09e10e67812e9d236ad900e5d46b4308fc62f5d69446a...</td>\n",
              "      <td>bbdefa2950f49882f295b1285d4fa9dec45fc4144bfb07...</td>\n",
              "      <td>09076eb7665d1fb9389c7c4517fee0b00e43092eb34821...</td>\n",
              "      <td>11ab03a1a8c367191355c152f39fe28cae5e426fce49ef...</td>\n",
              "      <td>8d23a6e37e0a6431a8f1b43a91026dcff51170a89a6512...</td>\n",
              "      <td>96ea4e2bf04496c044745938c0299c264c3f4ba079e572...</td>\n",
              "    </tr>\n",
              "    <tr>\n",
              "      <th>3</th>\n",
              "      <td>eac9815a500f908736d303e23aa227f0957177b0e6756b...</td>\n",
              "      <td>LOST</td>\n",
              "      <td>Low budget</td>\n",
              "      <td>0-0</td>\n",
              "      <td>0</td>\n",
              "      <td>10/09/22</td>\n",
              "      <td>ba2d0a29556ac20f86f45e4543c0825428cba33fd7a9ea...</td>\n",
              "      <td>a5f0d2d08eb0592087e3a3a2f9c1ba2c67cc30f2efd2bd...</td>\n",
              "      <td>e09e10e67812e9d236ad900e5d46b4308fc62f5d69446a...</td>\n",
              "      <td>bbdefa2950f49882f295b1285d4fa9dec45fc4144bfb07...</td>\n",
              "      <td>09076eb7665d1fb9389c7c4517fee0b00e43092eb34821...</td>\n",
              "      <td>19372fa44c57a01c37a5a8418779ca3d99b0b59731fb35...</td>\n",
              "      <td>8d23a6e37e0a6431a8f1b43a91026dcff51170a89a6512...</td>\n",
              "      <td>1d2b34d8add02a182a4129023766ca4585a8ddced0e5b3...</td>\n",
              "    </tr>\n",
              "    <tr>\n",
              "      <th>4</th>\n",
              "      <td>1deba9e96f404694373de9749ddd1ca8aa7bb823145a6f...</td>\n",
              "      <td>LOST</td>\n",
              "      <td>Junk lead</td>\n",
              "      <td>£60 - £120 Per week</td>\n",
              "      <td>Full Year Course Stay 40 - 44 weeks</td>\n",
              "      <td>10/09/22</td>\n",
              "      <td>7aae3e886e89fc1187a5c47d6cea1c22998ee610ade1f2...</td>\n",
              "      <td>ecc0e7dc084f141b29479058967d0bc07dee25d9690a98...</td>\n",
              "      <td>e09e10e67812e9d236ad900e5d46b4308fc62f5d69446a...</td>\n",
              "      <td>3d59f7548e1af2151b64135003ce63c0a484c26b9b8b16...</td>\n",
              "      <td>268ad70eb5bc4737a2ae28162cbca30118cc94520e49ef...</td>\n",
              "      <td>ecc0e7dc084f141b29479058967d0bc07dee25d9690a98...</td>\n",
              "      <td>8d23a6e37e0a6431a8f1b43a91026dcff51170a89a6512...</td>\n",
              "      <td>fc10fffd29cfbe93c55158fb47752a7501c211d253468c...</td>\n",
              "    </tr>\n",
              "  </tbody>\n",
              "</table>\n",
              "</div>\n",
              "      <button class=\"colab-df-convert\" onclick=\"convertToInteractive('df-660e088f-cf1f-4ba4-8fe2-a700c84e7bb7')\"\n",
              "              title=\"Convert this dataframe to an interactive table.\"\n",
              "              style=\"display:none;\">\n",
              "        \n",
              "  <svg xmlns=\"http://www.w3.org/2000/svg\" height=\"24px\"viewBox=\"0 0 24 24\"\n",
              "       width=\"24px\">\n",
              "    <path d=\"M0 0h24v24H0V0z\" fill=\"none\"/>\n",
              "    <path d=\"M18.56 5.44l.94 2.06.94-2.06 2.06-.94-2.06-.94-.94-2.06-.94 2.06-2.06.94zm-11 1L8.5 8.5l.94-2.06 2.06-.94-2.06-.94L8.5 2.5l-.94 2.06-2.06.94zm10 10l.94 2.06.94-2.06 2.06-.94-2.06-.94-.94-2.06-.94 2.06-2.06.94z\"/><path d=\"M17.41 7.96l-1.37-1.37c-.4-.4-.92-.59-1.43-.59-.52 0-1.04.2-1.43.59L10.3 9.45l-7.72 7.72c-.78.78-.78 2.05 0 2.83L4 21.41c.39.39.9.59 1.41.59.51 0 1.02-.2 1.41-.59l7.78-7.78 2.81-2.81c.8-.78.8-2.07 0-2.86zM5.41 20L4 18.59l7.72-7.72 1.47 1.35L5.41 20z\"/>\n",
              "  </svg>\n",
              "      </button>\n",
              "      \n",
              "  <style>\n",
              "    .colab-df-container {\n",
              "      display:flex;\n",
              "      flex-wrap:wrap;\n",
              "      gap: 12px;\n",
              "    }\n",
              "\n",
              "    .colab-df-convert {\n",
              "      background-color: #E8F0FE;\n",
              "      border: none;\n",
              "      border-radius: 50%;\n",
              "      cursor: pointer;\n",
              "      display: none;\n",
              "      fill: #1967D2;\n",
              "      height: 32px;\n",
              "      padding: 0 0 0 0;\n",
              "      width: 32px;\n",
              "    }\n",
              "\n",
              "    .colab-df-convert:hover {\n",
              "      background-color: #E2EBFA;\n",
              "      box-shadow: 0px 1px 2px rgba(60, 64, 67, 0.3), 0px 1px 3px 1px rgba(60, 64, 67, 0.15);\n",
              "      fill: #174EA6;\n",
              "    }\n",
              "\n",
              "    [theme=dark] .colab-df-convert {\n",
              "      background-color: #3B4455;\n",
              "      fill: #D2E3FC;\n",
              "    }\n",
              "\n",
              "    [theme=dark] .colab-df-convert:hover {\n",
              "      background-color: #434B5C;\n",
              "      box-shadow: 0px 1px 3px 1px rgba(0, 0, 0, 0.15);\n",
              "      filter: drop-shadow(0px 1px 2px rgba(0, 0, 0, 0.3));\n",
              "      fill: #FFFFFF;\n",
              "    }\n",
              "  </style>\n",
              "\n",
              "      <script>\n",
              "        const buttonEl =\n",
              "          document.querySelector('#df-660e088f-cf1f-4ba4-8fe2-a700c84e7bb7 button.colab-df-convert');\n",
              "        buttonEl.style.display =\n",
              "          google.colab.kernel.accessAllowed ? 'block' : 'none';\n",
              "\n",
              "        async function convertToInteractive(key) {\n",
              "          const element = document.querySelector('#df-660e088f-cf1f-4ba4-8fe2-a700c84e7bb7');\n",
              "          const dataTable =\n",
              "            await google.colab.kernel.invokeFunction('convertToInteractive',\n",
              "                                                     [key], {});\n",
              "          if (!dataTable) return;\n",
              "\n",
              "          const docLinkHtml = 'Like what you see? Visit the ' +\n",
              "            '<a target=\"_blank\" href=https://colab.research.google.com/notebooks/data_table.ipynb>data table notebook</a>'\n",
              "            + ' to learn more about interactive tables.';\n",
              "          element.innerHTML = '';\n",
              "          dataTable['output_type'] = 'display_data';\n",
              "          await google.colab.output.renderOutput(dataTable, element);\n",
              "          const docLink = document.createElement('div');\n",
              "          docLink.innerHTML = docLinkHtml;\n",
              "          element.appendChild(docLink);\n",
              "        }\n",
              "      </script>\n",
              "    </div>\n",
              "  </div>\n",
              "  "
            ]
          },
          "metadata": {},
          "execution_count": 17
        }
      ]
    },
    {
      "cell_type": "code",
      "source": [
        "data.describe().T['unique']"
      ],
      "metadata": {
        "colab": {
          "base_uri": "https://localhost:8080/"
        },
        "id": "mikfa_PQDbeK",
        "outputId": "ddaf66f7-a980-4a62-aba4-e557d5e8c76b"
      },
      "execution_count": 18,
      "outputs": [
        {
          "output_type": "execute_result",
          "data": {
            "text/plain": [
              "Agent_id            120\n",
              "status                6\n",
              "lost_reason          30\n",
              "budget             1857\n",
              "lease               311\n",
              "movein              477\n",
              "source              682\n",
              "source_city        4335\n",
              "source_country      185\n",
              "utm_source           34\n",
              "utm_medium           63\n",
              "des_city            219\n",
              "des_country          14\n",
              "lead_id           30574\n",
              "Name: unique, dtype: object"
            ]
          },
          "metadata": {},
          "execution_count": 18
        }
      ]
    },
    {
      "cell_type": "code",
      "source": [
        "data.shape"
      ],
      "metadata": {
        "colab": {
          "base_uri": "https://localhost:8080/"
        },
        "id": "arF982v5DnFk",
        "outputId": "4030f9b0-2cb7-4c56-f2c3-50f82f2ede91"
      },
      "execution_count": 19,
      "outputs": [
        {
          "output_type": "execute_result",
          "data": {
            "text/plain": [
              "(46608, 14)"
            ]
          },
          "metadata": {},
          "execution_count": 19
        }
      ]
    },
    {
      "cell_type": "code",
      "source": [
        "data['status'].value_counts()"
      ],
      "metadata": {
        "colab": {
          "base_uri": "https://localhost:8080/"
        },
        "id": "nz-PzIIWDpun",
        "outputId": "b33a9d56-6fff-406c-fc43-c3a97a35f368"
      },
      "execution_count": 20,
      "outputs": [
        {
          "output_type": "execute_result",
          "data": {
            "text/plain": [
              "LOST           43244\n",
              "WON             3073\n",
              "OPPORTUNITY      254\n",
              "CONTACTED         28\n",
              "PROCESSING         8\n",
              "IMPORTANT          1\n",
              "Name: status, dtype: int64"
            ]
          },
          "metadata": {},
          "execution_count": 20
        }
      ]
    },
    {
      "cell_type": "code",
      "source": [
        "# We can remove all entries except LOST and WON\n",
        "\n",
        "data = data[(data['status'] == 'WON') | (data['status'] == 'LOST')]"
      ],
      "metadata": {
        "id": "vodvhQ-YD1f9"
      },
      "execution_count": 21,
      "outputs": []
    },
    {
      "cell_type": "code",
      "source": [
        "data['status'].value_counts()"
      ],
      "metadata": {
        "colab": {
          "base_uri": "https://localhost:8080/"
        },
        "id": "cKsyQrREEDSD",
        "outputId": "a0cdafd9-4f1c-4a29-f8e8-0687e0e3b75a"
      },
      "execution_count": 22,
      "outputs": [
        {
          "output_type": "execute_result",
          "data": {
            "text/plain": [
              "LOST    43244\n",
              "WON      3073\n",
              "Name: status, dtype: int64"
            ]
          },
          "metadata": {},
          "execution_count": 22
        }
      ]
    },
    {
      "cell_type": "code",
      "source": [
        "# Printing Normalized value counts of all columns\n",
        "\n",
        "def value_count_all(data):\n",
        "  for c in data.columns:\n",
        "    print(data[c].value_counts(normalize=True)*100)\n",
        "\n",
        "value_count_all(data)"
      ],
      "metadata": {
        "colab": {
          "base_uri": "https://localhost:8080/"
        },
        "id": "4xq7SM8IEN4x",
        "outputId": "ab12b2e0-c2d8-41d9-872f-9be0e71a81eb"
      },
      "execution_count": 23,
      "outputs": [
        {
          "output_type": "stream",
          "name": "stdout",
          "text": [
            "2fca346db656187102ce806ac732e06a62df0dbb2829e511a770556d398e1a6e    17.673856\n",
            "96ab6152cb421b4d4012a4903c19004608a342a5f7c6671a7828b8ad8d5b9489     3.132759\n",
            "44864c96fa1c36602f0d045b268981b6cab638a60fc207c89e3bba235f619450     2.761405\n",
            "fb3e2c0015ad5bcd60d7619ca575a56c15c5d2cd3f01f18e68c4dfaeee585db5     2.385733\n",
            "eac9815a500f908736d303e23aa227f0957177b0e6756b915a3d3cc3a846b83b     2.308008\n",
            "                                                                      ...    \n",
            "e16d12cd21f38bc8253f65cc5c0bf4932cf1397ba1c60682b2a99049e0e7ceed     0.002159\n",
            "04222ea3e14cb1209b9726defe3efce5196b7afa0a959854a30401be41f4026d     0.002159\n",
            "fb87e6cf60af08595bd9fcf1f006a12f1338cb4480acea383b3b65da10bb9f28     0.002159\n",
            "c904d4c3485db6569c9deb41da845d82056e8843eafba8bc8a90aaa06df96963     0.002159\n",
            "59e19706d51d39f66711c2653cd7eb1291c94d9b55eb14bda74ce4dc636d015a     0.002159\n",
            "Name: Agent_id, Length: 120, dtype: float64\n",
            "LOST    93.365287\n",
            "WON      6.634713\n",
            "Name: status, dtype: float64\n",
            "Low availability                  25.832848\n",
            "Not responding                    16.898763\n",
            "Not interested                    13.923613\n",
            "Low budget                        11.885485\n",
            "Wants private accommodation        6.004275\n",
            "Short stay                         4.888054\n",
            "Not a student                      3.277414\n",
            "Just Enquiring                     2.726861\n",
            "Inadequate details                 1.785522\n",
            "Semester stay                      1.763931\n",
            "Booked with manager                1.459507\n",
            "Junk lead                          1.358033\n",
            "Booked on campus accommodation     1.323488\n",
            "Supply issue                       1.161561\n",
            "No supply                          1.152924\n",
            "Not serving in that region         0.887363\n",
            "Repeat lead                        0.850660\n",
            "Booked with competitor             0.768616\n",
            "Not going to university            0.710322\n",
            "Distance issue                     0.472829\n",
            "Junk lead/ Just Enquiring          0.317378\n",
            "Lead issue                         0.274197\n",
            "Looking for admission              0.088520\n",
            "Didn't respond in time             0.075566\n",
            "Visa/admission denied              0.036704\n",
            "Guarantor issue                    0.036704\n",
            "Looking for Scholarship            0.017272\n",
            "Looking for loan                   0.010795\n",
            "Underage student                   0.008636\n",
            "Cross sell                         0.002159\n",
            "Name: lost_reason, dtype: float64\n",
            "£60 - £120 Per week     29.026060\n",
            "£121 - £180 Per Week    19.167908\n",
            "0-0                     12.347518\n",
            "£181 - £240 Per Week     4.626811\n",
            "100                      3.257983\n",
            "                          ...    \n",
            "0-80-100$                0.002159\n",
            "0-235                    0.002159\n",
            "£120-160 Per Week        0.002159\n",
            "1400 per month           0.002159\n",
            "0-500 PCM                0.002159\n",
            "Name: budget, Length: 1851, dtype: float64\n",
            "Full Year Course Stay 40 - 44 weeks           28.792884\n",
            "0                                             16.274802\n",
            "Complete Education Year Stay 50 - 52 weeks    13.927931\n",
            "51                                             8.532504\n",
            "Semester Stay 20 - 24 weeks                    5.943822\n",
            "                                                ...    \n",
            "36-40 weeks                                    0.002159\n",
            "12 month                                       0.002159\n",
            "44 weeks/51 weeks                              0.002159\n",
            "full year stayt                                0.002159\n",
            "78                                             0.002159\n",
            "Name: lease, Length: 311, dtype: float64\n",
            "10/09/22    34.674094\n",
            "31/08/22     4.721808\n",
            "01/09/22     4.572835\n",
            "09/09/22     3.374571\n",
            "17/09/22     3.070147\n",
            "              ...    \n",
            "26/04/23     0.002159\n",
            "10/06/23     0.002159\n",
            "05/01/24     0.002159\n",
            "06/09/06     0.002159\n",
            "06/06/23     0.002159\n",
            "Name: movein, Length: 469, dtype: float64\n",
            "7aae3e886e89fc1187a5c47d6cea1c22998ee610ade1f2b7c51be879f0c37ca8    54.068700\n",
            "7bcfca0e9d73371699b0adbf1c691e02108fa64f02f4dbe24a0217f139a9b916     8.191377\n",
            "ba2d0a29556ac20f86f45e4543c0825428cba33fd7a9eaa29e3f169d2ca43b2b     7.742298\n",
            "146fb4ecbe78caa24102bbaac12e2559a8c8e32fb116d36e3553a709fce40549     4.771466\n",
            "d684761c17c11590f6e2525b48141cb2c0c6f2be5df4e229dae06e64c5c41b64     4.596584\n",
            "                                                                      ...    \n",
            "ab4556b4118e9689282ac334ed94636124b8d4a531e2db6c2623eb0437de1ab2     0.002159\n",
            "ff25c08fc834360514f4fbc6434c2bb381ad04ea984ea86c2a0f5fb6ec94a831     0.002159\n",
            "fde7c38145e98695f302f2eb113737bcf9e6b3b0ec4ab2723f4d6610cc97813f     0.002159\n",
            "f4dd29fa0ded5c9ca30c96015bf8147165bfce38964c3842352d7a013b870ac9     0.002159\n",
            "93bee3e177d17c128e6a6af7b88fd675d7ec729b1a88ae13c582248dfd702378     0.002159\n",
            "Name: source, Length: 682, dtype: float64\n",
            "ecc0e7dc084f141b29479058967d0bc07dee25d9690a98ee4e6fdad5168274d7    25.586718\n",
            "b384863fa1f6e091164b74219726eee0b9dd47776b91a4dc71fd0516630d21ec     3.089578\n",
            "9f2ba6981e36ea0fca6c16f42e6413d788d2a7499b8b7f418c5d76f12d191f02     1.843815\n",
            "7d1550b844ff586a6023216c06263105eed0a849a2a1f69bb8862ab288d8cdab     1.623594\n",
            "810c069040f6a9b16fdf976a901755508a87cb0224b169d4b5d803357e647947     1.455189\n",
            "                                                                      ...    \n",
            "67e6f8c1f6f47e01ab6fe1cbbc3d4115d71f63c6ebf82a8713a6ac04a5b5236c     0.002159\n",
            "c2cedb3b32de2ae419a258d76f4fa82ee302441fbae041acf9a13770dfa18eb0     0.002159\n",
            "e2f36920bce1be5e4c94b165dcbd09cf454f5990d8869c5cc483e0723e34595c     0.002159\n",
            "06065eeea31a9f7eeaf11e335f9a6a67235fc40f12d50b06b84fcbcb5ed70dd2     0.002159\n",
            "d650065b53c2284b98e575d37e1be820599bf33baff5e147770547a984975d2f     0.002159\n",
            "Name: source_city, Length: 4315, dtype: float64\n",
            "e09e10e67812e9d236ad900e5d46b4308fc62f5d69446a9750aa698e797e9c96    58.917892\n",
            "8da82000ef9c4468ba47362a924b895e40662fed846942a1870a674e5c6d1fc2    15.016085\n",
            "e39b0c5e88f19053d3a917669bc9d60729f351e064ca0c94f5dc73f4e676333f     4.335341\n",
            "38fe804a1f9ec032ad876bd7192c1f706e1402831e163cf72702b1f451f40cac     2.141762\n",
            "0207c236c5ad89235d814b1e1807f6fdc1930810439489f76600e1672338e42b     0.995315\n",
            "                                                                      ...    \n",
            "0b6e4801d2a43e3c5dc06d5b68524bd9e80e425610b531d977b5713d59df47b6     0.002159\n",
            "4a89aa60736d863a5fda8aa2305e299e1c3bea690fe4775363fbf2762102b273     0.002159\n",
            "b828c41f8b20d533c028d8a4e1019fe0b16bb14d4b7114a662365d08e89a1bea     0.002159\n",
            "39ae135c41c0e9f97bdbe7449f5320052c6a699cbf0fcbd95dc17f6465f0d34e     0.002159\n",
            "282a5dbb9d8cb1ea0caf847b5aaca66cf1a76b5e57ddbbd2dd7db8204f553c5c     0.002159\n",
            "Name: source_country, Length: 184, dtype: float64\n",
            "bbdefa2950f49882f295b1285d4fa9dec45fc4144bfb07ee6acc68762d12c2e3    66.787573\n",
            "7f3fa48ca885678134842fa7456f3ece53a97f843b610185d900ac4e467c7490    10.259732\n",
            "3d59f7548e1af2151b64135003ce63c0a484c26b9b8b166a7b1c1805ec34b00a     4.268411\n",
            "3c77f261a156a5308fee53720276395ef78d2e7367e4225a3d3d93f4accd1dd3     3.758879\n",
            "d15690f08a575024650b01ffac892cfd2b93e6c57c140f1b6d9e47753cabd579     3.294687\n",
            "9ac56ef275bb33f0f931abd846e53e845a80af8a549100741e928b8b2abd56a7     2.698793\n",
            "ec8202b6f9fb16f9e26b66367afa4e037752f3c09a18cefab426165e06a424b1     2.260509\n",
            "4f48c17d2a97a7461a12d0d07336f808e70a1248a7082dbb103047f54090c158     1.865406\n",
            "44574c4ba2ea74ad4bf1e184133cdbf4e7390a3690beff6a7364511a70ec208e     1.180992\n",
            "4688fa9ce4f64d0451be91f30a3de24a1c1c41635bd221694b2a96f9ecd8d717     0.958611\n",
            "5ede56738376a8c53a7c99bf275b077a5c10df780a20cf3d8282fd59a2a9fb56     0.509532\n",
            "7edb360f06acaef2cc80dba16cf563f199d347db4443da04da0c8173e3f9e4ed     0.373513\n",
            "3f40462915a3e6026a4d790127b95ded4d870f6ab18d9af2fcbc454168255237     0.371354\n",
            "ce43ccb66a63d70dd24b992aedbea52eee4229a1f21ff5ed31592f33ca411101     0.364877\n",
            "dfc547927d5d24adeba89e786ac0ef05ca3e54ba2ef9474f8aa384129e625d2e     0.336809\n",
            "3e6f3ef30c9311c7086582f5a7f015c3485ba4d2cbccbb059c19122e2c6ea359     0.284993\n",
            "c403c7c6714ba1fb7bd9143d9c6bd1563264a73d8ae0b42c35981083e91fef06     0.129542\n",
            "82244417f956ac7c599f191593f7e441a4fafa20a4158fd52e154f1dc4c8ed92     0.062612\n",
            "5b8eeb90771c2031be0b865d6688c14f7d9dcf7468d8d8d43609cec71358bee9     0.051817\n",
            "ea570171fe0efcf2d84523f065e87c88b5f3a6917f764d0c2e0431a2ae7b5008     0.045340\n",
            "a7a4ded2d5035adb26a222c67032f04cfcd2279ab508cf2a7ff612aead97551e     0.041022\n",
            "c0e25571ed238121c1b1b8ccab09d0008d49655d544048012aba724a68c7ca45     0.021590\n",
            "5f98c624a309a8ec6d3b21d5ec8ce65a77fb168d81c92b66a60ba233121eb2ae     0.019431\n",
            "def53e95f1fc7a2aa7dbc4685f282f1e3e4ea3b364b07622e58edb15d239b252     0.012954\n",
            "4ca9572c7992eb27f83ab631847003d62a2192ecf701de0144dca478ff417063     0.010795\n",
            "924744e8f750495b295e4a6bc44dc51e7fce202af548e8ac8feb8289de90e496     0.006477\n",
            "24e6654bfd1ab85bebb1f721a4be46e6fdb9ea8974d14442d3aaecd1f971fcbb     0.004318\n",
            "7d71fa7a6bd0b0f416e818068a0aceaddc9914df674afae5ebd7dcdf63e73e90     0.004318\n",
            "0eab32ba11e1109468b27cc6230d5dfe340884f0d0d69104e5100e5f89aad44b     0.004318\n",
            "1978e143e8164cab9c00b10bf43b91f67256d0ae9f119058bdbaa9a0bf286758     0.002159\n",
            "a2d2ce979efb493c36afe9cf8c6c95dfe8c831cabd13590d487febceb2229327     0.002159\n",
            "24f353e0da1ced9f24b1226887fdb88cc7a34865e283c921248e8f5d52c3ae68     0.002159\n",
            "3e96141c21704e96af6257ea41c0fc690ce0504c8529dc424dc8b245b6343c0f     0.002159\n",
            "50e721e49c013f00c62cf59f2163542a9d8df02464efeb615d31051b0fddc326     0.002159\n",
            "Name: utm_source, dtype: float64\n",
            "09076eb7665d1fb9389c7c4517fee0b00e43092eb34821b09b5730c41ebcc50c    74.888270\n",
            "09bc8f0bb77bdddeb98527a39e995c2c605166399c178cb296992abab8415d5b     3.793424\n",
            "69f81619d0ef92cbb165a44e76f4f0c284d2aa83c318fa7fb632207f68215647     3.577520\n",
            "268ad70eb5bc4737a2ae28162cbca30118cc94520e49ef1ac5f72c85d3f2caa9     3.501954\n",
            "82244417f956ac7c599f191593f7e441a4fafa20a4158fd52e154f1dc4c8ed92     2.431073\n",
            "                                                                      ...    \n",
            "974f37cbfab65a440154a8435e81f1928b6cf003b2885291e7c6fddd530ede65     0.002159\n",
            "6a3aea19761ac8238e4e1d298f15207fe12375f13cb79dfba243aabed36163ca     0.002159\n",
            "ad89c0825db17eb2c0b1a0d1a04f712b1c531ac84a6c92901a7f29e96adae9ce     0.002159\n",
            "511f27cf310544befd3236d40f86ec47f539c4722370acde0f4df8b6616c8553     0.002159\n",
            "5f5238f61f941641a13c52f68a37a1de3e3d981b57506b82aa36d5b85d09c8b7     0.002159\n",
            "Name: utm_medium, Length: 63, dtype: float64\n",
            "ecc0e7dc084f141b29479058967d0bc07dee25d9690a98ee4e6fdad5168274d7    21.270808\n",
            "810c069040f6a9b16fdf976a901755508a87cb0224b169d4b5d803357e647947     7.446510\n",
            "11ab03a1a8c367191355c152f39fe28cae5e426fce49efb320230ca4ae3f97a1     6.703802\n",
            "8593b9db65212160979d946950601c26622a219c80f1f122679eb69ec5b96600     4.333182\n",
            "6a5ed83658ef85afc77709cc16ede854ad98e3c2ad8b076e10dcbcd6e5096271     3.668200\n",
            "                                                                      ...    \n",
            "6b9031df058346a877deaba0a830b576fa81b9da8692e183e4eb4c9dc949054c     0.002159\n",
            "829228a55ddc193d4f48f1249126cd689365f5f7fe55383ead8afc2b8676de8c     0.002159\n",
            "b9ae62ede2dad179198540d5a84bf5e432f8f36c370d906b9a8224d04582d9d0     0.002159\n",
            "80aa149d3dedd651f836d1071659255aa4843801d79d5df18ddb8d5df1dcf32d     0.002159\n",
            "806b1459b451fcbf14da3e1f61c2e0379e840b0a20badf7f6d4fdc7b3b9329b8     0.002159\n",
            "Name: des_city, Length: 219, dtype: float64\n",
            "8d23a6e37e0a6431a8f1b43a91026dcff51170a89a6512ff098eaa56a4d5fb19    96.983829\n",
            "02bf1dfa9a0365a86223f0e4ac9eaa0517b06b2e9273790f719feda656a247ae     1.604163\n",
            "80db4ccdca106d37b920206331fcfe3e9e50a9e763d89b54ce3ad5ac8cf30f03     0.349764\n",
            "be55ef3f4c4e6c2d9c2afe2a33ac90ad0f50d4de7f9163999877e2a9ca5a54f8     0.321696\n",
            "7a1ca4ef7515f7276bae7230545829c27810c9d9e98ab2c06066bee6270d5153     0.246130\n",
            "c1ef40ce0484c698eb4bd27fe56c1e7b68d74f9780ed674210d0e5013dae45e9     0.166246\n",
            "5a9cf672c8be6b5ab9546a2fb49b06dd81a4e364c86ed023898c49d9bb0605dc     0.123065\n",
            "49dca65f362fee401292ed7ada96f96295eab1e589c52e4e66bf4aedda715fdd     0.056135\n",
            "abd149214539d9f222d25de6358735b9fa0efd3956f66102b2c119ae2d9f6348     0.049658\n",
            "8ef41e6f4b07432a0cb4eb7a8774e7a3878fd3e385f49aa09b406768467db228     0.047499\n",
            "4c7de2c3da6dc0ae8f9d13b107718a913859359bd30166d077c867577953865d     0.036704\n",
            "3a386c13d283dc2ebbe2aeffc1ab3930d086b28956930d913d8dc58f34c013b7     0.008636\n",
            "2275583196d791405892aaca0d87743c872f3fc0cf3308a6c3ef82528918aa8a     0.004318\n",
            "dd64913c8b91d76ca27b371f0b86fd30452370469b8cadf4e5a61d41d14e42ec     0.002159\n",
            "Name: des_country, dtype: float64\n",
            "93c256d77b219e1ae23da9b1d016bf5f718d4cfaa216678358782fa5671b4b41    0.004318\n",
            "86c8429c64453252af2de71948cf75573557878d9e1803754a37bdb93089d029    0.004318\n",
            "f83a46abd7ab0c718497ba8b8fae402c2ca342f87fe8d5b3b120751affde3fbe    0.004318\n",
            "b0926d92fade8b9a855f647f68bdf98edadfd5bfefed0d31506e8cd07b5b8c2b    0.004318\n",
            "2a7fe1e905892f1c03e9cb8312b1e6b9c200c92aeb20811c1eafb268507d0a84    0.004318\n",
            "                                                                      ...   \n",
            "79eb12972e7d47285c07bcc4f4c2d72b3e3f0b6af4d2b5472570e8c18334a1e4    0.002159\n",
            "87dfcf5471e77980d098ff445701dbada0f6f7bac2fa5e43fa7685ec435040e1    0.002159\n",
            "9fec48b448dd438141de5cb492425b238fda660089e7188c40c362ebf04402d1    0.002159\n",
            "c023c6ad585acc1b7357e554360350bccc5a673b8cdf229b5e77dd4fe2ada055    0.002159\n",
            "7520a8abba2b44d7f37c0ddbe5f7f3d87540b2b7a670e9835c26f93767275d29    0.002159\n",
            "Name: lead_id, Length: 30491, dtype: float64\n"
          ]
        }
      ]
    },
    {
      "cell_type": "code",
      "source": [
        "# Exploring Lease\n",
        "\n",
        "data['lease'].head(50)"
      ],
      "metadata": {
        "colab": {
          "base_uri": "https://localhost:8080/"
        },
        "id": "YNISh5MlEeG2",
        "outputId": "78b1c970-9b6a-4142-aa00-5fa2d3a1e0b6"
      },
      "execution_count": 24,
      "outputs": [
        {
          "output_type": "execute_result",
          "data": {
            "text/plain": [
              "0            Full Year Course Stay 40 - 44 weeks\n",
              "1            Full Year Course Stay 40 - 44 weeks\n",
              "2            Full Year Course Stay 40 - 44 weeks\n",
              "3                                              0\n",
              "4            Full Year Course Stay 40 - 44 weeks\n",
              "5                                  semester-stay\n",
              "6                                              0\n",
              "7                                             51\n",
              "8                    Semester Stay 20 - 24 weeks\n",
              "9                                             51\n",
              "10                                 semester-stay\n",
              "11           Full Year Course Stay 40 - 44 weeks\n",
              "12           Full Year Course Stay 40 - 44 weeks\n",
              "13    Complete Education Year Stay 50 - 52 weeks\n",
              "14                              full-course-stay\n",
              "15                              full-course-stay\n",
              "16                                full-year-stay\n",
              "17                                         Other\n",
              "18           Full Year Course Stay 40 - 44 weeks\n",
              "19    Complete Education Year Stay 50 - 52 weeks\n",
              "20           Full Year Course Stay 40 - 44 weeks\n",
              "21                                             0\n",
              "22                                             0\n",
              "23    Complete Education Year Stay 50 - 52 weeks\n",
              "24    Complete Education Year Stay 50 - 52 weeks\n",
              "25                                             0\n",
              "26           Full Year Course Stay 40 - 44 weeks\n",
              "27                                             0\n",
              "28                                             0\n",
              "29                                             0\n",
              "30                                      51 weeks\n",
              "31           Full Year Course Stay 40 - 44 weeks\n",
              "32                                             0\n",
              "33                                             0\n",
              "34                                             0\n",
              "35                                             0\n",
              "36                                             0\n",
              "37                                             0\n",
              "38                                            51\n",
              "39    Complete Education Year Stay 50 - 52 weeks\n",
              "40                                             0\n",
              "41                                             0\n",
              "42                                             0\n",
              "43                                             0\n",
              "44    Complete Education Year Stay 50 - 52 weeks\n",
              "45                                      51 weeks\n",
              "46                                      51 weeks\n",
              "47                                             0\n",
              "48                                             0\n",
              "49                                             0\n",
              "Name: lease, dtype: object"
            ]
          },
          "metadata": {},
          "execution_count": 24
        }
      ]
    },
    {
      "cell_type": "code",
      "source": [
        "data['lease'] = data['lease'].str.lower()"
      ],
      "metadata": {
        "id": "rfgx1kilFmG-"
      },
      "execution_count": 25,
      "outputs": []
    },
    {
      "cell_type": "code",
      "source": [
        "data['lease'][data['lease'].str.contains('year')].value_counts()"
      ],
      "metadata": {
        "colab": {
          "base_uri": "https://localhost:8080/"
        },
        "id": "6zxLtyQnH4KE",
        "outputId": "7d675f53-f33b-415a-82fd-544bd75bf51f"
      },
      "execution_count": 26,
      "outputs": [
        {
          "output_type": "execute_result",
          "data": {
            "text/plain": [
              "full year course stay 40 - 44 weeks           13336\n",
              "complete education year stay 50 - 52 weeks     6451\n",
              "full-year-stay                                  956\n",
              "1 year                                           90\n",
              "full year stay                                   78\n",
              "full year                                        27\n",
              "academic year                                    10\n",
              "1 year .                                          5\n",
              "2 years                                           3\n",
              "1year                                             3\n",
              "full yyear stay                                   1\n",
              "6m to 1 year                                      1\n",
              "2years                                            1\n",
              "1 year stay                                       1\n",
              "full year course stay 44- 51 weeks                1\n",
              "full year stayt                                   1\n",
              "1 year stay.                                      1\n",
              "3 years                                           1\n",
              "full year course stay 51 weeks                    1\n",
              "whole year                                        1\n",
              "Name: lease, dtype: int64"
            ]
          },
          "metadata": {},
          "execution_count": 26
        }
      ]
    },
    {
      "cell_type": "code",
      "source": [
        "data['lease'][data['lease'].str.contains('academic')].value_counts()"
      ],
      "metadata": {
        "colab": {
          "base_uri": "https://localhost:8080/"
        },
        "id": "SgmZ0hg8J8sO",
        "outputId": "bcdee955-05de-490e-e250-e0c41962b0c6"
      },
      "execution_count": 27,
      "outputs": [
        {
          "output_type": "execute_result",
          "data": {
            "text/plain": [
              "academic year    10\n",
              "academic yr       1\n",
              "Name: lease, dtype: int64"
            ]
          },
          "metadata": {},
          "execution_count": 27
        }
      ]
    },
    {
      "cell_type": "code",
      "source": [
        "data['lease'][data['lease'].str.contains('education')].value_counts()"
      ],
      "metadata": {
        "colab": {
          "base_uri": "https://localhost:8080/"
        },
        "id": "aFCU1psiJ_vq",
        "outputId": "15231b05-c4a6-406b-c84d-7f9f524d303b"
      },
      "execution_count": 28,
      "outputs": [
        {
          "output_type": "execute_result",
          "data": {
            "text/plain": [
              "complete education year stay 50 - 52 weeks    6451\n",
              "Name: lease, dtype: int64"
            ]
          },
          "metadata": {},
          "execution_count": 28
        }
      ]
    },
    {
      "cell_type": "code",
      "source": [
        "data['lease'][data['lease'].str.contains('semester')].value_counts()"
      ],
      "metadata": {
        "colab": {
          "base_uri": "https://localhost:8080/"
        },
        "id": "p0vLLdDDKCA2",
        "outputId": "6bfc7a3e-0f9a-4846-81b3-52226d31e7b1"
      },
      "execution_count": 29,
      "outputs": [
        {
          "output_type": "execute_result",
          "data": {
            "text/plain": [
              "semester stay 20 - 24 weeks    2753\n",
              "semester-stay                   470\n",
              "semester stay                     5\n",
              "Name: lease, dtype: int64"
            ]
          },
          "metadata": {},
          "execution_count": 29
        }
      ]
    },
    {
      "cell_type": "code",
      "source": [
        "data['lease'] = data['lease'].replace(['full-year-stay', '1 year', 'full year stay', 'full year', '1 year .', '1year', 'full year course stay 40 - 44 weeks', 'full yyear stay', '1 year stay', 'full year course stay 44- 51 weeks', 'full year stayt', '1 year stay.', 'full year course stay 51 weeks', 'whole year'], 'full year')"
      ],
      "metadata": {
        "id": "GlnEIJKdKT7g"
      },
      "execution_count": 30,
      "outputs": []
    },
    {
      "cell_type": "code",
      "source": [
        "data['lease'][data['lease'].str.contains('year')].value_counts()"
      ],
      "metadata": {
        "colab": {
          "base_uri": "https://localhost:8080/"
        },
        "id": "h6TVOIwXZXsB",
        "outputId": "17f16843-e38c-4682-b8de-fdbac48a5d01"
      },
      "execution_count": 31,
      "outputs": [
        {
          "output_type": "execute_result",
          "data": {
            "text/plain": [
              "full year                                     14502\n",
              "complete education year stay 50 - 52 weeks     6451\n",
              "academic year                                    10\n",
              "2 years                                           3\n",
              "3 years                                           1\n",
              "2years                                            1\n",
              "6m to 1 year                                      1\n",
              "Name: lease, dtype: int64"
            ]
          },
          "metadata": {},
          "execution_count": 31
        }
      ]
    },
    {
      "cell_type": "code",
      "source": [
        "data['lease'] = data['lease'].replace(['complete education year stay 50 - 52 weeks', 'academic year', 'academic yr'], 'academic year')"
      ],
      "metadata": {
        "id": "Q8IySqlSZlvl"
      },
      "execution_count": 32,
      "outputs": []
    },
    {
      "cell_type": "code",
      "source": [
        "data['lease'][data['lease'].str.contains('academic')].value_counts()"
      ],
      "metadata": {
        "colab": {
          "base_uri": "https://localhost:8080/"
        },
        "id": "Nw9B38MAZ1wg",
        "outputId": "705e085f-6633-49c8-e478-d9aca757cc1a"
      },
      "execution_count": 33,
      "outputs": [
        {
          "output_type": "execute_result",
          "data": {
            "text/plain": [
              "academic year    6462\n",
              "Name: lease, dtype: int64"
            ]
          },
          "metadata": {},
          "execution_count": 33
        }
      ]
    },
    {
      "cell_type": "code",
      "source": [
        "data['lease'] = data['lease'].replace(['semester stay 20 - 24 weeks', 'semester-stay', 'semester stay'], 'semester stay')"
      ],
      "metadata": {
        "id": "6UFruYx2Z7xE"
      },
      "execution_count": 34,
      "outputs": []
    },
    {
      "cell_type": "code",
      "source": [
        "data['lease'].value_counts(normalize=True)*100"
      ],
      "metadata": {
        "colab": {
          "base_uri": "https://localhost:8080/"
        },
        "id": "IHBgEkrgaJtL",
        "outputId": "d059cd14-0f27-4181-e5dc-06763657efeb"
      },
      "execution_count": 35,
      "outputs": [
        {
          "output_type": "execute_result",
          "data": {
            "text/plain": [
              "full year            31.310318\n",
              "0                    16.274802\n",
              "academic year        13.951681\n",
              "51                    8.532504\n",
              "semester stay         6.969363\n",
              "                       ...    \n",
              "36-40 weeks           0.002159\n",
              "12 month              0.002159\n",
              "44 weeks/51 weeks     0.002159\n",
              "25-30 weeks           0.002159\n",
              "78                    0.002159\n",
              "Name: lease, Length: 271, dtype: float64"
            ]
          },
          "metadata": {},
          "execution_count": 35
        }
      ]
    },
    {
      "cell_type": "code",
      "source": [
        "# replace all values with less than 10% by other\n",
        "data['lease'][(data['lease'] != 'full year') & (data['lease'] != '0') & (data['lease'] != '51') & (data['lease'] != 'academic year')] = 'other'"
      ],
      "metadata": {
        "id": "HGkZpz92aQZ1"
      },
      "execution_count": 36,
      "outputs": []
    },
    {
      "cell_type": "code",
      "source": [
        "data['lease'].value_counts(normalize = True)*100"
      ],
      "metadata": {
        "colab": {
          "base_uri": "https://localhost:8080/"
        },
        "id": "CqMbpmcYbEPe",
        "outputId": "b14a62d9-dd50-4afa-e8a4-75cb38dd3de1"
      },
      "execution_count": 37,
      "outputs": [
        {
          "output_type": "execute_result",
          "data": {
            "text/plain": [
              "full year        31.310318\n",
              "other            29.930695\n",
              "0                16.274802\n",
              "academic year    13.951681\n",
              "51                8.532504\n",
              "Name: lease, dtype: float64"
            ]
          },
          "metadata": {},
          "execution_count": 37
        }
      ]
    },
    {
      "cell_type": "code",
      "source": [
        "data.columns"
      ],
      "metadata": {
        "colab": {
          "base_uri": "https://localhost:8080/"
        },
        "id": "LEssp8S7bpWr",
        "outputId": "a0259566-b62a-41f6-c2e9-d4ded19441f1"
      },
      "execution_count": 38,
      "outputs": [
        {
          "output_type": "execute_result",
          "data": {
            "text/plain": [
              "Index(['Agent_id', 'status', 'lost_reason', 'budget', 'lease', 'movein',\n",
              "       'source', 'source_city', 'source_country', 'utm_source', 'utm_medium',\n",
              "       'des_city', 'des_country', 'lead_id'],\n",
              "      dtype='object')"
            ]
          },
          "metadata": {},
          "execution_count": 38
        }
      ]
    },
    {
      "cell_type": "code",
      "source": [
        "data['Agent_id'].value_counts(normalize = True)*100"
      ],
      "metadata": {
        "colab": {
          "base_uri": "https://localhost:8080/"
        },
        "id": "DV9ognJubwVF",
        "outputId": "5a249407-a9ae-4858-f122-d7ac3f6277b6"
      },
      "execution_count": 39,
      "outputs": [
        {
          "output_type": "execute_result",
          "data": {
            "text/plain": [
              "2fca346db656187102ce806ac732e06a62df0dbb2829e511a770556d398e1a6e    17.673856\n",
              "96ab6152cb421b4d4012a4903c19004608a342a5f7c6671a7828b8ad8d5b9489     3.132759\n",
              "44864c96fa1c36602f0d045b268981b6cab638a60fc207c89e3bba235f619450     2.761405\n",
              "fb3e2c0015ad5bcd60d7619ca575a56c15c5d2cd3f01f18e68c4dfaeee585db5     2.385733\n",
              "eac9815a500f908736d303e23aa227f0957177b0e6756b915a3d3cc3a846b83b     2.308008\n",
              "                                                                      ...    \n",
              "e16d12cd21f38bc8253f65cc5c0bf4932cf1397ba1c60682b2a99049e0e7ceed     0.002159\n",
              "04222ea3e14cb1209b9726defe3efce5196b7afa0a959854a30401be41f4026d     0.002159\n",
              "fb87e6cf60af08595bd9fcf1f006a12f1338cb4480acea383b3b65da10bb9f28     0.002159\n",
              "c904d4c3485db6569c9deb41da845d82056e8843eafba8bc8a90aaa06df96963     0.002159\n",
              "59e19706d51d39f66711c2653cd7eb1291c94d9b55eb14bda74ce4dc636d015a     0.002159\n",
              "Name: Agent_id, Length: 120, dtype: float64"
            ]
          },
          "metadata": {},
          "execution_count": 39
        }
      ]
    },
    {
      "cell_type": "code",
      "source": [
        "# replace all values with less than 10% by other\n",
        "data['Agent_id'][(data['Agent_id'] != '2fca346db656187102ce806ac732e06a62df0dbb2829e511a770556d398e1a6e')] = 'other'"
      ],
      "metadata": {
        "id": "I0_tXDt4b1jI"
      },
      "execution_count": 40,
      "outputs": []
    },
    {
      "cell_type": "code",
      "source": [
        "data['Agent_id'].value_counts(normalize = True)*100"
      ],
      "metadata": {
        "colab": {
          "base_uri": "https://localhost:8080/"
        },
        "id": "wCRharMrcI9f",
        "outputId": "63c1ee53-e38a-47b9-8202-061dcbb33ef8"
      },
      "execution_count": 41,
      "outputs": [
        {
          "output_type": "execute_result",
          "data": {
            "text/plain": [
              "other                                                               82.326144\n",
              "2fca346db656187102ce806ac732e06a62df0dbb2829e511a770556d398e1a6e    17.673856\n",
              "Name: Agent_id, dtype: float64"
            ]
          },
          "metadata": {},
          "execution_count": 41
        }
      ]
    },
    {
      "cell_type": "code",
      "source": [
        "data['lost_reason'].value_counts(normalize=True)*100"
      ],
      "metadata": {
        "colab": {
          "base_uri": "https://localhost:8080/"
        },
        "id": "F9APdrZdcUCz",
        "outputId": "1cdedf1b-6f5f-40e1-ffcb-612dab35206f"
      },
      "execution_count": 42,
      "outputs": [
        {
          "output_type": "execute_result",
          "data": {
            "text/plain": [
              "Low availability                  25.832848\n",
              "Not responding                    16.898763\n",
              "Not interested                    13.923613\n",
              "Low budget                        11.885485\n",
              "Wants private accommodation        6.004275\n",
              "Short stay                         4.888054\n",
              "Not a student                      3.277414\n",
              "Just Enquiring                     2.726861\n",
              "Inadequate details                 1.785522\n",
              "Semester stay                      1.763931\n",
              "Booked with manager                1.459507\n",
              "Junk lead                          1.358033\n",
              "Booked on campus accommodation     1.323488\n",
              "Supply issue                       1.161561\n",
              "No supply                          1.152924\n",
              "Not serving in that region         0.887363\n",
              "Repeat lead                        0.850660\n",
              "Booked with competitor             0.768616\n",
              "Not going to university            0.710322\n",
              "Distance issue                     0.472829\n",
              "Junk lead/ Just Enquiring          0.317378\n",
              "Lead issue                         0.274197\n",
              "Looking for admission              0.088520\n",
              "Didn't respond in time             0.075566\n",
              "Visa/admission denied              0.036704\n",
              "Guarantor issue                    0.036704\n",
              "Looking for Scholarship            0.017272\n",
              "Looking for loan                   0.010795\n",
              "Underage student                   0.008636\n",
              "Cross sell                         0.002159\n",
              "Name: lost_reason, dtype: float64"
            ]
          },
          "metadata": {},
          "execution_count": 42
        }
      ]
    },
    {
      "cell_type": "code",
      "source": [
        "# replace all values with less than 10% by other\n",
        "data['lost_reason'][(data['lost_reason'] != 'Low availability') & (data['lost_reason'] != 'Not responding') & (data['lost_reason'] != 'Not interested') & (data['lost_reason'] != 'Low budget')] = 'other'"
      ],
      "metadata": {
        "id": "0os6Kei8ciLT"
      },
      "execution_count": 43,
      "outputs": []
    },
    {
      "cell_type": "code",
      "source": [
        "data['lost_reason'].value_counts(normalize=True)*100"
      ],
      "metadata": {
        "colab": {
          "base_uri": "https://localhost:8080/"
        },
        "id": "mF-FTbMvdHyb",
        "outputId": "4a4b9ea9-419e-4a1e-8993-8157156ee7a1"
      },
      "execution_count": 44,
      "outputs": [
        {
          "output_type": "execute_result",
          "data": {
            "text/plain": [
              "other               31.459291\n",
              "Low availability    25.832848\n",
              "Not responding      16.898763\n",
              "Not interested      13.923613\n",
              "Low budget          11.885485\n",
              "Name: lost_reason, dtype: float64"
            ]
          },
          "metadata": {},
          "execution_count": 44
        }
      ]
    },
    {
      "cell_type": "code",
      "source": [
        "data['movein'].value_counts(normalize=True)*100"
      ],
      "metadata": {
        "colab": {
          "base_uri": "https://localhost:8080/"
        },
        "id": "QQt-XXYhdO2V",
        "outputId": "6ac922c2-d6e7-4d18-b90d-a430055ea2cf"
      },
      "execution_count": 45,
      "outputs": [
        {
          "output_type": "execute_result",
          "data": {
            "text/plain": [
              "10/09/22    34.674094\n",
              "31/08/22     4.721808\n",
              "01/09/22     4.572835\n",
              "09/09/22     3.374571\n",
              "17/09/22     3.070147\n",
              "              ...    \n",
              "26/04/23     0.002159\n",
              "10/06/23     0.002159\n",
              "05/01/24     0.002159\n",
              "06/09/06     0.002159\n",
              "06/06/23     0.002159\n",
              "Name: movein, Length: 469, dtype: float64"
            ]
          },
          "metadata": {},
          "execution_count": 45
        }
      ]
    },
    {
      "cell_type": "code",
      "source": [
        "# replace all values with less than 10% by other\n",
        "data['movein'][data['movein'] != '10/09/22'] = 'other'"
      ],
      "metadata": {
        "id": "ECjxixdrde8T"
      },
      "execution_count": 46,
      "outputs": []
    },
    {
      "cell_type": "code",
      "source": [
        "data['movein'].value_counts(normalize=True)*100"
      ],
      "metadata": {
        "colab": {
          "base_uri": "https://localhost:8080/"
        },
        "id": "4wtJcMMddt8E",
        "outputId": "8b92b37d-37c0-4fc7-a413-ab5ff39dca2b"
      },
      "execution_count": 47,
      "outputs": [
        {
          "output_type": "execute_result",
          "data": {
            "text/plain": [
              "other       65.325906\n",
              "10/09/22    34.674094\n",
              "Name: movein, dtype: float64"
            ]
          },
          "metadata": {},
          "execution_count": 47
        }
      ]
    },
    {
      "cell_type": "code",
      "source": [
        "data['source'].value_counts(normalize=True)*100"
      ],
      "metadata": {
        "colab": {
          "base_uri": "https://localhost:8080/"
        },
        "id": "oeBIfGDcdxcr",
        "outputId": "12d78e5a-67ca-4bba-c079-cd4a801b1439"
      },
      "execution_count": 48,
      "outputs": [
        {
          "output_type": "execute_result",
          "data": {
            "text/plain": [
              "7aae3e886e89fc1187a5c47d6cea1c22998ee610ade1f2b7c51be879f0c37ca8    54.068700\n",
              "7bcfca0e9d73371699b0adbf1c691e02108fa64f02f4dbe24a0217f139a9b916     8.191377\n",
              "ba2d0a29556ac20f86f45e4543c0825428cba33fd7a9eaa29e3f169d2ca43b2b     7.742298\n",
              "146fb4ecbe78caa24102bbaac12e2559a8c8e32fb116d36e3553a709fce40549     4.771466\n",
              "d684761c17c11590f6e2525b48141cb2c0c6f2be5df4e229dae06e64c5c41b64     4.596584\n",
              "                                                                      ...    \n",
              "ab4556b4118e9689282ac334ed94636124b8d4a531e2db6c2623eb0437de1ab2     0.002159\n",
              "ff25c08fc834360514f4fbc6434c2bb381ad04ea984ea86c2a0f5fb6ec94a831     0.002159\n",
              "fde7c38145e98695f302f2eb113737bcf9e6b3b0ec4ab2723f4d6610cc97813f     0.002159\n",
              "f4dd29fa0ded5c9ca30c96015bf8147165bfce38964c3842352d7a013b870ac9     0.002159\n",
              "93bee3e177d17c128e6a6af7b88fd675d7ec729b1a88ae13c582248dfd702378     0.002159\n",
              "Name: source, Length: 682, dtype: float64"
            ]
          },
          "metadata": {},
          "execution_count": 48
        }
      ]
    },
    {
      "cell_type": "code",
      "source": [
        "# replace all values with less than 10% by other\n",
        "data['source'][data['source'] != '7aae3e886e89fc1187a5c47d6cea1c22998ee610ade1f2b7c51be879f0c37ca8'] = 'other'"
      ],
      "metadata": {
        "id": "JkglmC-id75k"
      },
      "execution_count": 49,
      "outputs": []
    },
    {
      "cell_type": "code",
      "source": [
        "data['source'].value_counts(normalize=True)*100"
      ],
      "metadata": {
        "colab": {
          "base_uri": "https://localhost:8080/"
        },
        "id": "COwizhepeKaA",
        "outputId": "8b8a4cd2-8c57-4821-ad42-b1827296728b"
      },
      "execution_count": 50,
      "outputs": [
        {
          "output_type": "execute_result",
          "data": {
            "text/plain": [
              "7aae3e886e89fc1187a5c47d6cea1c22998ee610ade1f2b7c51be879f0c37ca8    54.0687\n",
              "other                                                               45.9313\n",
              "Name: source, dtype: float64"
            ]
          },
          "metadata": {},
          "execution_count": 50
        }
      ]
    },
    {
      "cell_type": "code",
      "source": [
        "data['source_city'].value_counts(normalize=True)*100"
      ],
      "metadata": {
        "colab": {
          "base_uri": "https://localhost:8080/"
        },
        "id": "gMv1aeuyeMo5",
        "outputId": "fe630eaa-4a8e-4d0f-ab00-ac847a226275"
      },
      "execution_count": 51,
      "outputs": [
        {
          "output_type": "execute_result",
          "data": {
            "text/plain": [
              "ecc0e7dc084f141b29479058967d0bc07dee25d9690a98ee4e6fdad5168274d7    25.586718\n",
              "b384863fa1f6e091164b74219726eee0b9dd47776b91a4dc71fd0516630d21ec     3.089578\n",
              "9f2ba6981e36ea0fca6c16f42e6413d788d2a7499b8b7f418c5d76f12d191f02     1.843815\n",
              "7d1550b844ff586a6023216c06263105eed0a849a2a1f69bb8862ab288d8cdab     1.623594\n",
              "810c069040f6a9b16fdf976a901755508a87cb0224b169d4b5d803357e647947     1.455189\n",
              "                                                                      ...    \n",
              "67e6f8c1f6f47e01ab6fe1cbbc3d4115d71f63c6ebf82a8713a6ac04a5b5236c     0.002159\n",
              "c2cedb3b32de2ae419a258d76f4fa82ee302441fbae041acf9a13770dfa18eb0     0.002159\n",
              "e2f36920bce1be5e4c94b165dcbd09cf454f5990d8869c5cc483e0723e34595c     0.002159\n",
              "06065eeea31a9f7eeaf11e335f9a6a67235fc40f12d50b06b84fcbcb5ed70dd2     0.002159\n",
              "d650065b53c2284b98e575d37e1be820599bf33baff5e147770547a984975d2f     0.002159\n",
              "Name: source_city, Length: 4315, dtype: float64"
            ]
          },
          "metadata": {},
          "execution_count": 51
        }
      ]
    },
    {
      "cell_type": "code",
      "source": [
        "# replace all values with less than 10% by other\n",
        "data['source_city'][data['source_city'] != 'ecc0e7dc084f141b29479058967d0bc07dee25d9690a98ee4e6fdad5168274d7'] = 'other'"
      ],
      "metadata": {
        "id": "-Jp4uP7beUtI"
      },
      "execution_count": 52,
      "outputs": []
    },
    {
      "cell_type": "code",
      "source": [
        "data['source_city'].value_counts(normalize=True)*100"
      ],
      "metadata": {
        "colab": {
          "base_uri": "https://localhost:8080/"
        },
        "id": "Uh77AHk_edHk",
        "outputId": "f791e8f5-9412-4803-ac8c-ca8404c6b366"
      },
      "execution_count": 53,
      "outputs": [
        {
          "output_type": "execute_result",
          "data": {
            "text/plain": [
              "other                                                               74.413282\n",
              "ecc0e7dc084f141b29479058967d0bc07dee25d9690a98ee4e6fdad5168274d7    25.586718\n",
              "Name: source_city, dtype: float64"
            ]
          },
          "metadata": {},
          "execution_count": 53
        }
      ]
    },
    {
      "cell_type": "code",
      "source": [
        "data['source_country'].value_counts(normalize=True)*100"
      ],
      "metadata": {
        "colab": {
          "base_uri": "https://localhost:8080/"
        },
        "id": "oXv3aQ_2eelR",
        "outputId": "e7911339-5ab8-423b-c9b4-5e8f454a2ae5"
      },
      "execution_count": 54,
      "outputs": [
        {
          "output_type": "execute_result",
          "data": {
            "text/plain": [
              "e09e10e67812e9d236ad900e5d46b4308fc62f5d69446a9750aa698e797e9c96    58.917892\n",
              "8da82000ef9c4468ba47362a924b895e40662fed846942a1870a674e5c6d1fc2    15.016085\n",
              "e39b0c5e88f19053d3a917669bc9d60729f351e064ca0c94f5dc73f4e676333f     4.335341\n",
              "38fe804a1f9ec032ad876bd7192c1f706e1402831e163cf72702b1f451f40cac     2.141762\n",
              "0207c236c5ad89235d814b1e1807f6fdc1930810439489f76600e1672338e42b     0.995315\n",
              "                                                                      ...    \n",
              "0b6e4801d2a43e3c5dc06d5b68524bd9e80e425610b531d977b5713d59df47b6     0.002159\n",
              "4a89aa60736d863a5fda8aa2305e299e1c3bea690fe4775363fbf2762102b273     0.002159\n",
              "b828c41f8b20d533c028d8a4e1019fe0b16bb14d4b7114a662365d08e89a1bea     0.002159\n",
              "39ae135c41c0e9f97bdbe7449f5320052c6a699cbf0fcbd95dc17f6465f0d34e     0.002159\n",
              "282a5dbb9d8cb1ea0caf847b5aaca66cf1a76b5e57ddbbd2dd7db8204f553c5c     0.002159\n",
              "Name: source_country, Length: 184, dtype: float64"
            ]
          },
          "metadata": {},
          "execution_count": 54
        }
      ]
    },
    {
      "cell_type": "code",
      "source": [
        "# replace all values with less than 10% by other\n",
        "data['source_country'][(data['source_country'] != 'e09e10e67812e9d236ad900e5d46b4308fc62f5d69446a9750aa698e797e9c96') & (data['source_country'] != '8da82000ef9c4468ba47362a924b895e40662fed846942a1870a674e5c6d1fc2')] = 'other'"
      ],
      "metadata": {
        "id": "5Hu57KQ2elJY"
      },
      "execution_count": 55,
      "outputs": []
    },
    {
      "cell_type": "code",
      "source": [
        "data['source_country'].value_counts(normalize=True)*100"
      ],
      "metadata": {
        "colab": {
          "base_uri": "https://localhost:8080/"
        },
        "id": "IfJBdCVueyR9",
        "outputId": "0a6f629b-a12f-446e-b179-1fa626838a0d"
      },
      "execution_count": 56,
      "outputs": [
        {
          "output_type": "execute_result",
          "data": {
            "text/plain": [
              "e09e10e67812e9d236ad900e5d46b4308fc62f5d69446a9750aa698e797e9c96    58.917892\n",
              "other                                                               26.066023\n",
              "8da82000ef9c4468ba47362a924b895e40662fed846942a1870a674e5c6d1fc2    15.016085\n",
              "Name: source_country, dtype: float64"
            ]
          },
          "metadata": {},
          "execution_count": 56
        }
      ]
    },
    {
      "cell_type": "code",
      "source": [
        "data['utm_source'].value_counts(normalize=True)*100"
      ],
      "metadata": {
        "colab": {
          "base_uri": "https://localhost:8080/"
        },
        "id": "tBK_WgKEe5yA",
        "outputId": "078cf086-84d4-4dae-c36e-da0573deb602"
      },
      "execution_count": 57,
      "outputs": [
        {
          "output_type": "execute_result",
          "data": {
            "text/plain": [
              "bbdefa2950f49882f295b1285d4fa9dec45fc4144bfb07ee6acc68762d12c2e3    66.787573\n",
              "7f3fa48ca885678134842fa7456f3ece53a97f843b610185d900ac4e467c7490    10.259732\n",
              "3d59f7548e1af2151b64135003ce63c0a484c26b9b8b166a7b1c1805ec34b00a     4.268411\n",
              "3c77f261a156a5308fee53720276395ef78d2e7367e4225a3d3d93f4accd1dd3     3.758879\n",
              "d15690f08a575024650b01ffac892cfd2b93e6c57c140f1b6d9e47753cabd579     3.294687\n",
              "9ac56ef275bb33f0f931abd846e53e845a80af8a549100741e928b8b2abd56a7     2.698793\n",
              "ec8202b6f9fb16f9e26b66367afa4e037752f3c09a18cefab426165e06a424b1     2.260509\n",
              "4f48c17d2a97a7461a12d0d07336f808e70a1248a7082dbb103047f54090c158     1.865406\n",
              "44574c4ba2ea74ad4bf1e184133cdbf4e7390a3690beff6a7364511a70ec208e     1.180992\n",
              "4688fa9ce4f64d0451be91f30a3de24a1c1c41635bd221694b2a96f9ecd8d717     0.958611\n",
              "5ede56738376a8c53a7c99bf275b077a5c10df780a20cf3d8282fd59a2a9fb56     0.509532\n",
              "7edb360f06acaef2cc80dba16cf563f199d347db4443da04da0c8173e3f9e4ed     0.373513\n",
              "3f40462915a3e6026a4d790127b95ded4d870f6ab18d9af2fcbc454168255237     0.371354\n",
              "ce43ccb66a63d70dd24b992aedbea52eee4229a1f21ff5ed31592f33ca411101     0.364877\n",
              "dfc547927d5d24adeba89e786ac0ef05ca3e54ba2ef9474f8aa384129e625d2e     0.336809\n",
              "3e6f3ef30c9311c7086582f5a7f015c3485ba4d2cbccbb059c19122e2c6ea359     0.284993\n",
              "c403c7c6714ba1fb7bd9143d9c6bd1563264a73d8ae0b42c35981083e91fef06     0.129542\n",
              "82244417f956ac7c599f191593f7e441a4fafa20a4158fd52e154f1dc4c8ed92     0.062612\n",
              "5b8eeb90771c2031be0b865d6688c14f7d9dcf7468d8d8d43609cec71358bee9     0.051817\n",
              "ea570171fe0efcf2d84523f065e87c88b5f3a6917f764d0c2e0431a2ae7b5008     0.045340\n",
              "a7a4ded2d5035adb26a222c67032f04cfcd2279ab508cf2a7ff612aead97551e     0.041022\n",
              "c0e25571ed238121c1b1b8ccab09d0008d49655d544048012aba724a68c7ca45     0.021590\n",
              "5f98c624a309a8ec6d3b21d5ec8ce65a77fb168d81c92b66a60ba233121eb2ae     0.019431\n",
              "def53e95f1fc7a2aa7dbc4685f282f1e3e4ea3b364b07622e58edb15d239b252     0.012954\n",
              "4ca9572c7992eb27f83ab631847003d62a2192ecf701de0144dca478ff417063     0.010795\n",
              "924744e8f750495b295e4a6bc44dc51e7fce202af548e8ac8feb8289de90e496     0.006477\n",
              "24e6654bfd1ab85bebb1f721a4be46e6fdb9ea8974d14442d3aaecd1f971fcbb     0.004318\n",
              "7d71fa7a6bd0b0f416e818068a0aceaddc9914df674afae5ebd7dcdf63e73e90     0.004318\n",
              "0eab32ba11e1109468b27cc6230d5dfe340884f0d0d69104e5100e5f89aad44b     0.004318\n",
              "1978e143e8164cab9c00b10bf43b91f67256d0ae9f119058bdbaa9a0bf286758     0.002159\n",
              "a2d2ce979efb493c36afe9cf8c6c95dfe8c831cabd13590d487febceb2229327     0.002159\n",
              "24f353e0da1ced9f24b1226887fdb88cc7a34865e283c921248e8f5d52c3ae68     0.002159\n",
              "3e96141c21704e96af6257ea41c0fc690ce0504c8529dc424dc8b245b6343c0f     0.002159\n",
              "50e721e49c013f00c62cf59f2163542a9d8df02464efeb615d31051b0fddc326     0.002159\n",
              "Name: utm_source, dtype: float64"
            ]
          },
          "metadata": {},
          "execution_count": 57
        }
      ]
    },
    {
      "cell_type": "code",
      "source": [
        "# replace all values with less than 10% by other\n",
        "data['utm_source'][(data['utm_source'] != 'bbdefa2950f49882f295b1285d4fa9dec45fc4144bfb07ee6acc68762d12c2e3') & (data['utm_source'] != '7f3fa48ca885678134842fa7456f3ece53a97f843b610185d900ac4e467c7490')] = 'other'"
      ],
      "metadata": {
        "id": "vzLRogAtfFMO"
      },
      "execution_count": 58,
      "outputs": []
    },
    {
      "cell_type": "code",
      "source": [
        "data['utm_source'].value_counts(normalize=True)*100"
      ],
      "metadata": {
        "colab": {
          "base_uri": "https://localhost:8080/"
        },
        "id": "zwNkAwfJfWkg",
        "outputId": "5972409b-50fe-49f1-e7cd-05b97d95bcbb"
      },
      "execution_count": 59,
      "outputs": [
        {
          "output_type": "execute_result",
          "data": {
            "text/plain": [
              "bbdefa2950f49882f295b1285d4fa9dec45fc4144bfb07ee6acc68762d12c2e3    66.787573\n",
              "other                                                               22.952696\n",
              "7f3fa48ca885678134842fa7456f3ece53a97f843b610185d900ac4e467c7490    10.259732\n",
              "Name: utm_source, dtype: float64"
            ]
          },
          "metadata": {},
          "execution_count": 59
        }
      ]
    },
    {
      "cell_type": "code",
      "source": [
        "data['utm_medium'].value_counts(normalize=True)*100"
      ],
      "metadata": {
        "colab": {
          "base_uri": "https://localhost:8080/"
        },
        "id": "Yhvpkf3Xfa4F",
        "outputId": "ea69a122-7e44-42cb-8c96-2733882f6e14"
      },
      "execution_count": 60,
      "outputs": [
        {
          "output_type": "execute_result",
          "data": {
            "text/plain": [
              "09076eb7665d1fb9389c7c4517fee0b00e43092eb34821b09b5730c41ebcc50c    74.888270\n",
              "09bc8f0bb77bdddeb98527a39e995c2c605166399c178cb296992abab8415d5b     3.793424\n",
              "69f81619d0ef92cbb165a44e76f4f0c284d2aa83c318fa7fb632207f68215647     3.577520\n",
              "268ad70eb5bc4737a2ae28162cbca30118cc94520e49ef1ac5f72c85d3f2caa9     3.501954\n",
              "82244417f956ac7c599f191593f7e441a4fafa20a4158fd52e154f1dc4c8ed92     2.431073\n",
              "                                                                      ...    \n",
              "974f37cbfab65a440154a8435e81f1928b6cf003b2885291e7c6fddd530ede65     0.002159\n",
              "6a3aea19761ac8238e4e1d298f15207fe12375f13cb79dfba243aabed36163ca     0.002159\n",
              "ad89c0825db17eb2c0b1a0d1a04f712b1c531ac84a6c92901a7f29e96adae9ce     0.002159\n",
              "511f27cf310544befd3236d40f86ec47f539c4722370acde0f4df8b6616c8553     0.002159\n",
              "5f5238f61f941641a13c52f68a37a1de3e3d981b57506b82aa36d5b85d09c8b7     0.002159\n",
              "Name: utm_medium, Length: 63, dtype: float64"
            ]
          },
          "metadata": {},
          "execution_count": 60
        }
      ]
    },
    {
      "cell_type": "code",
      "source": [
        "# replace all values with less than 10% by other\n",
        "data['utm_medium'][(data['utm_medium'] != '09076eb7665d1fb9389c7c4517fee0b00e43092eb34821b09b5730c41ebcc50c')] = 'other'"
      ],
      "metadata": {
        "id": "ytDiMxIqflGO"
      },
      "execution_count": 61,
      "outputs": []
    },
    {
      "cell_type": "code",
      "source": [
        "data['utm_medium'].value_counts(normalize=True)*100"
      ],
      "metadata": {
        "colab": {
          "base_uri": "https://localhost:8080/"
        },
        "id": "Z5N1kBt4fvyY",
        "outputId": "f2f242a1-6066-43d8-9a24-7a3c3a05a88b"
      },
      "execution_count": 62,
      "outputs": [
        {
          "output_type": "execute_result",
          "data": {
            "text/plain": [
              "09076eb7665d1fb9389c7c4517fee0b00e43092eb34821b09b5730c41ebcc50c    74.88827\n",
              "other                                                               25.11173\n",
              "Name: utm_medium, dtype: float64"
            ]
          },
          "metadata": {},
          "execution_count": 62
        }
      ]
    },
    {
      "cell_type": "code",
      "source": [
        "data['des_city'].value_counts(normalize=True)*100"
      ],
      "metadata": {
        "colab": {
          "base_uri": "https://localhost:8080/"
        },
        "id": "wCFFL_o2f1A4",
        "outputId": "472dea14-e04b-44a1-dcd4-37949b282489"
      },
      "execution_count": 63,
      "outputs": [
        {
          "output_type": "execute_result",
          "data": {
            "text/plain": [
              "ecc0e7dc084f141b29479058967d0bc07dee25d9690a98ee4e6fdad5168274d7    21.270808\n",
              "810c069040f6a9b16fdf976a901755508a87cb0224b169d4b5d803357e647947     7.446510\n",
              "11ab03a1a8c367191355c152f39fe28cae5e426fce49efb320230ca4ae3f97a1     6.703802\n",
              "8593b9db65212160979d946950601c26622a219c80f1f122679eb69ec5b96600     4.333182\n",
              "6a5ed83658ef85afc77709cc16ede854ad98e3c2ad8b076e10dcbcd6e5096271     3.668200\n",
              "                                                                      ...    \n",
              "6b9031df058346a877deaba0a830b576fa81b9da8692e183e4eb4c9dc949054c     0.002159\n",
              "829228a55ddc193d4f48f1249126cd689365f5f7fe55383ead8afc2b8676de8c     0.002159\n",
              "b9ae62ede2dad179198540d5a84bf5e432f8f36c370d906b9a8224d04582d9d0     0.002159\n",
              "80aa149d3dedd651f836d1071659255aa4843801d79d5df18ddb8d5df1dcf32d     0.002159\n",
              "806b1459b451fcbf14da3e1f61c2e0379e840b0a20badf7f6d4fdc7b3b9329b8     0.002159\n",
              "Name: des_city, Length: 219, dtype: float64"
            ]
          },
          "metadata": {},
          "execution_count": 63
        }
      ]
    },
    {
      "cell_type": "code",
      "source": [
        "# replace all values with less than 5% by other\n",
        "data['des_city'][(data['des_city'] != 'ecc0e7dc084f141b29479058967d0bc07dee25d9690a98ee4e6fdad5168274d7') & (data['des_city'] != '810c069040f6a9b16fdf976a901755508a87cb0224b169d4b5d803357e647947') & (data['des_city'] != '11ab03a1a8c367191355c152f39fe28cae5e426fce49efb320230ca4ae3f97a1')] = 'other'"
      ],
      "metadata": {
        "id": "VTd2VeD7f9yC"
      },
      "execution_count": 64,
      "outputs": []
    },
    {
      "cell_type": "code",
      "source": [
        "data['des_city'].value_counts(normalize=True)*100"
      ],
      "metadata": {
        "colab": {
          "base_uri": "https://localhost:8080/"
        },
        "id": "httcc3pEgWR3",
        "outputId": "199a7970-e8b4-45a6-f4ee-fb1f968e64ee"
      },
      "execution_count": 65,
      "outputs": [
        {
          "output_type": "execute_result",
          "data": {
            "text/plain": [
              "other                                                               64.578880\n",
              "ecc0e7dc084f141b29479058967d0bc07dee25d9690a98ee4e6fdad5168274d7    21.270808\n",
              "810c069040f6a9b16fdf976a901755508a87cb0224b169d4b5d803357e647947     7.446510\n",
              "11ab03a1a8c367191355c152f39fe28cae5e426fce49efb320230ca4ae3f97a1     6.703802\n",
              "Name: des_city, dtype: float64"
            ]
          },
          "metadata": {},
          "execution_count": 65
        }
      ]
    },
    {
      "cell_type": "code",
      "source": [
        "data['des_country'].value_counts(normalize=True)*100"
      ],
      "metadata": {
        "colab": {
          "base_uri": "https://localhost:8080/"
        },
        "id": "DGckIIoxgbQu",
        "outputId": "40c4214c-84b0-412e-fe1d-ee4a09ab59b9"
      },
      "execution_count": 66,
      "outputs": [
        {
          "output_type": "execute_result",
          "data": {
            "text/plain": [
              "8d23a6e37e0a6431a8f1b43a91026dcff51170a89a6512ff098eaa56a4d5fb19    96.983829\n",
              "02bf1dfa9a0365a86223f0e4ac9eaa0517b06b2e9273790f719feda656a247ae     1.604163\n",
              "80db4ccdca106d37b920206331fcfe3e9e50a9e763d89b54ce3ad5ac8cf30f03     0.349764\n",
              "be55ef3f4c4e6c2d9c2afe2a33ac90ad0f50d4de7f9163999877e2a9ca5a54f8     0.321696\n",
              "7a1ca4ef7515f7276bae7230545829c27810c9d9e98ab2c06066bee6270d5153     0.246130\n",
              "c1ef40ce0484c698eb4bd27fe56c1e7b68d74f9780ed674210d0e5013dae45e9     0.166246\n",
              "5a9cf672c8be6b5ab9546a2fb49b06dd81a4e364c86ed023898c49d9bb0605dc     0.123065\n",
              "49dca65f362fee401292ed7ada96f96295eab1e589c52e4e66bf4aedda715fdd     0.056135\n",
              "abd149214539d9f222d25de6358735b9fa0efd3956f66102b2c119ae2d9f6348     0.049658\n",
              "8ef41e6f4b07432a0cb4eb7a8774e7a3878fd3e385f49aa09b406768467db228     0.047499\n",
              "4c7de2c3da6dc0ae8f9d13b107718a913859359bd30166d077c867577953865d     0.036704\n",
              "3a386c13d283dc2ebbe2aeffc1ab3930d086b28956930d913d8dc58f34c013b7     0.008636\n",
              "2275583196d791405892aaca0d87743c872f3fc0cf3308a6c3ef82528918aa8a     0.004318\n",
              "dd64913c8b91d76ca27b371f0b86fd30452370469b8cadf4e5a61d41d14e42ec     0.002159\n",
              "Name: des_country, dtype: float64"
            ]
          },
          "metadata": {},
          "execution_count": 66
        }
      ]
    },
    {
      "cell_type": "code",
      "source": [
        "# replace all values with less than 10% by other\n",
        "data['des_country'][(data['des_country'] != '8d23a6e37e0a6431a8f1b43a91026dcff51170a89a6512ff098eaa56a4d5fb19')] = 'other'"
      ],
      "metadata": {
        "id": "BX-ECZKpgmIC"
      },
      "execution_count": 67,
      "outputs": []
    },
    {
      "cell_type": "code",
      "source": [
        "data['des_country'].value_counts(normalize=True)*100"
      ],
      "metadata": {
        "colab": {
          "base_uri": "https://localhost:8080/"
        },
        "id": "CTr0DMJtg0tC",
        "outputId": "9267a633-b6e3-400c-a861-5ca968c5bd67"
      },
      "execution_count": 68,
      "outputs": [
        {
          "output_type": "execute_result",
          "data": {
            "text/plain": [
              "8d23a6e37e0a6431a8f1b43a91026dcff51170a89a6512ff098eaa56a4d5fb19    96.983829\n",
              "other                                                                3.016171\n",
              "Name: des_country, dtype: float64"
            ]
          },
          "metadata": {},
          "execution_count": 68
        }
      ]
    },
    {
      "cell_type": "code",
      "source": [
        "#As lead id is the id for each lead we can drop the column\n",
        "data.drop('lead_id', axis=1, inplace=True)"
      ],
      "metadata": {
        "id": "uRMbS1DDg5tc"
      },
      "execution_count": 69,
      "outputs": []
    },
    {
      "cell_type": "code",
      "source": [
        "# Printing Normalized value counts of all columns\n",
        "\n",
        "def value_count_all(data):\n",
        "  for c in data.columns:\n",
        "    print(data[c].value_counts(normalize=True)*100)\n",
        "\n",
        "value_count_all(data)"
      ],
      "metadata": {
        "colab": {
          "base_uri": "https://localhost:8080/"
        },
        "id": "J-aQb76BhD7L",
        "outputId": "4221c290-dfd3-464b-bbf6-fd93a7b262ae"
      },
      "execution_count": 70,
      "outputs": [
        {
          "output_type": "stream",
          "name": "stdout",
          "text": [
            "other                                                               82.326144\n",
            "2fca346db656187102ce806ac732e06a62df0dbb2829e511a770556d398e1a6e    17.673856\n",
            "Name: Agent_id, dtype: float64\n",
            "LOST    93.365287\n",
            "WON      6.634713\n",
            "Name: status, dtype: float64\n",
            "other               31.459291\n",
            "Low availability    25.832848\n",
            "Not responding      16.898763\n",
            "Not interested      13.923613\n",
            "Low budget          11.885485\n",
            "Name: lost_reason, dtype: float64\n",
            "£60 - £120 Per week     29.026060\n",
            "£121 - £180 Per Week    19.167908\n",
            "0-0                     12.347518\n",
            "£181 - £240 Per Week     4.626811\n",
            "100                      3.257983\n",
            "                          ...    \n",
            "0-80-100$                0.002159\n",
            "0-235                    0.002159\n",
            "£120-160 Per Week        0.002159\n",
            "1400 per month           0.002159\n",
            "0-500 PCM                0.002159\n",
            "Name: budget, Length: 1851, dtype: float64\n",
            "full year        31.310318\n",
            "other            29.930695\n",
            "0                16.274802\n",
            "academic year    13.951681\n",
            "51                8.532504\n",
            "Name: lease, dtype: float64\n",
            "other       65.325906\n",
            "10/09/22    34.674094\n",
            "Name: movein, dtype: float64\n",
            "7aae3e886e89fc1187a5c47d6cea1c22998ee610ade1f2b7c51be879f0c37ca8    54.0687\n",
            "other                                                               45.9313\n",
            "Name: source, dtype: float64\n",
            "other                                                               74.413282\n",
            "ecc0e7dc084f141b29479058967d0bc07dee25d9690a98ee4e6fdad5168274d7    25.586718\n",
            "Name: source_city, dtype: float64\n",
            "e09e10e67812e9d236ad900e5d46b4308fc62f5d69446a9750aa698e797e9c96    58.917892\n",
            "other                                                               26.066023\n",
            "8da82000ef9c4468ba47362a924b895e40662fed846942a1870a674e5c6d1fc2    15.016085\n",
            "Name: source_country, dtype: float64\n",
            "bbdefa2950f49882f295b1285d4fa9dec45fc4144bfb07ee6acc68762d12c2e3    66.787573\n",
            "other                                                               22.952696\n",
            "7f3fa48ca885678134842fa7456f3ece53a97f843b610185d900ac4e467c7490    10.259732\n",
            "Name: utm_source, dtype: float64\n",
            "09076eb7665d1fb9389c7c4517fee0b00e43092eb34821b09b5730c41ebcc50c    74.88827\n",
            "other                                                               25.11173\n",
            "Name: utm_medium, dtype: float64\n",
            "other                                                               64.578880\n",
            "ecc0e7dc084f141b29479058967d0bc07dee25d9690a98ee4e6fdad5168274d7    21.270808\n",
            "810c069040f6a9b16fdf976a901755508a87cb0224b169d4b5d803357e647947     7.446510\n",
            "11ab03a1a8c367191355c152f39fe28cae5e426fce49efb320230ca4ae3f97a1     6.703802\n",
            "Name: des_city, dtype: float64\n",
            "8d23a6e37e0a6431a8f1b43a91026dcff51170a89a6512ff098eaa56a4d5fb19    96.983829\n",
            "other                                                                3.016171\n",
            "Name: des_country, dtype: float64\n"
          ]
        }
      ]
    },
    {
      "cell_type": "code",
      "source": [
        "# dealing with budget\n",
        "data['budget'].value_counts()"
      ],
      "metadata": {
        "colab": {
          "base_uri": "https://localhost:8080/"
        },
        "id": "8-NLjY_1hfAt",
        "outputId": "07484d2f-585d-4b8a-cee6-736ee15c787e"
      },
      "execution_count": 71,
      "outputs": [
        {
          "output_type": "execute_result",
          "data": {
            "text/plain": [
              "£60 - £120 Per week     13444\n",
              "£121 - £180 Per Week     8878\n",
              "0-0                      5719\n",
              "£181 - £240 Per Week     2143\n",
              "100                      1509\n",
              "                        ...  \n",
              "0-80-100$                   1\n",
              "0-235                       1\n",
              "£120-160 Per Week           1\n",
              "1400 per month              1\n",
              "0-500 PCM                   1\n",
              "Name: budget, Length: 1851, dtype: int64"
            ]
          },
          "metadata": {},
          "execution_count": 71
        }
      ]
    },
    {
      "cell_type": "code",
      "source": [
        "data['budget'][data['budget'].str.contains('£')]"
      ],
      "metadata": {
        "colab": {
          "base_uri": "https://localhost:8080/"
        },
        "id": "TDl254Zph29J",
        "outputId": "a71d6154-f0c0-4ae0-bc2f-cae2a80d67df"
      },
      "execution_count": 72,
      "outputs": [
        {
          "output_type": "execute_result",
          "data": {
            "text/plain": [
              "0         £60 - £120 Per week\n",
              "1         £60 - £120 Per week\n",
              "2        £121 - £180 Per Week\n",
              "4         £60 - £120 Per week\n",
              "7        £181 - £240 Per Week\n",
              "                 ...         \n",
              "46602    £121 - £180 Per Week\n",
              "46603     £60 - £120 Per week\n",
              "46604     £60 - £120 Per week\n",
              "46605    £241 - £300 Per week\n",
              "46607    £181 - £240 Per Week\n",
              "Name: budget, Length: 26276, dtype: object"
            ]
          },
          "metadata": {},
          "execution_count": 72
        }
      ]
    },
    {
      "cell_type": "code",
      "source": [
        "data['budget'] = data['budget'].replace('pounds', '£')"
      ],
      "metadata": {
        "id": "VfUgCXVziFSK"
      },
      "execution_count": 73,
      "outputs": []
    },
    {
      "cell_type": "code",
      "source": [
        "(data['budget'][~ data['budget'].str.contains('£')].size / data.shape[0]) * 100"
      ],
      "metadata": {
        "colab": {
          "base_uri": "https://localhost:8080/"
        },
        "id": "Yva6lmqAiTiT",
        "outputId": "99f8a254-c972-45a6-88e0-2c57e980644c"
      },
      "execution_count": 74,
      "outputs": [
        {
          "output_type": "execute_result",
          "data": {
            "text/plain": [
              "43.269210009283846"
            ]
          },
          "metadata": {},
          "execution_count": 74
        }
      ]
    },
    {
      "cell_type": "code",
      "source": [
        "data['budget'].value_counts(normalize=True)*100"
      ],
      "metadata": {
        "colab": {
          "base_uri": "https://localhost:8080/"
        },
        "id": "5Uj5pKEGi7Ip",
        "outputId": "75940cdf-cb87-46c5-e242-067d15e061a9"
      },
      "execution_count": 75,
      "outputs": [
        {
          "output_type": "execute_result",
          "data": {
            "text/plain": [
              "£60 - £120 Per week     29.026060\n",
              "£121 - £180 Per Week    19.167908\n",
              "0-0                     12.347518\n",
              "£181 - £240 Per Week     4.626811\n",
              "100                      3.257983\n",
              "                          ...    \n",
              "0-80-100$                0.002159\n",
              "0-235                    0.002159\n",
              "£120-160 Per Week        0.002159\n",
              "1400 per month           0.002159\n",
              "0-500 PCM                0.002159\n",
              "Name: budget, Length: 1851, dtype: float64"
            ]
          },
          "metadata": {},
          "execution_count": 75
        }
      ]
    },
    {
      "cell_type": "code",
      "source": [
        "data['budget'][data['budget'].str.contains('week')]"
      ],
      "metadata": {
        "colab": {
          "base_uri": "https://localhost:8080/"
        },
        "id": "476_3oKPjTKO",
        "outputId": "6412f93b-1a76-4b32-c3ce-76895492e326"
      },
      "execution_count": 76,
      "outputs": [
        {
          "output_type": "execute_result",
          "data": {
            "text/plain": [
              "0         £60 - £120 Per week\n",
              "1         £60 - £120 Per week\n",
              "4         £60 - £120 Per week\n",
              "17        £60 - £120 Per week\n",
              "18        £60 - £120 Per week\n",
              "                 ...         \n",
              "46598     £60 - £120 Per week\n",
              "46599     £60 - £120 Per week\n",
              "46603     £60 - £120 Per week\n",
              "46604     £60 - £120 Per week\n",
              "46605    £241 - £300 Per week\n",
              "Name: budget, Length: 14782, dtype: object"
            ]
          },
          "metadata": {},
          "execution_count": 76
        }
      ]
    },
    {
      "cell_type": "code",
      "source": [
        "data['budget'] = data['budget'].str.lower()"
      ],
      "metadata": {
        "id": "cLvWf4VajgaO"
      },
      "execution_count": 77,
      "outputs": []
    },
    {
      "cell_type": "code",
      "source": [
        "data['budget'].value_counts(normalize=True)*100"
      ],
      "metadata": {
        "colab": {
          "base_uri": "https://localhost:8080/"
        },
        "id": "PVNXj34Cj9b8",
        "outputId": "0f9536d2-905f-41bb-e00d-57d0049a8c30"
      },
      "execution_count": 78,
      "outputs": [
        {
          "output_type": "execute_result",
          "data": {
            "text/plain": [
              "£60 - £120 per week     29.028219\n",
              "£121 - £180 per week    19.167908\n",
              "0-0                     12.347518\n",
              "£181 - £240 per week     4.626811\n",
              "100                      3.257983\n",
              "                          ...    \n",
              "£120-160 per week        0.002159\n",
              "1400 per month           0.002159\n",
              "0-£80 - £90 per week     0.002159\n",
              "500 euros month          0.002159\n",
              "0-500 pcm                0.002159\n",
              "Name: budget, Length: 1814, dtype: float64"
            ]
          },
          "metadata": {},
          "execution_count": 78
        }
      ]
    },
    {
      "cell_type": "code",
      "source": [
        "# replace all values with less than 10% by other\n",
        "data['budget'][(data['budget'] != '£60 - £120 per week') & (data['budget'] != '£121 - £180 per week') & (data['budget'] != '0-0')] = 'other'"
      ],
      "metadata": {
        "id": "LdRR2ugHj-Dp"
      },
      "execution_count": 79,
      "outputs": []
    },
    {
      "cell_type": "code",
      "source": [
        "data['budget'][data['budget'] == '0-0'] = '£0 - £0 per week'"
      ],
      "metadata": {
        "id": "D4VZTUzBmOwh"
      },
      "execution_count": 80,
      "outputs": []
    },
    {
      "cell_type": "code",
      "source": [
        "data['budget'].value_counts(normalize=True)*100"
      ],
      "metadata": {
        "colab": {
          "base_uri": "https://localhost:8080/"
        },
        "id": "NiRVBOPMkhIM",
        "outputId": "15300062-0e1f-442d-d136-8f79b6ae6917"
      },
      "execution_count": 81,
      "outputs": [
        {
          "output_type": "execute_result",
          "data": {
            "text/plain": [
              "other                   39.456355\n",
              "£60 - £120 per week     29.028219\n",
              "£121 - £180 per week    19.167908\n",
              "£0 - £0 per week        12.347518\n",
              "Name: budget, dtype: float64"
            ]
          },
          "metadata": {},
          "execution_count": 81
        }
      ]
    },
    {
      "cell_type": "code",
      "source": [
        "data.describe().T"
      ],
      "metadata": {
        "colab": {
          "base_uri": "https://localhost:8080/",
          "height": 457
        },
        "id": "xZN6C9Ijkpma",
        "outputId": "092ab087-bec9-422a-8e35-828927074150"
      },
      "execution_count": 82,
      "outputs": [
        {
          "output_type": "execute_result",
          "data": {
            "text/plain": [
              "                count unique  \\\n",
              "Agent_id        46317      2   \n",
              "status          46317      2   \n",
              "lost_reason     46317      5   \n",
              "budget          46317      4   \n",
              "lease           46317      5   \n",
              "movein          46317      2   \n",
              "source          46317      2   \n",
              "source_city     46317      2   \n",
              "source_country  46317      3   \n",
              "utm_source      46317      3   \n",
              "utm_medium      46317      2   \n",
              "des_city        46317      4   \n",
              "des_country     46317      2   \n",
              "\n",
              "                                                              top   freq  \n",
              "Agent_id                                                    other  38131  \n",
              "status                                                       LOST  43244  \n",
              "lost_reason                                                 other  14571  \n",
              "budget                                                      other  18275  \n",
              "lease                                                   full year  14502  \n",
              "movein                                                      other  30257  \n",
              "source          7aae3e886e89fc1187a5c47d6cea1c22998ee610ade1f2...  25043  \n",
              "source_city                                                 other  34466  \n",
              "source_country  e09e10e67812e9d236ad900e5d46b4308fc62f5d69446a...  27289  \n",
              "utm_source      bbdefa2950f49882f295b1285d4fa9dec45fc4144bfb07...  30934  \n",
              "utm_medium      09076eb7665d1fb9389c7c4517fee0b00e43092eb34821...  34686  \n",
              "des_city                                                    other  29911  \n",
              "des_country     8d23a6e37e0a6431a8f1b43a91026dcff51170a89a6512...  44920  "
            ],
            "text/html": [
              "\n",
              "  <div id=\"df-05db1d61-2515-4043-b9a3-d63fc5286ed1\">\n",
              "    <div class=\"colab-df-container\">\n",
              "      <div>\n",
              "<style scoped>\n",
              "    .dataframe tbody tr th:only-of-type {\n",
              "        vertical-align: middle;\n",
              "    }\n",
              "\n",
              "    .dataframe tbody tr th {\n",
              "        vertical-align: top;\n",
              "    }\n",
              "\n",
              "    .dataframe thead th {\n",
              "        text-align: right;\n",
              "    }\n",
              "</style>\n",
              "<table border=\"1\" class=\"dataframe\">\n",
              "  <thead>\n",
              "    <tr style=\"text-align: right;\">\n",
              "      <th></th>\n",
              "      <th>count</th>\n",
              "      <th>unique</th>\n",
              "      <th>top</th>\n",
              "      <th>freq</th>\n",
              "    </tr>\n",
              "  </thead>\n",
              "  <tbody>\n",
              "    <tr>\n",
              "      <th>Agent_id</th>\n",
              "      <td>46317</td>\n",
              "      <td>2</td>\n",
              "      <td>other</td>\n",
              "      <td>38131</td>\n",
              "    </tr>\n",
              "    <tr>\n",
              "      <th>status</th>\n",
              "      <td>46317</td>\n",
              "      <td>2</td>\n",
              "      <td>LOST</td>\n",
              "      <td>43244</td>\n",
              "    </tr>\n",
              "    <tr>\n",
              "      <th>lost_reason</th>\n",
              "      <td>46317</td>\n",
              "      <td>5</td>\n",
              "      <td>other</td>\n",
              "      <td>14571</td>\n",
              "    </tr>\n",
              "    <tr>\n",
              "      <th>budget</th>\n",
              "      <td>46317</td>\n",
              "      <td>4</td>\n",
              "      <td>other</td>\n",
              "      <td>18275</td>\n",
              "    </tr>\n",
              "    <tr>\n",
              "      <th>lease</th>\n",
              "      <td>46317</td>\n",
              "      <td>5</td>\n",
              "      <td>full year</td>\n",
              "      <td>14502</td>\n",
              "    </tr>\n",
              "    <tr>\n",
              "      <th>movein</th>\n",
              "      <td>46317</td>\n",
              "      <td>2</td>\n",
              "      <td>other</td>\n",
              "      <td>30257</td>\n",
              "    </tr>\n",
              "    <tr>\n",
              "      <th>source</th>\n",
              "      <td>46317</td>\n",
              "      <td>2</td>\n",
              "      <td>7aae3e886e89fc1187a5c47d6cea1c22998ee610ade1f2...</td>\n",
              "      <td>25043</td>\n",
              "    </tr>\n",
              "    <tr>\n",
              "      <th>source_city</th>\n",
              "      <td>46317</td>\n",
              "      <td>2</td>\n",
              "      <td>other</td>\n",
              "      <td>34466</td>\n",
              "    </tr>\n",
              "    <tr>\n",
              "      <th>source_country</th>\n",
              "      <td>46317</td>\n",
              "      <td>3</td>\n",
              "      <td>e09e10e67812e9d236ad900e5d46b4308fc62f5d69446a...</td>\n",
              "      <td>27289</td>\n",
              "    </tr>\n",
              "    <tr>\n",
              "      <th>utm_source</th>\n",
              "      <td>46317</td>\n",
              "      <td>3</td>\n",
              "      <td>bbdefa2950f49882f295b1285d4fa9dec45fc4144bfb07...</td>\n",
              "      <td>30934</td>\n",
              "    </tr>\n",
              "    <tr>\n",
              "      <th>utm_medium</th>\n",
              "      <td>46317</td>\n",
              "      <td>2</td>\n",
              "      <td>09076eb7665d1fb9389c7c4517fee0b00e43092eb34821...</td>\n",
              "      <td>34686</td>\n",
              "    </tr>\n",
              "    <tr>\n",
              "      <th>des_city</th>\n",
              "      <td>46317</td>\n",
              "      <td>4</td>\n",
              "      <td>other</td>\n",
              "      <td>29911</td>\n",
              "    </tr>\n",
              "    <tr>\n",
              "      <th>des_country</th>\n",
              "      <td>46317</td>\n",
              "      <td>2</td>\n",
              "      <td>8d23a6e37e0a6431a8f1b43a91026dcff51170a89a6512...</td>\n",
              "      <td>44920</td>\n",
              "    </tr>\n",
              "  </tbody>\n",
              "</table>\n",
              "</div>\n",
              "      <button class=\"colab-df-convert\" onclick=\"convertToInteractive('df-05db1d61-2515-4043-b9a3-d63fc5286ed1')\"\n",
              "              title=\"Convert this dataframe to an interactive table.\"\n",
              "              style=\"display:none;\">\n",
              "        \n",
              "  <svg xmlns=\"http://www.w3.org/2000/svg\" height=\"24px\"viewBox=\"0 0 24 24\"\n",
              "       width=\"24px\">\n",
              "    <path d=\"M0 0h24v24H0V0z\" fill=\"none\"/>\n",
              "    <path d=\"M18.56 5.44l.94 2.06.94-2.06 2.06-.94-2.06-.94-.94-2.06-.94 2.06-2.06.94zm-11 1L8.5 8.5l.94-2.06 2.06-.94-2.06-.94L8.5 2.5l-.94 2.06-2.06.94zm10 10l.94 2.06.94-2.06 2.06-.94-2.06-.94-.94-2.06-.94 2.06-2.06.94z\"/><path d=\"M17.41 7.96l-1.37-1.37c-.4-.4-.92-.59-1.43-.59-.52 0-1.04.2-1.43.59L10.3 9.45l-7.72 7.72c-.78.78-.78 2.05 0 2.83L4 21.41c.39.39.9.59 1.41.59.51 0 1.02-.2 1.41-.59l7.78-7.78 2.81-2.81c.8-.78.8-2.07 0-2.86zM5.41 20L4 18.59l7.72-7.72 1.47 1.35L5.41 20z\"/>\n",
              "  </svg>\n",
              "      </button>\n",
              "      \n",
              "  <style>\n",
              "    .colab-df-container {\n",
              "      display:flex;\n",
              "      flex-wrap:wrap;\n",
              "      gap: 12px;\n",
              "    }\n",
              "\n",
              "    .colab-df-convert {\n",
              "      background-color: #E8F0FE;\n",
              "      border: none;\n",
              "      border-radius: 50%;\n",
              "      cursor: pointer;\n",
              "      display: none;\n",
              "      fill: #1967D2;\n",
              "      height: 32px;\n",
              "      padding: 0 0 0 0;\n",
              "      width: 32px;\n",
              "    }\n",
              "\n",
              "    .colab-df-convert:hover {\n",
              "      background-color: #E2EBFA;\n",
              "      box-shadow: 0px 1px 2px rgba(60, 64, 67, 0.3), 0px 1px 3px 1px rgba(60, 64, 67, 0.15);\n",
              "      fill: #174EA6;\n",
              "    }\n",
              "\n",
              "    [theme=dark] .colab-df-convert {\n",
              "      background-color: #3B4455;\n",
              "      fill: #D2E3FC;\n",
              "    }\n",
              "\n",
              "    [theme=dark] .colab-df-convert:hover {\n",
              "      background-color: #434B5C;\n",
              "      box-shadow: 0px 1px 3px 1px rgba(0, 0, 0, 0.15);\n",
              "      filter: drop-shadow(0px 1px 2px rgba(0, 0, 0, 0.3));\n",
              "      fill: #FFFFFF;\n",
              "    }\n",
              "  </style>\n",
              "\n",
              "      <script>\n",
              "        const buttonEl =\n",
              "          document.querySelector('#df-05db1d61-2515-4043-b9a3-d63fc5286ed1 button.colab-df-convert');\n",
              "        buttonEl.style.display =\n",
              "          google.colab.kernel.accessAllowed ? 'block' : 'none';\n",
              "\n",
              "        async function convertToInteractive(key) {\n",
              "          const element = document.querySelector('#df-05db1d61-2515-4043-b9a3-d63fc5286ed1');\n",
              "          const dataTable =\n",
              "            await google.colab.kernel.invokeFunction('convertToInteractive',\n",
              "                                                     [key], {});\n",
              "          if (!dataTable) return;\n",
              "\n",
              "          const docLinkHtml = 'Like what you see? Visit the ' +\n",
              "            '<a target=\"_blank\" href=https://colab.research.google.com/notebooks/data_table.ipynb>data table notebook</a>'\n",
              "            + ' to learn more about interactive tables.';\n",
              "          element.innerHTML = '';\n",
              "          dataTable['output_type'] = 'display_data';\n",
              "          await google.colab.output.renderOutput(dataTable, element);\n",
              "          const docLink = document.createElement('div');\n",
              "          docLink.innerHTML = docLinkHtml;\n",
              "          element.appendChild(docLink);\n",
              "        }\n",
              "      </script>\n",
              "    </div>\n",
              "  </div>\n",
              "  "
            ]
          },
          "metadata": {},
          "execution_count": 82
        }
      ]
    },
    {
      "cell_type": "code",
      "source": [
        "missing_percentage()"
      ],
      "metadata": {
        "colab": {
          "base_uri": "https://localhost:8080/",
          "height": 457
        },
        "id": "Q7Dtp31Lk1X8",
        "outputId": "ae7d898d-4833-4af7-e8eb-f280a68f4889"
      },
      "execution_count": 83,
      "outputs": [
        {
          "output_type": "execute_result",
          "data": {
            "text/plain": [
              "            column  missing_percentage\n",
              "0         Agent_id                 0.0\n",
              "1           status                 0.0\n",
              "2      lost_reason                 0.0\n",
              "3           budget                 0.0\n",
              "4            lease                 0.0\n",
              "5           movein                 0.0\n",
              "6           source                 0.0\n",
              "7      source_city                 0.0\n",
              "8   source_country                 0.0\n",
              "9       utm_source                 0.0\n",
              "10      utm_medium                 0.0\n",
              "11        des_city                 0.0\n",
              "12     des_country                 0.0"
            ],
            "text/html": [
              "\n",
              "  <div id=\"df-624bc347-51d2-486c-9b1c-d5a8183a6b9f\">\n",
              "    <div class=\"colab-df-container\">\n",
              "      <div>\n",
              "<style scoped>\n",
              "    .dataframe tbody tr th:only-of-type {\n",
              "        vertical-align: middle;\n",
              "    }\n",
              "\n",
              "    .dataframe tbody tr th {\n",
              "        vertical-align: top;\n",
              "    }\n",
              "\n",
              "    .dataframe thead th {\n",
              "        text-align: right;\n",
              "    }\n",
              "</style>\n",
              "<table border=\"1\" class=\"dataframe\">\n",
              "  <thead>\n",
              "    <tr style=\"text-align: right;\">\n",
              "      <th></th>\n",
              "      <th>column</th>\n",
              "      <th>missing_percentage</th>\n",
              "    </tr>\n",
              "  </thead>\n",
              "  <tbody>\n",
              "    <tr>\n",
              "      <th>0</th>\n",
              "      <td>Agent_id</td>\n",
              "      <td>0.0</td>\n",
              "    </tr>\n",
              "    <tr>\n",
              "      <th>1</th>\n",
              "      <td>status</td>\n",
              "      <td>0.0</td>\n",
              "    </tr>\n",
              "    <tr>\n",
              "      <th>2</th>\n",
              "      <td>lost_reason</td>\n",
              "      <td>0.0</td>\n",
              "    </tr>\n",
              "    <tr>\n",
              "      <th>3</th>\n",
              "      <td>budget</td>\n",
              "      <td>0.0</td>\n",
              "    </tr>\n",
              "    <tr>\n",
              "      <th>4</th>\n",
              "      <td>lease</td>\n",
              "      <td>0.0</td>\n",
              "    </tr>\n",
              "    <tr>\n",
              "      <th>5</th>\n",
              "      <td>movein</td>\n",
              "      <td>0.0</td>\n",
              "    </tr>\n",
              "    <tr>\n",
              "      <th>6</th>\n",
              "      <td>source</td>\n",
              "      <td>0.0</td>\n",
              "    </tr>\n",
              "    <tr>\n",
              "      <th>7</th>\n",
              "      <td>source_city</td>\n",
              "      <td>0.0</td>\n",
              "    </tr>\n",
              "    <tr>\n",
              "      <th>8</th>\n",
              "      <td>source_country</td>\n",
              "      <td>0.0</td>\n",
              "    </tr>\n",
              "    <tr>\n",
              "      <th>9</th>\n",
              "      <td>utm_source</td>\n",
              "      <td>0.0</td>\n",
              "    </tr>\n",
              "    <tr>\n",
              "      <th>10</th>\n",
              "      <td>utm_medium</td>\n",
              "      <td>0.0</td>\n",
              "    </tr>\n",
              "    <tr>\n",
              "      <th>11</th>\n",
              "      <td>des_city</td>\n",
              "      <td>0.0</td>\n",
              "    </tr>\n",
              "    <tr>\n",
              "      <th>12</th>\n",
              "      <td>des_country</td>\n",
              "      <td>0.0</td>\n",
              "    </tr>\n",
              "  </tbody>\n",
              "</table>\n",
              "</div>\n",
              "      <button class=\"colab-df-convert\" onclick=\"convertToInteractive('df-624bc347-51d2-486c-9b1c-d5a8183a6b9f')\"\n",
              "              title=\"Convert this dataframe to an interactive table.\"\n",
              "              style=\"display:none;\">\n",
              "        \n",
              "  <svg xmlns=\"http://www.w3.org/2000/svg\" height=\"24px\"viewBox=\"0 0 24 24\"\n",
              "       width=\"24px\">\n",
              "    <path d=\"M0 0h24v24H0V0z\" fill=\"none\"/>\n",
              "    <path d=\"M18.56 5.44l.94 2.06.94-2.06 2.06-.94-2.06-.94-.94-2.06-.94 2.06-2.06.94zm-11 1L8.5 8.5l.94-2.06 2.06-.94-2.06-.94L8.5 2.5l-.94 2.06-2.06.94zm10 10l.94 2.06.94-2.06 2.06-.94-2.06-.94-.94-2.06-.94 2.06-2.06.94z\"/><path d=\"M17.41 7.96l-1.37-1.37c-.4-.4-.92-.59-1.43-.59-.52 0-1.04.2-1.43.59L10.3 9.45l-7.72 7.72c-.78.78-.78 2.05 0 2.83L4 21.41c.39.39.9.59 1.41.59.51 0 1.02-.2 1.41-.59l7.78-7.78 2.81-2.81c.8-.78.8-2.07 0-2.86zM5.41 20L4 18.59l7.72-7.72 1.47 1.35L5.41 20z\"/>\n",
              "  </svg>\n",
              "      </button>\n",
              "      \n",
              "  <style>\n",
              "    .colab-df-container {\n",
              "      display:flex;\n",
              "      flex-wrap:wrap;\n",
              "      gap: 12px;\n",
              "    }\n",
              "\n",
              "    .colab-df-convert {\n",
              "      background-color: #E8F0FE;\n",
              "      border: none;\n",
              "      border-radius: 50%;\n",
              "      cursor: pointer;\n",
              "      display: none;\n",
              "      fill: #1967D2;\n",
              "      height: 32px;\n",
              "      padding: 0 0 0 0;\n",
              "      width: 32px;\n",
              "    }\n",
              "\n",
              "    .colab-df-convert:hover {\n",
              "      background-color: #E2EBFA;\n",
              "      box-shadow: 0px 1px 2px rgba(60, 64, 67, 0.3), 0px 1px 3px 1px rgba(60, 64, 67, 0.15);\n",
              "      fill: #174EA6;\n",
              "    }\n",
              "\n",
              "    [theme=dark] .colab-df-convert {\n",
              "      background-color: #3B4455;\n",
              "      fill: #D2E3FC;\n",
              "    }\n",
              "\n",
              "    [theme=dark] .colab-df-convert:hover {\n",
              "      background-color: #434B5C;\n",
              "      box-shadow: 0px 1px 3px 1px rgba(0, 0, 0, 0.15);\n",
              "      filter: drop-shadow(0px 1px 2px rgba(0, 0, 0, 0.3));\n",
              "      fill: #FFFFFF;\n",
              "    }\n",
              "  </style>\n",
              "\n",
              "      <script>\n",
              "        const buttonEl =\n",
              "          document.querySelector('#df-624bc347-51d2-486c-9b1c-d5a8183a6b9f button.colab-df-convert');\n",
              "        buttonEl.style.display =\n",
              "          google.colab.kernel.accessAllowed ? 'block' : 'none';\n",
              "\n",
              "        async function convertToInteractive(key) {\n",
              "          const element = document.querySelector('#df-624bc347-51d2-486c-9b1c-d5a8183a6b9f');\n",
              "          const dataTable =\n",
              "            await google.colab.kernel.invokeFunction('convertToInteractive',\n",
              "                                                     [key], {});\n",
              "          if (!dataTable) return;\n",
              "\n",
              "          const docLinkHtml = 'Like what you see? Visit the ' +\n",
              "            '<a target=\"_blank\" href=https://colab.research.google.com/notebooks/data_table.ipynb>data table notebook</a>'\n",
              "            + ' to learn more about interactive tables.';\n",
              "          element.innerHTML = '';\n",
              "          dataTable['output_type'] = 'display_data';\n",
              "          await google.colab.output.renderOutput(dataTable, element);\n",
              "          const docLink = document.createElement('div');\n",
              "          docLink.innerHTML = docLinkHtml;\n",
              "          element.appendChild(docLink);\n",
              "        }\n",
              "      </script>\n",
              "    </div>\n",
              "  </div>\n",
              "  "
            ]
          },
          "metadata": {},
          "execution_count": 83
        }
      ]
    },
    {
      "cell_type": "code",
      "source": [
        "data.to_csv('uniacco_cleaned.csv')"
      ],
      "metadata": {
        "id": "WIqgc2Qvk7Sh"
      },
      "execution_count": 84,
      "outputs": []
    },
    {
      "cell_type": "code",
      "source": [
        "data.head()"
      ],
      "metadata": {
        "colab": {
          "base_uri": "https://localhost:8080/",
          "height": 513
        },
        "id": "Ej65N3f-lZ8V",
        "outputId": "b37fc23c-f8fe-47e1-f2ba-ba89e7557b14"
      },
      "execution_count": 85,
      "outputs": [
        {
          "output_type": "execute_result",
          "data": {
            "text/plain": [
              "  Agent_id status     lost_reason                budget      lease    movein  \\\n",
              "0    other   LOST  Not responding   £60 - £120 per week  full year  10/09/22   \n",
              "1    other   LOST      Low budget   £60 - £120 per week  full year  10/09/22   \n",
              "2    other   LOST  Not responding  £121 - £180 per week  full year     other   \n",
              "3    other   LOST      Low budget      £0 - £0 per week          0  10/09/22   \n",
              "4    other   LOST           other   £60 - £120 per week  full year  10/09/22   \n",
              "\n",
              "                                              source  \\\n",
              "0  7aae3e886e89fc1187a5c47d6cea1c22998ee610ade1f2...   \n",
              "1  7aae3e886e89fc1187a5c47d6cea1c22998ee610ade1f2...   \n",
              "2  7aae3e886e89fc1187a5c47d6cea1c22998ee610ade1f2...   \n",
              "3                                              other   \n",
              "4  7aae3e886e89fc1187a5c47d6cea1c22998ee610ade1f2...   \n",
              "\n",
              "                                         source_city  \\\n",
              "0  ecc0e7dc084f141b29479058967d0bc07dee25d9690a98...   \n",
              "1  ecc0e7dc084f141b29479058967d0bc07dee25d9690a98...   \n",
              "2                                              other   \n",
              "3                                              other   \n",
              "4  ecc0e7dc084f141b29479058967d0bc07dee25d9690a98...   \n",
              "\n",
              "                                      source_country  \\\n",
              "0  e09e10e67812e9d236ad900e5d46b4308fc62f5d69446a...   \n",
              "1  e09e10e67812e9d236ad900e5d46b4308fc62f5d69446a...   \n",
              "2  e09e10e67812e9d236ad900e5d46b4308fc62f5d69446a...   \n",
              "3  e09e10e67812e9d236ad900e5d46b4308fc62f5d69446a...   \n",
              "4  e09e10e67812e9d236ad900e5d46b4308fc62f5d69446a...   \n",
              "\n",
              "                                          utm_source  \\\n",
              "0                                              other   \n",
              "1                                              other   \n",
              "2  bbdefa2950f49882f295b1285d4fa9dec45fc4144bfb07...   \n",
              "3  bbdefa2950f49882f295b1285d4fa9dec45fc4144bfb07...   \n",
              "4                                              other   \n",
              "\n",
              "                                          utm_medium  \\\n",
              "0                                              other   \n",
              "1                                              other   \n",
              "2  09076eb7665d1fb9389c7c4517fee0b00e43092eb34821...   \n",
              "3  09076eb7665d1fb9389c7c4517fee0b00e43092eb34821...   \n",
              "4                                              other   \n",
              "\n",
              "                                            des_city  \\\n",
              "0  ecc0e7dc084f141b29479058967d0bc07dee25d9690a98...   \n",
              "1                                              other   \n",
              "2  11ab03a1a8c367191355c152f39fe28cae5e426fce49ef...   \n",
              "3                                              other   \n",
              "4  ecc0e7dc084f141b29479058967d0bc07dee25d9690a98...   \n",
              "\n",
              "                                         des_country  \n",
              "0  8d23a6e37e0a6431a8f1b43a91026dcff51170a89a6512...  \n",
              "1  8d23a6e37e0a6431a8f1b43a91026dcff51170a89a6512...  \n",
              "2  8d23a6e37e0a6431a8f1b43a91026dcff51170a89a6512...  \n",
              "3  8d23a6e37e0a6431a8f1b43a91026dcff51170a89a6512...  \n",
              "4  8d23a6e37e0a6431a8f1b43a91026dcff51170a89a6512...  "
            ],
            "text/html": [
              "\n",
              "  <div id=\"df-7c17e664-c1cd-4bb6-88f2-0dccdec2880b\">\n",
              "    <div class=\"colab-df-container\">\n",
              "      <div>\n",
              "<style scoped>\n",
              "    .dataframe tbody tr th:only-of-type {\n",
              "        vertical-align: middle;\n",
              "    }\n",
              "\n",
              "    .dataframe tbody tr th {\n",
              "        vertical-align: top;\n",
              "    }\n",
              "\n",
              "    .dataframe thead th {\n",
              "        text-align: right;\n",
              "    }\n",
              "</style>\n",
              "<table border=\"1\" class=\"dataframe\">\n",
              "  <thead>\n",
              "    <tr style=\"text-align: right;\">\n",
              "      <th></th>\n",
              "      <th>Agent_id</th>\n",
              "      <th>status</th>\n",
              "      <th>lost_reason</th>\n",
              "      <th>budget</th>\n",
              "      <th>lease</th>\n",
              "      <th>movein</th>\n",
              "      <th>source</th>\n",
              "      <th>source_city</th>\n",
              "      <th>source_country</th>\n",
              "      <th>utm_source</th>\n",
              "      <th>utm_medium</th>\n",
              "      <th>des_city</th>\n",
              "      <th>des_country</th>\n",
              "    </tr>\n",
              "  </thead>\n",
              "  <tbody>\n",
              "    <tr>\n",
              "      <th>0</th>\n",
              "      <td>other</td>\n",
              "      <td>LOST</td>\n",
              "      <td>Not responding</td>\n",
              "      <td>£60 - £120 per week</td>\n",
              "      <td>full year</td>\n",
              "      <td>10/09/22</td>\n",
              "      <td>7aae3e886e89fc1187a5c47d6cea1c22998ee610ade1f2...</td>\n",
              "      <td>ecc0e7dc084f141b29479058967d0bc07dee25d9690a98...</td>\n",
              "      <td>e09e10e67812e9d236ad900e5d46b4308fc62f5d69446a...</td>\n",
              "      <td>other</td>\n",
              "      <td>other</td>\n",
              "      <td>ecc0e7dc084f141b29479058967d0bc07dee25d9690a98...</td>\n",
              "      <td>8d23a6e37e0a6431a8f1b43a91026dcff51170a89a6512...</td>\n",
              "    </tr>\n",
              "    <tr>\n",
              "      <th>1</th>\n",
              "      <td>other</td>\n",
              "      <td>LOST</td>\n",
              "      <td>Low budget</td>\n",
              "      <td>£60 - £120 per week</td>\n",
              "      <td>full year</td>\n",
              "      <td>10/09/22</td>\n",
              "      <td>7aae3e886e89fc1187a5c47d6cea1c22998ee610ade1f2...</td>\n",
              "      <td>ecc0e7dc084f141b29479058967d0bc07dee25d9690a98...</td>\n",
              "      <td>e09e10e67812e9d236ad900e5d46b4308fc62f5d69446a...</td>\n",
              "      <td>other</td>\n",
              "      <td>other</td>\n",
              "      <td>other</td>\n",
              "      <td>8d23a6e37e0a6431a8f1b43a91026dcff51170a89a6512...</td>\n",
              "    </tr>\n",
              "    <tr>\n",
              "      <th>2</th>\n",
              "      <td>other</td>\n",
              "      <td>LOST</td>\n",
              "      <td>Not responding</td>\n",
              "      <td>£121 - £180 per week</td>\n",
              "      <td>full year</td>\n",
              "      <td>other</td>\n",
              "      <td>7aae3e886e89fc1187a5c47d6cea1c22998ee610ade1f2...</td>\n",
              "      <td>other</td>\n",
              "      <td>e09e10e67812e9d236ad900e5d46b4308fc62f5d69446a...</td>\n",
              "      <td>bbdefa2950f49882f295b1285d4fa9dec45fc4144bfb07...</td>\n",
              "      <td>09076eb7665d1fb9389c7c4517fee0b00e43092eb34821...</td>\n",
              "      <td>11ab03a1a8c367191355c152f39fe28cae5e426fce49ef...</td>\n",
              "      <td>8d23a6e37e0a6431a8f1b43a91026dcff51170a89a6512...</td>\n",
              "    </tr>\n",
              "    <tr>\n",
              "      <th>3</th>\n",
              "      <td>other</td>\n",
              "      <td>LOST</td>\n",
              "      <td>Low budget</td>\n",
              "      <td>£0 - £0 per week</td>\n",
              "      <td>0</td>\n",
              "      <td>10/09/22</td>\n",
              "      <td>other</td>\n",
              "      <td>other</td>\n",
              "      <td>e09e10e67812e9d236ad900e5d46b4308fc62f5d69446a...</td>\n",
              "      <td>bbdefa2950f49882f295b1285d4fa9dec45fc4144bfb07...</td>\n",
              "      <td>09076eb7665d1fb9389c7c4517fee0b00e43092eb34821...</td>\n",
              "      <td>other</td>\n",
              "      <td>8d23a6e37e0a6431a8f1b43a91026dcff51170a89a6512...</td>\n",
              "    </tr>\n",
              "    <tr>\n",
              "      <th>4</th>\n",
              "      <td>other</td>\n",
              "      <td>LOST</td>\n",
              "      <td>other</td>\n",
              "      <td>£60 - £120 per week</td>\n",
              "      <td>full year</td>\n",
              "      <td>10/09/22</td>\n",
              "      <td>7aae3e886e89fc1187a5c47d6cea1c22998ee610ade1f2...</td>\n",
              "      <td>ecc0e7dc084f141b29479058967d0bc07dee25d9690a98...</td>\n",
              "      <td>e09e10e67812e9d236ad900e5d46b4308fc62f5d69446a...</td>\n",
              "      <td>other</td>\n",
              "      <td>other</td>\n",
              "      <td>ecc0e7dc084f141b29479058967d0bc07dee25d9690a98...</td>\n",
              "      <td>8d23a6e37e0a6431a8f1b43a91026dcff51170a89a6512...</td>\n",
              "    </tr>\n",
              "  </tbody>\n",
              "</table>\n",
              "</div>\n",
              "      <button class=\"colab-df-convert\" onclick=\"convertToInteractive('df-7c17e664-c1cd-4bb6-88f2-0dccdec2880b')\"\n",
              "              title=\"Convert this dataframe to an interactive table.\"\n",
              "              style=\"display:none;\">\n",
              "        \n",
              "  <svg xmlns=\"http://www.w3.org/2000/svg\" height=\"24px\"viewBox=\"0 0 24 24\"\n",
              "       width=\"24px\">\n",
              "    <path d=\"M0 0h24v24H0V0z\" fill=\"none\"/>\n",
              "    <path d=\"M18.56 5.44l.94 2.06.94-2.06 2.06-.94-2.06-.94-.94-2.06-.94 2.06-2.06.94zm-11 1L8.5 8.5l.94-2.06 2.06-.94-2.06-.94L8.5 2.5l-.94 2.06-2.06.94zm10 10l.94 2.06.94-2.06 2.06-.94-2.06-.94-.94-2.06-.94 2.06-2.06.94z\"/><path d=\"M17.41 7.96l-1.37-1.37c-.4-.4-.92-.59-1.43-.59-.52 0-1.04.2-1.43.59L10.3 9.45l-7.72 7.72c-.78.78-.78 2.05 0 2.83L4 21.41c.39.39.9.59 1.41.59.51 0 1.02-.2 1.41-.59l7.78-7.78 2.81-2.81c.8-.78.8-2.07 0-2.86zM5.41 20L4 18.59l7.72-7.72 1.47 1.35L5.41 20z\"/>\n",
              "  </svg>\n",
              "      </button>\n",
              "      \n",
              "  <style>\n",
              "    .colab-df-container {\n",
              "      display:flex;\n",
              "      flex-wrap:wrap;\n",
              "      gap: 12px;\n",
              "    }\n",
              "\n",
              "    .colab-df-convert {\n",
              "      background-color: #E8F0FE;\n",
              "      border: none;\n",
              "      border-radius: 50%;\n",
              "      cursor: pointer;\n",
              "      display: none;\n",
              "      fill: #1967D2;\n",
              "      height: 32px;\n",
              "      padding: 0 0 0 0;\n",
              "      width: 32px;\n",
              "    }\n",
              "\n",
              "    .colab-df-convert:hover {\n",
              "      background-color: #E2EBFA;\n",
              "      box-shadow: 0px 1px 2px rgba(60, 64, 67, 0.3), 0px 1px 3px 1px rgba(60, 64, 67, 0.15);\n",
              "      fill: #174EA6;\n",
              "    }\n",
              "\n",
              "    [theme=dark] .colab-df-convert {\n",
              "      background-color: #3B4455;\n",
              "      fill: #D2E3FC;\n",
              "    }\n",
              "\n",
              "    [theme=dark] .colab-df-convert:hover {\n",
              "      background-color: #434B5C;\n",
              "      box-shadow: 0px 1px 3px 1px rgba(0, 0, 0, 0.15);\n",
              "      filter: drop-shadow(0px 1px 2px rgba(0, 0, 0, 0.3));\n",
              "      fill: #FFFFFF;\n",
              "    }\n",
              "  </style>\n",
              "\n",
              "      <script>\n",
              "        const buttonEl =\n",
              "          document.querySelector('#df-7c17e664-c1cd-4bb6-88f2-0dccdec2880b button.colab-df-convert');\n",
              "        buttonEl.style.display =\n",
              "          google.colab.kernel.accessAllowed ? 'block' : 'none';\n",
              "\n",
              "        async function convertToInteractive(key) {\n",
              "          const element = document.querySelector('#df-7c17e664-c1cd-4bb6-88f2-0dccdec2880b');\n",
              "          const dataTable =\n",
              "            await google.colab.kernel.invokeFunction('convertToInteractive',\n",
              "                                                     [key], {});\n",
              "          if (!dataTable) return;\n",
              "\n",
              "          const docLinkHtml = 'Like what you see? Visit the ' +\n",
              "            '<a target=\"_blank\" href=https://colab.research.google.com/notebooks/data_table.ipynb>data table notebook</a>'\n",
              "            + ' to learn more about interactive tables.';\n",
              "          element.innerHTML = '';\n",
              "          dataTable['output_type'] = 'display_data';\n",
              "          await google.colab.output.renderOutput(dataTable, element);\n",
              "          const docLink = document.createElement('div');\n",
              "          docLink.innerHTML = docLinkHtml;\n",
              "          element.appendChild(docLink);\n",
              "        }\n",
              "      </script>\n",
              "    </div>\n",
              "  </div>\n",
              "  "
            ]
          },
          "metadata": {},
          "execution_count": 85
        }
      ]
    },
    {
      "cell_type": "code",
      "source": [
        "X = data.drop('status', axis=1)\n",
        "y = data.status\n",
        "y = np.array([0 if i == 'LOST' else 1 for i in y])"
      ],
      "metadata": {
        "id": "_-0IIY301DWW"
      },
      "execution_count": 86,
      "outputs": []
    },
    {
      "cell_type": "code",
      "source": [
        "X.head()"
      ],
      "metadata": {
        "colab": {
          "base_uri": "https://localhost:8080/",
          "height": 513
        },
        "id": "aMb1y2Z33GhW",
        "outputId": "102ab897-989f-4a6c-b084-05be059c1661"
      },
      "execution_count": 87,
      "outputs": [
        {
          "output_type": "execute_result",
          "data": {
            "text/plain": [
              "  Agent_id     lost_reason                budget      lease    movein  \\\n",
              "0    other  Not responding   £60 - £120 per week  full year  10/09/22   \n",
              "1    other      Low budget   £60 - £120 per week  full year  10/09/22   \n",
              "2    other  Not responding  £121 - £180 per week  full year     other   \n",
              "3    other      Low budget      £0 - £0 per week          0  10/09/22   \n",
              "4    other           other   £60 - £120 per week  full year  10/09/22   \n",
              "\n",
              "                                              source  \\\n",
              "0  7aae3e886e89fc1187a5c47d6cea1c22998ee610ade1f2...   \n",
              "1  7aae3e886e89fc1187a5c47d6cea1c22998ee610ade1f2...   \n",
              "2  7aae3e886e89fc1187a5c47d6cea1c22998ee610ade1f2...   \n",
              "3                                              other   \n",
              "4  7aae3e886e89fc1187a5c47d6cea1c22998ee610ade1f2...   \n",
              "\n",
              "                                         source_city  \\\n",
              "0  ecc0e7dc084f141b29479058967d0bc07dee25d9690a98...   \n",
              "1  ecc0e7dc084f141b29479058967d0bc07dee25d9690a98...   \n",
              "2                                              other   \n",
              "3                                              other   \n",
              "4  ecc0e7dc084f141b29479058967d0bc07dee25d9690a98...   \n",
              "\n",
              "                                      source_country  \\\n",
              "0  e09e10e67812e9d236ad900e5d46b4308fc62f5d69446a...   \n",
              "1  e09e10e67812e9d236ad900e5d46b4308fc62f5d69446a...   \n",
              "2  e09e10e67812e9d236ad900e5d46b4308fc62f5d69446a...   \n",
              "3  e09e10e67812e9d236ad900e5d46b4308fc62f5d69446a...   \n",
              "4  e09e10e67812e9d236ad900e5d46b4308fc62f5d69446a...   \n",
              "\n",
              "                                          utm_source  \\\n",
              "0                                              other   \n",
              "1                                              other   \n",
              "2  bbdefa2950f49882f295b1285d4fa9dec45fc4144bfb07...   \n",
              "3  bbdefa2950f49882f295b1285d4fa9dec45fc4144bfb07...   \n",
              "4                                              other   \n",
              "\n",
              "                                          utm_medium  \\\n",
              "0                                              other   \n",
              "1                                              other   \n",
              "2  09076eb7665d1fb9389c7c4517fee0b00e43092eb34821...   \n",
              "3  09076eb7665d1fb9389c7c4517fee0b00e43092eb34821...   \n",
              "4                                              other   \n",
              "\n",
              "                                            des_city  \\\n",
              "0  ecc0e7dc084f141b29479058967d0bc07dee25d9690a98...   \n",
              "1                                              other   \n",
              "2  11ab03a1a8c367191355c152f39fe28cae5e426fce49ef...   \n",
              "3                                              other   \n",
              "4  ecc0e7dc084f141b29479058967d0bc07dee25d9690a98...   \n",
              "\n",
              "                                         des_country  \n",
              "0  8d23a6e37e0a6431a8f1b43a91026dcff51170a89a6512...  \n",
              "1  8d23a6e37e0a6431a8f1b43a91026dcff51170a89a6512...  \n",
              "2  8d23a6e37e0a6431a8f1b43a91026dcff51170a89a6512...  \n",
              "3  8d23a6e37e0a6431a8f1b43a91026dcff51170a89a6512...  \n",
              "4  8d23a6e37e0a6431a8f1b43a91026dcff51170a89a6512...  "
            ],
            "text/html": [
              "\n",
              "  <div id=\"df-eeb017a2-8dfe-4224-b68f-9708041221c4\">\n",
              "    <div class=\"colab-df-container\">\n",
              "      <div>\n",
              "<style scoped>\n",
              "    .dataframe tbody tr th:only-of-type {\n",
              "        vertical-align: middle;\n",
              "    }\n",
              "\n",
              "    .dataframe tbody tr th {\n",
              "        vertical-align: top;\n",
              "    }\n",
              "\n",
              "    .dataframe thead th {\n",
              "        text-align: right;\n",
              "    }\n",
              "</style>\n",
              "<table border=\"1\" class=\"dataframe\">\n",
              "  <thead>\n",
              "    <tr style=\"text-align: right;\">\n",
              "      <th></th>\n",
              "      <th>Agent_id</th>\n",
              "      <th>lost_reason</th>\n",
              "      <th>budget</th>\n",
              "      <th>lease</th>\n",
              "      <th>movein</th>\n",
              "      <th>source</th>\n",
              "      <th>source_city</th>\n",
              "      <th>source_country</th>\n",
              "      <th>utm_source</th>\n",
              "      <th>utm_medium</th>\n",
              "      <th>des_city</th>\n",
              "      <th>des_country</th>\n",
              "    </tr>\n",
              "  </thead>\n",
              "  <tbody>\n",
              "    <tr>\n",
              "      <th>0</th>\n",
              "      <td>other</td>\n",
              "      <td>Not responding</td>\n",
              "      <td>£60 - £120 per week</td>\n",
              "      <td>full year</td>\n",
              "      <td>10/09/22</td>\n",
              "      <td>7aae3e886e89fc1187a5c47d6cea1c22998ee610ade1f2...</td>\n",
              "      <td>ecc0e7dc084f141b29479058967d0bc07dee25d9690a98...</td>\n",
              "      <td>e09e10e67812e9d236ad900e5d46b4308fc62f5d69446a...</td>\n",
              "      <td>other</td>\n",
              "      <td>other</td>\n",
              "      <td>ecc0e7dc084f141b29479058967d0bc07dee25d9690a98...</td>\n",
              "      <td>8d23a6e37e0a6431a8f1b43a91026dcff51170a89a6512...</td>\n",
              "    </tr>\n",
              "    <tr>\n",
              "      <th>1</th>\n",
              "      <td>other</td>\n",
              "      <td>Low budget</td>\n",
              "      <td>£60 - £120 per week</td>\n",
              "      <td>full year</td>\n",
              "      <td>10/09/22</td>\n",
              "      <td>7aae3e886e89fc1187a5c47d6cea1c22998ee610ade1f2...</td>\n",
              "      <td>ecc0e7dc084f141b29479058967d0bc07dee25d9690a98...</td>\n",
              "      <td>e09e10e67812e9d236ad900e5d46b4308fc62f5d69446a...</td>\n",
              "      <td>other</td>\n",
              "      <td>other</td>\n",
              "      <td>other</td>\n",
              "      <td>8d23a6e37e0a6431a8f1b43a91026dcff51170a89a6512...</td>\n",
              "    </tr>\n",
              "    <tr>\n",
              "      <th>2</th>\n",
              "      <td>other</td>\n",
              "      <td>Not responding</td>\n",
              "      <td>£121 - £180 per week</td>\n",
              "      <td>full year</td>\n",
              "      <td>other</td>\n",
              "      <td>7aae3e886e89fc1187a5c47d6cea1c22998ee610ade1f2...</td>\n",
              "      <td>other</td>\n",
              "      <td>e09e10e67812e9d236ad900e5d46b4308fc62f5d69446a...</td>\n",
              "      <td>bbdefa2950f49882f295b1285d4fa9dec45fc4144bfb07...</td>\n",
              "      <td>09076eb7665d1fb9389c7c4517fee0b00e43092eb34821...</td>\n",
              "      <td>11ab03a1a8c367191355c152f39fe28cae5e426fce49ef...</td>\n",
              "      <td>8d23a6e37e0a6431a8f1b43a91026dcff51170a89a6512...</td>\n",
              "    </tr>\n",
              "    <tr>\n",
              "      <th>3</th>\n",
              "      <td>other</td>\n",
              "      <td>Low budget</td>\n",
              "      <td>£0 - £0 per week</td>\n",
              "      <td>0</td>\n",
              "      <td>10/09/22</td>\n",
              "      <td>other</td>\n",
              "      <td>other</td>\n",
              "      <td>e09e10e67812e9d236ad900e5d46b4308fc62f5d69446a...</td>\n",
              "      <td>bbdefa2950f49882f295b1285d4fa9dec45fc4144bfb07...</td>\n",
              "      <td>09076eb7665d1fb9389c7c4517fee0b00e43092eb34821...</td>\n",
              "      <td>other</td>\n",
              "      <td>8d23a6e37e0a6431a8f1b43a91026dcff51170a89a6512...</td>\n",
              "    </tr>\n",
              "    <tr>\n",
              "      <th>4</th>\n",
              "      <td>other</td>\n",
              "      <td>other</td>\n",
              "      <td>£60 - £120 per week</td>\n",
              "      <td>full year</td>\n",
              "      <td>10/09/22</td>\n",
              "      <td>7aae3e886e89fc1187a5c47d6cea1c22998ee610ade1f2...</td>\n",
              "      <td>ecc0e7dc084f141b29479058967d0bc07dee25d9690a98...</td>\n",
              "      <td>e09e10e67812e9d236ad900e5d46b4308fc62f5d69446a...</td>\n",
              "      <td>other</td>\n",
              "      <td>other</td>\n",
              "      <td>ecc0e7dc084f141b29479058967d0bc07dee25d9690a98...</td>\n",
              "      <td>8d23a6e37e0a6431a8f1b43a91026dcff51170a89a6512...</td>\n",
              "    </tr>\n",
              "  </tbody>\n",
              "</table>\n",
              "</div>\n",
              "      <button class=\"colab-df-convert\" onclick=\"convertToInteractive('df-eeb017a2-8dfe-4224-b68f-9708041221c4')\"\n",
              "              title=\"Convert this dataframe to an interactive table.\"\n",
              "              style=\"display:none;\">\n",
              "        \n",
              "  <svg xmlns=\"http://www.w3.org/2000/svg\" height=\"24px\"viewBox=\"0 0 24 24\"\n",
              "       width=\"24px\">\n",
              "    <path d=\"M0 0h24v24H0V0z\" fill=\"none\"/>\n",
              "    <path d=\"M18.56 5.44l.94 2.06.94-2.06 2.06-.94-2.06-.94-.94-2.06-.94 2.06-2.06.94zm-11 1L8.5 8.5l.94-2.06 2.06-.94-2.06-.94L8.5 2.5l-.94 2.06-2.06.94zm10 10l.94 2.06.94-2.06 2.06-.94-2.06-.94-.94-2.06-.94 2.06-2.06.94z\"/><path d=\"M17.41 7.96l-1.37-1.37c-.4-.4-.92-.59-1.43-.59-.52 0-1.04.2-1.43.59L10.3 9.45l-7.72 7.72c-.78.78-.78 2.05 0 2.83L4 21.41c.39.39.9.59 1.41.59.51 0 1.02-.2 1.41-.59l7.78-7.78 2.81-2.81c.8-.78.8-2.07 0-2.86zM5.41 20L4 18.59l7.72-7.72 1.47 1.35L5.41 20z\"/>\n",
              "  </svg>\n",
              "      </button>\n",
              "      \n",
              "  <style>\n",
              "    .colab-df-container {\n",
              "      display:flex;\n",
              "      flex-wrap:wrap;\n",
              "      gap: 12px;\n",
              "    }\n",
              "\n",
              "    .colab-df-convert {\n",
              "      background-color: #E8F0FE;\n",
              "      border: none;\n",
              "      border-radius: 50%;\n",
              "      cursor: pointer;\n",
              "      display: none;\n",
              "      fill: #1967D2;\n",
              "      height: 32px;\n",
              "      padding: 0 0 0 0;\n",
              "      width: 32px;\n",
              "    }\n",
              "\n",
              "    .colab-df-convert:hover {\n",
              "      background-color: #E2EBFA;\n",
              "      box-shadow: 0px 1px 2px rgba(60, 64, 67, 0.3), 0px 1px 3px 1px rgba(60, 64, 67, 0.15);\n",
              "      fill: #174EA6;\n",
              "    }\n",
              "\n",
              "    [theme=dark] .colab-df-convert {\n",
              "      background-color: #3B4455;\n",
              "      fill: #D2E3FC;\n",
              "    }\n",
              "\n",
              "    [theme=dark] .colab-df-convert:hover {\n",
              "      background-color: #434B5C;\n",
              "      box-shadow: 0px 1px 3px 1px rgba(0, 0, 0, 0.15);\n",
              "      filter: drop-shadow(0px 1px 2px rgba(0, 0, 0, 0.3));\n",
              "      fill: #FFFFFF;\n",
              "    }\n",
              "  </style>\n",
              "\n",
              "      <script>\n",
              "        const buttonEl =\n",
              "          document.querySelector('#df-eeb017a2-8dfe-4224-b68f-9708041221c4 button.colab-df-convert');\n",
              "        buttonEl.style.display =\n",
              "          google.colab.kernel.accessAllowed ? 'block' : 'none';\n",
              "\n",
              "        async function convertToInteractive(key) {\n",
              "          const element = document.querySelector('#df-eeb017a2-8dfe-4224-b68f-9708041221c4');\n",
              "          const dataTable =\n",
              "            await google.colab.kernel.invokeFunction('convertToInteractive',\n",
              "                                                     [key], {});\n",
              "          if (!dataTable) return;\n",
              "\n",
              "          const docLinkHtml = 'Like what you see? Visit the ' +\n",
              "            '<a target=\"_blank\" href=https://colab.research.google.com/notebooks/data_table.ipynb>data table notebook</a>'\n",
              "            + ' to learn more about interactive tables.';\n",
              "          element.innerHTML = '';\n",
              "          dataTable['output_type'] = 'display_data';\n",
              "          await google.colab.output.renderOutput(dataTable, element);\n",
              "          const docLink = document.createElement('div');\n",
              "          docLink.innerHTML = docLinkHtml;\n",
              "          element.appendChild(docLink);\n",
              "        }\n",
              "      </script>\n",
              "    </div>\n",
              "  </div>\n",
              "  "
            ]
          },
          "metadata": {},
          "execution_count": 87
        }
      ]
    },
    {
      "cell_type": "code",
      "source": [
        "y"
      ],
      "metadata": {
        "colab": {
          "base_uri": "https://localhost:8080/"
        },
        "id": "QJmDjuAc3ZoE",
        "outputId": "95912aad-9d82-46ff-b802-466154e0805c"
      },
      "execution_count": 88,
      "outputs": [
        {
          "output_type": "execute_result",
          "data": {
            "text/plain": [
              "array([0, 0, 0, ..., 0, 0, 0])"
            ]
          },
          "metadata": {},
          "execution_count": 88
        }
      ]
    },
    {
      "cell_type": "code",
      "source": [
        "X_one_hot = pd.get_dummies(X)\n",
        "X_one_hot.head()"
      ],
      "metadata": {
        "colab": {
          "base_uri": "https://localhost:8080/",
          "height": 334
        },
        "id": "3tSp0sOE3bXr",
        "outputId": "3832786b-cde9-42b5-fea3-a7007e1afaea"
      },
      "execution_count": 89,
      "outputs": [
        {
          "output_type": "execute_result",
          "data": {
            "text/plain": [
              "   Agent_id_2fca346db656187102ce806ac732e06a62df0dbb2829e511a770556d398e1a6e  \\\n",
              "0                                                  0                           \n",
              "1                                                  0                           \n",
              "2                                                  0                           \n",
              "3                                                  0                           \n",
              "4                                                  0                           \n",
              "\n",
              "   Agent_id_other  lost_reason_Low availability  lost_reason_Low budget  \\\n",
              "0               1                             0                       0   \n",
              "1               1                             0                       1   \n",
              "2               1                             0                       0   \n",
              "3               1                             0                       1   \n",
              "4               1                             0                       0   \n",
              "\n",
              "   lost_reason_Not interested  lost_reason_Not responding  lost_reason_other  \\\n",
              "0                           0                           1                  0   \n",
              "1                           0                           0                  0   \n",
              "2                           0                           1                  0   \n",
              "3                           0                           0                  0   \n",
              "4                           0                           0                  1   \n",
              "\n",
              "   budget_other  budget_£0 - £0 per week  budget_£121 - £180 per week  ...  \\\n",
              "0             0                        0                            0  ...   \n",
              "1             0                        0                            0  ...   \n",
              "2             0                        0                            1  ...   \n",
              "3             0                        1                            0  ...   \n",
              "4             0                        0                            0  ...   \n",
              "\n",
              "   utm_source_bbdefa2950f49882f295b1285d4fa9dec45fc4144bfb07ee6acc68762d12c2e3  \\\n",
              "0                                                  0                             \n",
              "1                                                  0                             \n",
              "2                                                  1                             \n",
              "3                                                  1                             \n",
              "4                                                  0                             \n",
              "\n",
              "   utm_source_other  \\\n",
              "0                 1   \n",
              "1                 1   \n",
              "2                 0   \n",
              "3                 0   \n",
              "4                 1   \n",
              "\n",
              "   utm_medium_09076eb7665d1fb9389c7c4517fee0b00e43092eb34821b09b5730c41ebcc50c  \\\n",
              "0                                                  0                             \n",
              "1                                                  0                             \n",
              "2                                                  1                             \n",
              "3                                                  1                             \n",
              "4                                                  0                             \n",
              "\n",
              "   utm_medium_other  \\\n",
              "0                 1   \n",
              "1                 1   \n",
              "2                 0   \n",
              "3                 0   \n",
              "4                 1   \n",
              "\n",
              "   des_city_11ab03a1a8c367191355c152f39fe28cae5e426fce49efb320230ca4ae3f97a1  \\\n",
              "0                                                  0                           \n",
              "1                                                  0                           \n",
              "2                                                  1                           \n",
              "3                                                  0                           \n",
              "4                                                  0                           \n",
              "\n",
              "   des_city_810c069040f6a9b16fdf976a901755508a87cb0224b169d4b5d803357e647947  \\\n",
              "0                                                  0                           \n",
              "1                                                  0                           \n",
              "2                                                  0                           \n",
              "3                                                  0                           \n",
              "4                                                  0                           \n",
              "\n",
              "   des_city_ecc0e7dc084f141b29479058967d0bc07dee25d9690a98ee4e6fdad5168274d7  \\\n",
              "0                                                  1                           \n",
              "1                                                  0                           \n",
              "2                                                  0                           \n",
              "3                                                  0                           \n",
              "4                                                  1                           \n",
              "\n",
              "   des_city_other  \\\n",
              "0               0   \n",
              "1               1   \n",
              "2               0   \n",
              "3               1   \n",
              "4               0   \n",
              "\n",
              "   des_country_8d23a6e37e0a6431a8f1b43a91026dcff51170a89a6512ff098eaa56a4d5fb19  \\\n",
              "0                                                  1                              \n",
              "1                                                  1                              \n",
              "2                                                  1                              \n",
              "3                                                  1                              \n",
              "4                                                  1                              \n",
              "\n",
              "   des_country_other  \n",
              "0                  0  \n",
              "1                  0  \n",
              "2                  0  \n",
              "3                  0  \n",
              "4                  0  \n",
              "\n",
              "[5 rows x 36 columns]"
            ],
            "text/html": [
              "\n",
              "  <div id=\"df-62a3419b-2105-4dfb-8ed1-d50622ff889b\">\n",
              "    <div class=\"colab-df-container\">\n",
              "      <div>\n",
              "<style scoped>\n",
              "    .dataframe tbody tr th:only-of-type {\n",
              "        vertical-align: middle;\n",
              "    }\n",
              "\n",
              "    .dataframe tbody tr th {\n",
              "        vertical-align: top;\n",
              "    }\n",
              "\n",
              "    .dataframe thead th {\n",
              "        text-align: right;\n",
              "    }\n",
              "</style>\n",
              "<table border=\"1\" class=\"dataframe\">\n",
              "  <thead>\n",
              "    <tr style=\"text-align: right;\">\n",
              "      <th></th>\n",
              "      <th>Agent_id_2fca346db656187102ce806ac732e06a62df0dbb2829e511a770556d398e1a6e</th>\n",
              "      <th>Agent_id_other</th>\n",
              "      <th>lost_reason_Low availability</th>\n",
              "      <th>lost_reason_Low budget</th>\n",
              "      <th>lost_reason_Not interested</th>\n",
              "      <th>lost_reason_Not responding</th>\n",
              "      <th>lost_reason_other</th>\n",
              "      <th>budget_other</th>\n",
              "      <th>budget_£0 - £0 per week</th>\n",
              "      <th>budget_£121 - £180 per week</th>\n",
              "      <th>...</th>\n",
              "      <th>utm_source_bbdefa2950f49882f295b1285d4fa9dec45fc4144bfb07ee6acc68762d12c2e3</th>\n",
              "      <th>utm_source_other</th>\n",
              "      <th>utm_medium_09076eb7665d1fb9389c7c4517fee0b00e43092eb34821b09b5730c41ebcc50c</th>\n",
              "      <th>utm_medium_other</th>\n",
              "      <th>des_city_11ab03a1a8c367191355c152f39fe28cae5e426fce49efb320230ca4ae3f97a1</th>\n",
              "      <th>des_city_810c069040f6a9b16fdf976a901755508a87cb0224b169d4b5d803357e647947</th>\n",
              "      <th>des_city_ecc0e7dc084f141b29479058967d0bc07dee25d9690a98ee4e6fdad5168274d7</th>\n",
              "      <th>des_city_other</th>\n",
              "      <th>des_country_8d23a6e37e0a6431a8f1b43a91026dcff51170a89a6512ff098eaa56a4d5fb19</th>\n",
              "      <th>des_country_other</th>\n",
              "    </tr>\n",
              "  </thead>\n",
              "  <tbody>\n",
              "    <tr>\n",
              "      <th>0</th>\n",
              "      <td>0</td>\n",
              "      <td>1</td>\n",
              "      <td>0</td>\n",
              "      <td>0</td>\n",
              "      <td>0</td>\n",
              "      <td>1</td>\n",
              "      <td>0</td>\n",
              "      <td>0</td>\n",
              "      <td>0</td>\n",
              "      <td>0</td>\n",
              "      <td>...</td>\n",
              "      <td>0</td>\n",
              "      <td>1</td>\n",
              "      <td>0</td>\n",
              "      <td>1</td>\n",
              "      <td>0</td>\n",
              "      <td>0</td>\n",
              "      <td>1</td>\n",
              "      <td>0</td>\n",
              "      <td>1</td>\n",
              "      <td>0</td>\n",
              "    </tr>\n",
              "    <tr>\n",
              "      <th>1</th>\n",
              "      <td>0</td>\n",
              "      <td>1</td>\n",
              "      <td>0</td>\n",
              "      <td>1</td>\n",
              "      <td>0</td>\n",
              "      <td>0</td>\n",
              "      <td>0</td>\n",
              "      <td>0</td>\n",
              "      <td>0</td>\n",
              "      <td>0</td>\n",
              "      <td>...</td>\n",
              "      <td>0</td>\n",
              "      <td>1</td>\n",
              "      <td>0</td>\n",
              "      <td>1</td>\n",
              "      <td>0</td>\n",
              "      <td>0</td>\n",
              "      <td>0</td>\n",
              "      <td>1</td>\n",
              "      <td>1</td>\n",
              "      <td>0</td>\n",
              "    </tr>\n",
              "    <tr>\n",
              "      <th>2</th>\n",
              "      <td>0</td>\n",
              "      <td>1</td>\n",
              "      <td>0</td>\n",
              "      <td>0</td>\n",
              "      <td>0</td>\n",
              "      <td>1</td>\n",
              "      <td>0</td>\n",
              "      <td>0</td>\n",
              "      <td>0</td>\n",
              "      <td>1</td>\n",
              "      <td>...</td>\n",
              "      <td>1</td>\n",
              "      <td>0</td>\n",
              "      <td>1</td>\n",
              "      <td>0</td>\n",
              "      <td>1</td>\n",
              "      <td>0</td>\n",
              "      <td>0</td>\n",
              "      <td>0</td>\n",
              "      <td>1</td>\n",
              "      <td>0</td>\n",
              "    </tr>\n",
              "    <tr>\n",
              "      <th>3</th>\n",
              "      <td>0</td>\n",
              "      <td>1</td>\n",
              "      <td>0</td>\n",
              "      <td>1</td>\n",
              "      <td>0</td>\n",
              "      <td>0</td>\n",
              "      <td>0</td>\n",
              "      <td>0</td>\n",
              "      <td>1</td>\n",
              "      <td>0</td>\n",
              "      <td>...</td>\n",
              "      <td>1</td>\n",
              "      <td>0</td>\n",
              "      <td>1</td>\n",
              "      <td>0</td>\n",
              "      <td>0</td>\n",
              "      <td>0</td>\n",
              "      <td>0</td>\n",
              "      <td>1</td>\n",
              "      <td>1</td>\n",
              "      <td>0</td>\n",
              "    </tr>\n",
              "    <tr>\n",
              "      <th>4</th>\n",
              "      <td>0</td>\n",
              "      <td>1</td>\n",
              "      <td>0</td>\n",
              "      <td>0</td>\n",
              "      <td>0</td>\n",
              "      <td>0</td>\n",
              "      <td>1</td>\n",
              "      <td>0</td>\n",
              "      <td>0</td>\n",
              "      <td>0</td>\n",
              "      <td>...</td>\n",
              "      <td>0</td>\n",
              "      <td>1</td>\n",
              "      <td>0</td>\n",
              "      <td>1</td>\n",
              "      <td>0</td>\n",
              "      <td>0</td>\n",
              "      <td>1</td>\n",
              "      <td>0</td>\n",
              "      <td>1</td>\n",
              "      <td>0</td>\n",
              "    </tr>\n",
              "  </tbody>\n",
              "</table>\n",
              "<p>5 rows × 36 columns</p>\n",
              "</div>\n",
              "      <button class=\"colab-df-convert\" onclick=\"convertToInteractive('df-62a3419b-2105-4dfb-8ed1-d50622ff889b')\"\n",
              "              title=\"Convert this dataframe to an interactive table.\"\n",
              "              style=\"display:none;\">\n",
              "        \n",
              "  <svg xmlns=\"http://www.w3.org/2000/svg\" height=\"24px\"viewBox=\"0 0 24 24\"\n",
              "       width=\"24px\">\n",
              "    <path d=\"M0 0h24v24H0V0z\" fill=\"none\"/>\n",
              "    <path d=\"M18.56 5.44l.94 2.06.94-2.06 2.06-.94-2.06-.94-.94-2.06-.94 2.06-2.06.94zm-11 1L8.5 8.5l.94-2.06 2.06-.94-2.06-.94L8.5 2.5l-.94 2.06-2.06.94zm10 10l.94 2.06.94-2.06 2.06-.94-2.06-.94-.94-2.06-.94 2.06-2.06.94z\"/><path d=\"M17.41 7.96l-1.37-1.37c-.4-.4-.92-.59-1.43-.59-.52 0-1.04.2-1.43.59L10.3 9.45l-7.72 7.72c-.78.78-.78 2.05 0 2.83L4 21.41c.39.39.9.59 1.41.59.51 0 1.02-.2 1.41-.59l7.78-7.78 2.81-2.81c.8-.78.8-2.07 0-2.86zM5.41 20L4 18.59l7.72-7.72 1.47 1.35L5.41 20z\"/>\n",
              "  </svg>\n",
              "      </button>\n",
              "      \n",
              "  <style>\n",
              "    .colab-df-container {\n",
              "      display:flex;\n",
              "      flex-wrap:wrap;\n",
              "      gap: 12px;\n",
              "    }\n",
              "\n",
              "    .colab-df-convert {\n",
              "      background-color: #E8F0FE;\n",
              "      border: none;\n",
              "      border-radius: 50%;\n",
              "      cursor: pointer;\n",
              "      display: none;\n",
              "      fill: #1967D2;\n",
              "      height: 32px;\n",
              "      padding: 0 0 0 0;\n",
              "      width: 32px;\n",
              "    }\n",
              "\n",
              "    .colab-df-convert:hover {\n",
              "      background-color: #E2EBFA;\n",
              "      box-shadow: 0px 1px 2px rgba(60, 64, 67, 0.3), 0px 1px 3px 1px rgba(60, 64, 67, 0.15);\n",
              "      fill: #174EA6;\n",
              "    }\n",
              "\n",
              "    [theme=dark] .colab-df-convert {\n",
              "      background-color: #3B4455;\n",
              "      fill: #D2E3FC;\n",
              "    }\n",
              "\n",
              "    [theme=dark] .colab-df-convert:hover {\n",
              "      background-color: #434B5C;\n",
              "      box-shadow: 0px 1px 3px 1px rgba(0, 0, 0, 0.15);\n",
              "      filter: drop-shadow(0px 1px 2px rgba(0, 0, 0, 0.3));\n",
              "      fill: #FFFFFF;\n",
              "    }\n",
              "  </style>\n",
              "\n",
              "      <script>\n",
              "        const buttonEl =\n",
              "          document.querySelector('#df-62a3419b-2105-4dfb-8ed1-d50622ff889b button.colab-df-convert');\n",
              "        buttonEl.style.display =\n",
              "          google.colab.kernel.accessAllowed ? 'block' : 'none';\n",
              "\n",
              "        async function convertToInteractive(key) {\n",
              "          const element = document.querySelector('#df-62a3419b-2105-4dfb-8ed1-d50622ff889b');\n",
              "          const dataTable =\n",
              "            await google.colab.kernel.invokeFunction('convertToInteractive',\n",
              "                                                     [key], {});\n",
              "          if (!dataTable) return;\n",
              "\n",
              "          const docLinkHtml = 'Like what you see? Visit the ' +\n",
              "            '<a target=\"_blank\" href=https://colab.research.google.com/notebooks/data_table.ipynb>data table notebook</a>'\n",
              "            + ' to learn more about interactive tables.';\n",
              "          element.innerHTML = '';\n",
              "          dataTable['output_type'] = 'display_data';\n",
              "          await google.colab.output.renderOutput(dataTable, element);\n",
              "          const docLink = document.createElement('div');\n",
              "          docLink.innerHTML = docLinkHtml;\n",
              "          element.appendChild(docLink);\n",
              "        }\n",
              "      </script>\n",
              "    </div>\n",
              "  </div>\n",
              "  "
            ]
          },
          "metadata": {},
          "execution_count": 89
        }
      ]
    },
    {
      "cell_type": "code",
      "source": [
        "X_one_hot.columns"
      ],
      "metadata": {
        "colab": {
          "base_uri": "https://localhost:8080/"
        },
        "id": "A7bwfD6J7A8y",
        "outputId": "980707c0-5650-409c-e88a-ec0b4a86df4f"
      },
      "execution_count": 90,
      "outputs": [
        {
          "output_type": "execute_result",
          "data": {
            "text/plain": [
              "Index(['Agent_id_2fca346db656187102ce806ac732e06a62df0dbb2829e511a770556d398e1a6e',\n",
              "       'Agent_id_other', 'lost_reason_Low availability',\n",
              "       'lost_reason_Low budget', 'lost_reason_Not interested',\n",
              "       'lost_reason_Not responding', 'lost_reason_other', 'budget_other',\n",
              "       'budget_£0 - £0 per week', 'budget_£121 - £180 per week',\n",
              "       'budget_£60 - £120 per week', 'lease_0', 'lease_51',\n",
              "       'lease_academic year', 'lease_full year', 'lease_other',\n",
              "       'movein_10/09/22', 'movein_other',\n",
              "       'source_7aae3e886e89fc1187a5c47d6cea1c22998ee610ade1f2b7c51be879f0c37ca8',\n",
              "       'source_other',\n",
              "       'source_city_ecc0e7dc084f141b29479058967d0bc07dee25d9690a98ee4e6fdad5168274d7',\n",
              "       'source_city_other',\n",
              "       'source_country_8da82000ef9c4468ba47362a924b895e40662fed846942a1870a674e5c6d1fc2',\n",
              "       'source_country_e09e10e67812e9d236ad900e5d46b4308fc62f5d69446a9750aa698e797e9c96',\n",
              "       'source_country_other',\n",
              "       'utm_source_7f3fa48ca885678134842fa7456f3ece53a97f843b610185d900ac4e467c7490',\n",
              "       'utm_source_bbdefa2950f49882f295b1285d4fa9dec45fc4144bfb07ee6acc68762d12c2e3',\n",
              "       'utm_source_other',\n",
              "       'utm_medium_09076eb7665d1fb9389c7c4517fee0b00e43092eb34821b09b5730c41ebcc50c',\n",
              "       'utm_medium_other',\n",
              "       'des_city_11ab03a1a8c367191355c152f39fe28cae5e426fce49efb320230ca4ae3f97a1',\n",
              "       'des_city_810c069040f6a9b16fdf976a901755508a87cb0224b169d4b5d803357e647947',\n",
              "       'des_city_ecc0e7dc084f141b29479058967d0bc07dee25d9690a98ee4e6fdad5168274d7',\n",
              "       'des_city_other',\n",
              "       'des_country_8d23a6e37e0a6431a8f1b43a91026dcff51170a89a6512ff098eaa56a4d5fb19',\n",
              "       'des_country_other'],\n",
              "      dtype='object')"
            ]
          },
          "metadata": {},
          "execution_count": 90
        }
      ]
    },
    {
      "cell_type": "code",
      "source": [
        "# Removing _other column for one-hot encoded columns to avoid dummy variable trap\n",
        "X_one_hot.drop([\n",
        "       'Agent_id_other',\n",
        "       'lost_reason_other', \n",
        "       'budget_other',\n",
        "       'lease_other',\n",
        "       'movein_other',\n",
        "       'source_other',\n",
        "       'source_city_other',\n",
        "       'source_country_other',\n",
        "       'utm_source_other',\n",
        "       'utm_medium_other',\n",
        "       'des_city_other',\n",
        "       'des_country_other'], axis=1, inplace=True)"
      ],
      "metadata": {
        "id": "t-oW1WJo6y5y"
      },
      "execution_count": 91,
      "outputs": []
    },
    {
      "cell_type": "code",
      "source": [
        "X_one_hot.shape"
      ],
      "metadata": {
        "colab": {
          "base_uri": "https://localhost:8080/"
        },
        "id": "Ki-SHR2N4bqH",
        "outputId": "b81751a0-57c2-4081-bca8-09745a49aaf0"
      },
      "execution_count": 92,
      "outputs": [
        {
          "output_type": "execute_result",
          "data": {
            "text/plain": [
              "(46317, 24)"
            ]
          },
          "metadata": {},
          "execution_count": 92
        }
      ]
    },
    {
      "cell_type": "markdown",
      "source": [
        "### Feature Selection"
      ],
      "metadata": {
        "id": "6uVVmel9AUAE"
      }
    },
    {
      "cell_type": "code",
      "source": [
        "# Feature Selection using Reccursive Feature Elemination using logistic regression model\n",
        "\n",
        "from sklearn.feature_selection import RFE\n",
        "from sklearn.linear_model import LogisticRegression\n",
        "\n",
        "logModel = LogisticRegression()\n",
        "rfe = RFE(logModel)\n",
        "fit = rfe.fit(X_one_hot, y)\n",
        "print(\"Num Features: %d\" % fit.n_features_)\n",
        "print(\"Selected Features: %s\" % fit.support_)\n",
        "print(\"Feature Ranking: %s\" % fit.ranking_)"
      ],
      "metadata": {
        "colab": {
          "base_uri": "https://localhost:8080/"
        },
        "id": "SpgYeXDF-QJz",
        "outputId": "f5c9b1e7-29a7-4d88-ba1a-c344bf1e273e"
      },
      "execution_count": 93,
      "outputs": [
        {
          "output_type": "stream",
          "name": "stdout",
          "text": [
            "Num Features: 12\n",
            "Selected Features: [ True  True  True  True  True False False False  True  True False False\n",
            " False False False False False False False  True  True  True  True  True]\n",
            "Feature Ranking: [ 1  1  1  1  1  5 13 11  1  1  9  8  7  2 10  6  4  3 12  1  1  1  1  1]\n"
          ]
        }
      ]
    },
    {
      "cell_type": "code",
      "source": [
        "selected_cols = X_one_hot.columns[fit.support_]"
      ],
      "metadata": {
        "id": "R4Ye1IaY_Abc"
      },
      "execution_count": 94,
      "outputs": []
    },
    {
      "cell_type": "code",
      "source": [
        "selected_cols"
      ],
      "metadata": {
        "colab": {
          "base_uri": "https://localhost:8080/"
        },
        "id": "mfcPUdxK_xXH",
        "outputId": "347a18be-0e48-4d4f-b2ab-9dbf30a93396"
      },
      "execution_count": 95,
      "outputs": [
        {
          "output_type": "execute_result",
          "data": {
            "text/plain": [
              "Index(['Agent_id_2fca346db656187102ce806ac732e06a62df0dbb2829e511a770556d398e1a6e',\n",
              "       'lost_reason_Low availability', 'lost_reason_Low budget',\n",
              "       'lost_reason_Not interested', 'lost_reason_Not responding', 'lease_0',\n",
              "       'lease_51',\n",
              "       'utm_medium_09076eb7665d1fb9389c7c4517fee0b00e43092eb34821b09b5730c41ebcc50c',\n",
              "       'des_city_11ab03a1a8c367191355c152f39fe28cae5e426fce49efb320230ca4ae3f97a1',\n",
              "       'des_city_810c069040f6a9b16fdf976a901755508a87cb0224b169d4b5d803357e647947',\n",
              "       'des_city_ecc0e7dc084f141b29479058967d0bc07dee25d9690a98ee4e6fdad5168274d7',\n",
              "       'des_country_8d23a6e37e0a6431a8f1b43a91026dcff51170a89a6512ff098eaa56a4d5fb19'],\n",
              "      dtype='object')"
            ]
          },
          "metadata": {},
          "execution_count": 95
        }
      ]
    },
    {
      "cell_type": "code",
      "source": [
        "X_fs = X_one_hot[selected_cols]"
      ],
      "metadata": {
        "id": "HFEdKtDcAHse"
      },
      "execution_count": 96,
      "outputs": []
    },
    {
      "cell_type": "code",
      "source": [
        "X_fs.head()"
      ],
      "metadata": {
        "colab": {
          "base_uri": "https://localhost:8080/",
          "height": 287
        },
        "id": "SG7g4E9JAP-O",
        "outputId": "d4ad7c60-695a-4c66-8da4-04a2f2604a91"
      },
      "execution_count": 97,
      "outputs": [
        {
          "output_type": "execute_result",
          "data": {
            "text/plain": [
              "   Agent_id_2fca346db656187102ce806ac732e06a62df0dbb2829e511a770556d398e1a6e  \\\n",
              "0                                                  0                           \n",
              "1                                                  0                           \n",
              "2                                                  0                           \n",
              "3                                                  0                           \n",
              "4                                                  0                           \n",
              "\n",
              "   lost_reason_Low availability  lost_reason_Low budget  \\\n",
              "0                             0                       0   \n",
              "1                             0                       1   \n",
              "2                             0                       0   \n",
              "3                             0                       1   \n",
              "4                             0                       0   \n",
              "\n",
              "   lost_reason_Not interested  lost_reason_Not responding  lease_0  lease_51  \\\n",
              "0                           0                           1        0         0   \n",
              "1                           0                           0        0         0   \n",
              "2                           0                           1        0         0   \n",
              "3                           0                           0        1         0   \n",
              "4                           0                           0        0         0   \n",
              "\n",
              "   utm_medium_09076eb7665d1fb9389c7c4517fee0b00e43092eb34821b09b5730c41ebcc50c  \\\n",
              "0                                                  0                             \n",
              "1                                                  0                             \n",
              "2                                                  1                             \n",
              "3                                                  1                             \n",
              "4                                                  0                             \n",
              "\n",
              "   des_city_11ab03a1a8c367191355c152f39fe28cae5e426fce49efb320230ca4ae3f97a1  \\\n",
              "0                                                  0                           \n",
              "1                                                  0                           \n",
              "2                                                  1                           \n",
              "3                                                  0                           \n",
              "4                                                  0                           \n",
              "\n",
              "   des_city_810c069040f6a9b16fdf976a901755508a87cb0224b169d4b5d803357e647947  \\\n",
              "0                                                  0                           \n",
              "1                                                  0                           \n",
              "2                                                  0                           \n",
              "3                                                  0                           \n",
              "4                                                  0                           \n",
              "\n",
              "   des_city_ecc0e7dc084f141b29479058967d0bc07dee25d9690a98ee4e6fdad5168274d7  \\\n",
              "0                                                  1                           \n",
              "1                                                  0                           \n",
              "2                                                  0                           \n",
              "3                                                  0                           \n",
              "4                                                  1                           \n",
              "\n",
              "   des_country_8d23a6e37e0a6431a8f1b43a91026dcff51170a89a6512ff098eaa56a4d5fb19  \n",
              "0                                                  1                             \n",
              "1                                                  1                             \n",
              "2                                                  1                             \n",
              "3                                                  1                             \n",
              "4                                                  1                             "
            ],
            "text/html": [
              "\n",
              "  <div id=\"df-4eb635df-a7e3-46c1-a9e7-24f6d65cf7f6\">\n",
              "    <div class=\"colab-df-container\">\n",
              "      <div>\n",
              "<style scoped>\n",
              "    .dataframe tbody tr th:only-of-type {\n",
              "        vertical-align: middle;\n",
              "    }\n",
              "\n",
              "    .dataframe tbody tr th {\n",
              "        vertical-align: top;\n",
              "    }\n",
              "\n",
              "    .dataframe thead th {\n",
              "        text-align: right;\n",
              "    }\n",
              "</style>\n",
              "<table border=\"1\" class=\"dataframe\">\n",
              "  <thead>\n",
              "    <tr style=\"text-align: right;\">\n",
              "      <th></th>\n",
              "      <th>Agent_id_2fca346db656187102ce806ac732e06a62df0dbb2829e511a770556d398e1a6e</th>\n",
              "      <th>lost_reason_Low availability</th>\n",
              "      <th>lost_reason_Low budget</th>\n",
              "      <th>lost_reason_Not interested</th>\n",
              "      <th>lost_reason_Not responding</th>\n",
              "      <th>lease_0</th>\n",
              "      <th>lease_51</th>\n",
              "      <th>utm_medium_09076eb7665d1fb9389c7c4517fee0b00e43092eb34821b09b5730c41ebcc50c</th>\n",
              "      <th>des_city_11ab03a1a8c367191355c152f39fe28cae5e426fce49efb320230ca4ae3f97a1</th>\n",
              "      <th>des_city_810c069040f6a9b16fdf976a901755508a87cb0224b169d4b5d803357e647947</th>\n",
              "      <th>des_city_ecc0e7dc084f141b29479058967d0bc07dee25d9690a98ee4e6fdad5168274d7</th>\n",
              "      <th>des_country_8d23a6e37e0a6431a8f1b43a91026dcff51170a89a6512ff098eaa56a4d5fb19</th>\n",
              "    </tr>\n",
              "  </thead>\n",
              "  <tbody>\n",
              "    <tr>\n",
              "      <th>0</th>\n",
              "      <td>0</td>\n",
              "      <td>0</td>\n",
              "      <td>0</td>\n",
              "      <td>0</td>\n",
              "      <td>1</td>\n",
              "      <td>0</td>\n",
              "      <td>0</td>\n",
              "      <td>0</td>\n",
              "      <td>0</td>\n",
              "      <td>0</td>\n",
              "      <td>1</td>\n",
              "      <td>1</td>\n",
              "    </tr>\n",
              "    <tr>\n",
              "      <th>1</th>\n",
              "      <td>0</td>\n",
              "      <td>0</td>\n",
              "      <td>1</td>\n",
              "      <td>0</td>\n",
              "      <td>0</td>\n",
              "      <td>0</td>\n",
              "      <td>0</td>\n",
              "      <td>0</td>\n",
              "      <td>0</td>\n",
              "      <td>0</td>\n",
              "      <td>0</td>\n",
              "      <td>1</td>\n",
              "    </tr>\n",
              "    <tr>\n",
              "      <th>2</th>\n",
              "      <td>0</td>\n",
              "      <td>0</td>\n",
              "      <td>0</td>\n",
              "      <td>0</td>\n",
              "      <td>1</td>\n",
              "      <td>0</td>\n",
              "      <td>0</td>\n",
              "      <td>1</td>\n",
              "      <td>1</td>\n",
              "      <td>0</td>\n",
              "      <td>0</td>\n",
              "      <td>1</td>\n",
              "    </tr>\n",
              "    <tr>\n",
              "      <th>3</th>\n",
              "      <td>0</td>\n",
              "      <td>0</td>\n",
              "      <td>1</td>\n",
              "      <td>0</td>\n",
              "      <td>0</td>\n",
              "      <td>1</td>\n",
              "      <td>0</td>\n",
              "      <td>1</td>\n",
              "      <td>0</td>\n",
              "      <td>0</td>\n",
              "      <td>0</td>\n",
              "      <td>1</td>\n",
              "    </tr>\n",
              "    <tr>\n",
              "      <th>4</th>\n",
              "      <td>0</td>\n",
              "      <td>0</td>\n",
              "      <td>0</td>\n",
              "      <td>0</td>\n",
              "      <td>0</td>\n",
              "      <td>0</td>\n",
              "      <td>0</td>\n",
              "      <td>0</td>\n",
              "      <td>0</td>\n",
              "      <td>0</td>\n",
              "      <td>1</td>\n",
              "      <td>1</td>\n",
              "    </tr>\n",
              "  </tbody>\n",
              "</table>\n",
              "</div>\n",
              "      <button class=\"colab-df-convert\" onclick=\"convertToInteractive('df-4eb635df-a7e3-46c1-a9e7-24f6d65cf7f6')\"\n",
              "              title=\"Convert this dataframe to an interactive table.\"\n",
              "              style=\"display:none;\">\n",
              "        \n",
              "  <svg xmlns=\"http://www.w3.org/2000/svg\" height=\"24px\"viewBox=\"0 0 24 24\"\n",
              "       width=\"24px\">\n",
              "    <path d=\"M0 0h24v24H0V0z\" fill=\"none\"/>\n",
              "    <path d=\"M18.56 5.44l.94 2.06.94-2.06 2.06-.94-2.06-.94-.94-2.06-.94 2.06-2.06.94zm-11 1L8.5 8.5l.94-2.06 2.06-.94-2.06-.94L8.5 2.5l-.94 2.06-2.06.94zm10 10l.94 2.06.94-2.06 2.06-.94-2.06-.94-.94-2.06-.94 2.06-2.06.94z\"/><path d=\"M17.41 7.96l-1.37-1.37c-.4-.4-.92-.59-1.43-.59-.52 0-1.04.2-1.43.59L10.3 9.45l-7.72 7.72c-.78.78-.78 2.05 0 2.83L4 21.41c.39.39.9.59 1.41.59.51 0 1.02-.2 1.41-.59l7.78-7.78 2.81-2.81c.8-.78.8-2.07 0-2.86zM5.41 20L4 18.59l7.72-7.72 1.47 1.35L5.41 20z\"/>\n",
              "  </svg>\n",
              "      </button>\n",
              "      \n",
              "  <style>\n",
              "    .colab-df-container {\n",
              "      display:flex;\n",
              "      flex-wrap:wrap;\n",
              "      gap: 12px;\n",
              "    }\n",
              "\n",
              "    .colab-df-convert {\n",
              "      background-color: #E8F0FE;\n",
              "      border: none;\n",
              "      border-radius: 50%;\n",
              "      cursor: pointer;\n",
              "      display: none;\n",
              "      fill: #1967D2;\n",
              "      height: 32px;\n",
              "      padding: 0 0 0 0;\n",
              "      width: 32px;\n",
              "    }\n",
              "\n",
              "    .colab-df-convert:hover {\n",
              "      background-color: #E2EBFA;\n",
              "      box-shadow: 0px 1px 2px rgba(60, 64, 67, 0.3), 0px 1px 3px 1px rgba(60, 64, 67, 0.15);\n",
              "      fill: #174EA6;\n",
              "    }\n",
              "\n",
              "    [theme=dark] .colab-df-convert {\n",
              "      background-color: #3B4455;\n",
              "      fill: #D2E3FC;\n",
              "    }\n",
              "\n",
              "    [theme=dark] .colab-df-convert:hover {\n",
              "      background-color: #434B5C;\n",
              "      box-shadow: 0px 1px 3px 1px rgba(0, 0, 0, 0.15);\n",
              "      filter: drop-shadow(0px 1px 2px rgba(0, 0, 0, 0.3));\n",
              "      fill: #FFFFFF;\n",
              "    }\n",
              "  </style>\n",
              "\n",
              "      <script>\n",
              "        const buttonEl =\n",
              "          document.querySelector('#df-4eb635df-a7e3-46c1-a9e7-24f6d65cf7f6 button.colab-df-convert');\n",
              "        buttonEl.style.display =\n",
              "          google.colab.kernel.accessAllowed ? 'block' : 'none';\n",
              "\n",
              "        async function convertToInteractive(key) {\n",
              "          const element = document.querySelector('#df-4eb635df-a7e3-46c1-a9e7-24f6d65cf7f6');\n",
              "          const dataTable =\n",
              "            await google.colab.kernel.invokeFunction('convertToInteractive',\n",
              "                                                     [key], {});\n",
              "          if (!dataTable) return;\n",
              "\n",
              "          const docLinkHtml = 'Like what you see? Visit the ' +\n",
              "            '<a target=\"_blank\" href=https://colab.research.google.com/notebooks/data_table.ipynb>data table notebook</a>'\n",
              "            + ' to learn more about interactive tables.';\n",
              "          element.innerHTML = '';\n",
              "          dataTable['output_type'] = 'display_data';\n",
              "          await google.colab.output.renderOutput(dataTable, element);\n",
              "          const docLink = document.createElement('div');\n",
              "          docLink.innerHTML = docLinkHtml;\n",
              "          element.appendChild(docLink);\n",
              "        }\n",
              "      </script>\n",
              "    </div>\n",
              "  </div>\n",
              "  "
            ]
          },
          "metadata": {},
          "execution_count": 97
        }
      ]
    },
    {
      "cell_type": "markdown",
      "source": [
        "## Model Training"
      ],
      "metadata": {
        "id": "qf_E8UAxARtE"
      }
    },
    {
      "cell_type": "code",
      "source": [
        "eval = {\"model\":[], \"acc\":[], \"precision\":[], \"recall\":[], \"f1\":[]}"
      ],
      "metadata": {
        "id": "Vwm4iIihA_Gt"
      },
      "execution_count": 98,
      "outputs": []
    },
    {
      "cell_type": "code",
      "source": [
        "from sklearn.model_selection import train_test_split\n",
        "X_train, X_test, y_train, y_test = train_test_split(X_fs, y, test_size=0.2, random_state=42)"
      ],
      "metadata": {
        "id": "ohKyzv3tBJtu"
      },
      "execution_count": 99,
      "outputs": []
    },
    {
      "cell_type": "code",
      "source": [
        "X_train.shape, y_train.shape"
      ],
      "metadata": {
        "colab": {
          "base_uri": "https://localhost:8080/"
        },
        "id": "IMJHzkrJBXbD",
        "outputId": "473b1dce-f8d4-44dc-9039-bfa4a8c6db3a"
      },
      "execution_count": 100,
      "outputs": [
        {
          "output_type": "execute_result",
          "data": {
            "text/plain": [
              "((37053, 12), (37053,))"
            ]
          },
          "metadata": {},
          "execution_count": 100
        }
      ]
    },
    {
      "cell_type": "code",
      "source": [
        "X_test.shape, y_test.shape"
      ],
      "metadata": {
        "colab": {
          "base_uri": "https://localhost:8080/"
        },
        "id": "s_1djFPdBbr_",
        "outputId": "6b6680f0-ef98-4877-ce25-38109e995091"
      },
      "execution_count": 101,
      "outputs": [
        {
          "output_type": "execute_result",
          "data": {
            "text/plain": [
              "((9264, 12), (9264,))"
            ]
          },
          "metadata": {},
          "execution_count": 101
        }
      ]
    },
    {
      "cell_type": "markdown",
      "source": [
        "### Logistic Regression"
      ],
      "metadata": {
        "id": "tRylSOXhAj4U"
      }
    },
    {
      "cell_type": "code",
      "source": [
        "from sklearn.linear_model import LogisticRegression\n",
        "\n",
        "model1 = LogisticRegression()\n",
        "model1.fit(X_train, y_train)\n",
        "y_pred = model1.predict(X_test)"
      ],
      "metadata": {
        "id": "qHuxB0ioA9YN"
      },
      "execution_count": 102,
      "outputs": []
    },
    {
      "cell_type": "code",
      "source": [
        "y_pred"
      ],
      "metadata": {
        "colab": {
          "base_uri": "https://localhost:8080/"
        },
        "id": "9iWYB6jkC_cz",
        "outputId": "cc0d875d-4736-4cce-c8a2-6327bb5469fc"
      },
      "execution_count": 103,
      "outputs": [
        {
          "output_type": "execute_result",
          "data": {
            "text/plain": [
              "array([0, 1, 0, ..., 0, 0, 0])"
            ]
          },
          "metadata": {},
          "execution_count": 103
        }
      ]
    },
    {
      "cell_type": "code",
      "source": [
        "y_test"
      ],
      "metadata": {
        "colab": {
          "base_uri": "https://localhost:8080/"
        },
        "id": "jUq7ZPH0DCBj",
        "outputId": "588aac3f-56c6-453c-886e-6b6b25cad2e6"
      },
      "execution_count": 104,
      "outputs": [
        {
          "output_type": "execute_result",
          "data": {
            "text/plain": [
              "array([0, 0, 0, ..., 0, 0, 0])"
            ]
          },
          "metadata": {},
          "execution_count": 104
        }
      ]
    },
    {
      "cell_type": "code",
      "source": [
        "from sklearn.metrics import accuracy_score, precision_score, recall_score, f1_score\n",
        "\n",
        "def get_metrics(y_pred, y_test):\n",
        "  acc = accuracy_score(y_pred, y_test)\n",
        "  precision = precision_score(y_pred, y_test)\n",
        "  recall = recall_score(y_pred, y_test)\n",
        "  f1 = f1_score(y_pred, y_test)\n",
        "\n",
        "  return acc, precision, recall, f1"
      ],
      "metadata": {
        "id": "xJa4ykooBvnR"
      },
      "execution_count": 105,
      "outputs": []
    },
    {
      "cell_type": "code",
      "source": [
        "acc, precision, recall, f1 = get_metrics(y_pred, y_test)"
      ],
      "metadata": {
        "id": "3urwPEmgC5hC"
      },
      "execution_count": 106,
      "outputs": []
    },
    {
      "cell_type": "code",
      "source": [
        "eval[\"model\"].append('logistic regression')\n",
        "eval[\"acc\"].append(acc)\n",
        "eval[\"precision\"].append(precision)\n",
        "eval[\"recall\"].append(recall)\n",
        "eval[\"f1\"].append(f1)\n",
        "eval"
      ],
      "metadata": {
        "colab": {
          "base_uri": "https://localhost:8080/"
        },
        "id": "3dDHM9N1C9Mb",
        "outputId": "b058380e-f83f-4401-8a0a-fdbaa7699860"
      },
      "execution_count": 107,
      "outputs": [
        {
          "output_type": "execute_result",
          "data": {
            "text/plain": [
              "{'model': ['logistic regression'],\n",
              " 'acc': [0.9810017271157168],\n",
              " 'precision': [0.915807560137457],\n",
              " 'recall': [0.8075757575757576],\n",
              " 'f1': [0.8582930756843802]}"
            ]
          },
          "metadata": {},
          "execution_count": 107
        }
      ]
    },
    {
      "cell_type": "markdown",
      "source": [
        "### Decision Tree"
      ],
      "metadata": {
        "id": "H5DHBN5HEQak"
      }
    },
    {
      "cell_type": "code",
      "source": [
        "from sklearn.tree import DecisionTreeClassifier\n",
        "\n",
        "tree = DecisionTreeClassifier()\n",
        "tree.fit(X_train, y_train)\n",
        "y_pred = tree.predict(X_test)"
      ],
      "metadata": {
        "id": "5Zh6R2ynFCkj"
      },
      "execution_count": 108,
      "outputs": []
    },
    {
      "cell_type": "code",
      "source": [
        "acc, precision, recall, f1 = get_metrics(y_pred, y_test)\n",
        "eval[\"model\"].append('decision tree')\n",
        "eval[\"acc\"].append(acc)\n",
        "eval[\"precision\"].append(precision)\n",
        "eval[\"recall\"].append(recall)\n",
        "eval[\"f1\"].append(f1)\n",
        "eval"
      ],
      "metadata": {
        "colab": {
          "base_uri": "https://localhost:8080/"
        },
        "id": "TR7EWtrDFnig",
        "outputId": "39b551f5-146f-4f33-dcde-a260751f5965"
      },
      "execution_count": 109,
      "outputs": [
        {
          "output_type": "execute_result",
          "data": {
            "text/plain": [
              "{'model': ['logistic regression', 'decision tree'],\n",
              " 'acc': [0.9810017271157168, 0.9819732297063903],\n",
              " 'precision': [0.915807560137457, 0.9398625429553265],\n",
              " 'recall': [0.8075757575757576, 0.8055964653902798],\n",
              " 'f1': [0.8582930756843802, 0.8675654242664552]}"
            ]
          },
          "metadata": {},
          "execution_count": 109
        }
      ]
    },
    {
      "cell_type": "markdown",
      "source": [
        "### Random Forest"
      ],
      "metadata": {
        "id": "cS8tTpMuFuQ8"
      }
    },
    {
      "cell_type": "code",
      "source": [
        "from sklearn.ensemble import RandomForestClassifier\n",
        "\n",
        "forest = RandomForestClassifier(n_estimators=100)\n",
        "forest.fit(X_train, y_train)\n",
        "y_pred = forest.predict(X_test)"
      ],
      "metadata": {
        "id": "wwuCn9Y-F0qz"
      },
      "execution_count": 110,
      "outputs": []
    },
    {
      "cell_type": "code",
      "source": [
        "acc, precision, recall, f1 = get_metrics(y_pred, y_test)\n",
        "eval[\"model\"].append('Random Forest')\n",
        "eval[\"acc\"].append(acc)\n",
        "eval[\"precision\"].append(precision)\n",
        "eval[\"recall\"].append(recall)\n",
        "eval[\"f1\"].append(f1)\n",
        "eval"
      ],
      "metadata": {
        "colab": {
          "base_uri": "https://localhost:8080/"
        },
        "id": "tbcJk-aAGHVo",
        "outputId": "6c1a058e-e869-4a35-b7c9-9c5e7a1086b6"
      },
      "execution_count": 111,
      "outputs": [
        {
          "output_type": "execute_result",
          "data": {
            "text/plain": [
              "{'model': ['logistic regression', 'decision tree', 'Random Forest'],\n",
              " 'acc': [0.9810017271157168, 0.9819732297063903, 0.9819732297063903],\n",
              " 'precision': [0.915807560137457, 0.9398625429553265, 0.9398625429553265],\n",
              " 'recall': [0.8075757575757576, 0.8055964653902798, 0.8055964653902798],\n",
              " 'f1': [0.8582930756843802, 0.8675654242664552, 0.8675654242664552]}"
            ]
          },
          "metadata": {},
          "execution_count": 111
        }
      ]
    },
    {
      "cell_type": "markdown",
      "source": [
        "### SVM"
      ],
      "metadata": {
        "id": "xyYFNd1vGMHt"
      }
    },
    {
      "cell_type": "code",
      "source": [
        "from sklearn.svm import SVC\n",
        "\n",
        "svm = SVC()\n",
        "svm.fit(X_train, y_train)\n",
        "y_pred = svm.predict(X_test)"
      ],
      "metadata": {
        "id": "INWmHtNVGRLq"
      },
      "execution_count": 112,
      "outputs": []
    },
    {
      "cell_type": "code",
      "source": [
        "acc, precision, recall, f1 = get_metrics(y_pred, y_test)\n",
        "eval[\"model\"].append('Support Vector Classifier')\n",
        "eval[\"acc\"].append(acc)\n",
        "eval[\"precision\"].append(precision)\n",
        "eval[\"recall\"].append(recall)\n",
        "eval[\"f1\"].append(f1)\n",
        "eval"
      ],
      "metadata": {
        "colab": {
          "base_uri": "https://localhost:8080/"
        },
        "id": "MA9gwFmsGp4K",
        "outputId": "2b24ea97-e36f-4dcf-b398-c41b18b8a615"
      },
      "execution_count": 113,
      "outputs": [
        {
          "output_type": "execute_result",
          "data": {
            "text/plain": [
              "{'model': ['logistic regression',\n",
              "  'decision tree',\n",
              "  'Random Forest',\n",
              "  'Support Vector Classifier'],\n",
              " 'acc': [0.9810017271157168,\n",
              "  0.9819732297063903,\n",
              "  0.9819732297063903,\n",
              "  0.9819732297063903],\n",
              " 'precision': [0.915807560137457,\n",
              "  0.9398625429553265,\n",
              "  0.9398625429553265,\n",
              "  0.9398625429553265],\n",
              " 'recall': [0.8075757575757576,\n",
              "  0.8055964653902798,\n",
              "  0.8055964653902798,\n",
              "  0.8055964653902798],\n",
              " 'f1': [0.8582930756843802,\n",
              "  0.8675654242664552,\n",
              "  0.8675654242664552,\n",
              "  0.8675654242664552]}"
            ]
          },
          "metadata": {},
          "execution_count": 113
        }
      ]
    },
    {
      "cell_type": "markdown",
      "source": [
        "### KNN"
      ],
      "metadata": {
        "id": "mFZu_ysMGzFf"
      }
    },
    {
      "cell_type": "code",
      "source": [
        "from sklearn.neighbors import KNeighborsClassifier\n",
        "\n",
        "knn = KNeighborsClassifier(n_neighbors=5)\n",
        "knn.fit(X_train, y_train)\n",
        "y_pred = knn.predict(X_test)"
      ],
      "metadata": {
        "id": "TkTmR2hjG4m5"
      },
      "execution_count": 114,
      "outputs": []
    },
    {
      "cell_type": "code",
      "source": [
        "acc, precision, recall, f1 = get_metrics(y_pred, y_test)\n",
        "eval[\"model\"].append('KNN')\n",
        "eval[\"acc\"].append(acc)\n",
        "eval[\"precision\"].append(precision)\n",
        "eval[\"recall\"].append(recall)\n",
        "eval[\"f1\"].append(f1)\n",
        "eval"
      ],
      "metadata": {
        "colab": {
          "base_uri": "https://localhost:8080/"
        },
        "id": "ypS13PFRHaFU",
        "outputId": "9a2a723a-c233-41a3-fd7d-8b2eb9158a40"
      },
      "execution_count": 115,
      "outputs": [
        {
          "output_type": "execute_result",
          "data": {
            "text/plain": [
              "{'model': ['logistic regression',\n",
              "  'decision tree',\n",
              "  'Random Forest',\n",
              "  'Support Vector Classifier',\n",
              "  'KNN'],\n",
              " 'acc': [0.9810017271157168,\n",
              "  0.9819732297063903,\n",
              "  0.9819732297063903,\n",
              "  0.9819732297063903,\n",
              "  0.9806778929188256],\n",
              " 'precision': [0.915807560137457,\n",
              "  0.9398625429553265,\n",
              "  0.9398625429553265,\n",
              "  0.9398625429553265,\n",
              "  0.9106529209621993],\n",
              " 'recall': [0.8075757575757576,\n",
              "  0.8055964653902798,\n",
              "  0.8055964653902798,\n",
              "  0.8055964653902798,\n",
              "  0.806697108066971],\n",
              " 'f1': [0.8582930756843802,\n",
              "  0.8675654242664552,\n",
              "  0.8675654242664552,\n",
              "  0.8675654242664552,\n",
              "  0.8555286521388217]}"
            ]
          },
          "metadata": {},
          "execution_count": 115
        }
      ]
    },
    {
      "cell_type": "code",
      "source": [
        "eval_df = pd.DataFrame(eval)\n",
        "eval_df"
      ],
      "metadata": {
        "colab": {
          "base_uri": "https://localhost:8080/",
          "height": 206
        },
        "id": "4oPK7-4NHgqE",
        "outputId": "d25a0b32-5e36-4ce4-83c1-64ce4b078ef3"
      },
      "execution_count": 116,
      "outputs": [
        {
          "output_type": "execute_result",
          "data": {
            "text/plain": [
              "                       model       acc  precision    recall        f1\n",
              "0        logistic regression  0.981002   0.915808  0.807576  0.858293\n",
              "1              decision tree  0.981973   0.939863  0.805596  0.867565\n",
              "2              Random Forest  0.981973   0.939863  0.805596  0.867565\n",
              "3  Support Vector Classifier  0.981973   0.939863  0.805596  0.867565\n",
              "4                        KNN  0.980678   0.910653  0.806697  0.855529"
            ],
            "text/html": [
              "\n",
              "  <div id=\"df-c1969cb9-8ae5-47c7-8f26-824b89e7380f\">\n",
              "    <div class=\"colab-df-container\">\n",
              "      <div>\n",
              "<style scoped>\n",
              "    .dataframe tbody tr th:only-of-type {\n",
              "        vertical-align: middle;\n",
              "    }\n",
              "\n",
              "    .dataframe tbody tr th {\n",
              "        vertical-align: top;\n",
              "    }\n",
              "\n",
              "    .dataframe thead th {\n",
              "        text-align: right;\n",
              "    }\n",
              "</style>\n",
              "<table border=\"1\" class=\"dataframe\">\n",
              "  <thead>\n",
              "    <tr style=\"text-align: right;\">\n",
              "      <th></th>\n",
              "      <th>model</th>\n",
              "      <th>acc</th>\n",
              "      <th>precision</th>\n",
              "      <th>recall</th>\n",
              "      <th>f1</th>\n",
              "    </tr>\n",
              "  </thead>\n",
              "  <tbody>\n",
              "    <tr>\n",
              "      <th>0</th>\n",
              "      <td>logistic regression</td>\n",
              "      <td>0.981002</td>\n",
              "      <td>0.915808</td>\n",
              "      <td>0.807576</td>\n",
              "      <td>0.858293</td>\n",
              "    </tr>\n",
              "    <tr>\n",
              "      <th>1</th>\n",
              "      <td>decision tree</td>\n",
              "      <td>0.981973</td>\n",
              "      <td>0.939863</td>\n",
              "      <td>0.805596</td>\n",
              "      <td>0.867565</td>\n",
              "    </tr>\n",
              "    <tr>\n",
              "      <th>2</th>\n",
              "      <td>Random Forest</td>\n",
              "      <td>0.981973</td>\n",
              "      <td>0.939863</td>\n",
              "      <td>0.805596</td>\n",
              "      <td>0.867565</td>\n",
              "    </tr>\n",
              "    <tr>\n",
              "      <th>3</th>\n",
              "      <td>Support Vector Classifier</td>\n",
              "      <td>0.981973</td>\n",
              "      <td>0.939863</td>\n",
              "      <td>0.805596</td>\n",
              "      <td>0.867565</td>\n",
              "    </tr>\n",
              "    <tr>\n",
              "      <th>4</th>\n",
              "      <td>KNN</td>\n",
              "      <td>0.980678</td>\n",
              "      <td>0.910653</td>\n",
              "      <td>0.806697</td>\n",
              "      <td>0.855529</td>\n",
              "    </tr>\n",
              "  </tbody>\n",
              "</table>\n",
              "</div>\n",
              "      <button class=\"colab-df-convert\" onclick=\"convertToInteractive('df-c1969cb9-8ae5-47c7-8f26-824b89e7380f')\"\n",
              "              title=\"Convert this dataframe to an interactive table.\"\n",
              "              style=\"display:none;\">\n",
              "        \n",
              "  <svg xmlns=\"http://www.w3.org/2000/svg\" height=\"24px\"viewBox=\"0 0 24 24\"\n",
              "       width=\"24px\">\n",
              "    <path d=\"M0 0h24v24H0V0z\" fill=\"none\"/>\n",
              "    <path d=\"M18.56 5.44l.94 2.06.94-2.06 2.06-.94-2.06-.94-.94-2.06-.94 2.06-2.06.94zm-11 1L8.5 8.5l.94-2.06 2.06-.94-2.06-.94L8.5 2.5l-.94 2.06-2.06.94zm10 10l.94 2.06.94-2.06 2.06-.94-2.06-.94-.94-2.06-.94 2.06-2.06.94z\"/><path d=\"M17.41 7.96l-1.37-1.37c-.4-.4-.92-.59-1.43-.59-.52 0-1.04.2-1.43.59L10.3 9.45l-7.72 7.72c-.78.78-.78 2.05 0 2.83L4 21.41c.39.39.9.59 1.41.59.51 0 1.02-.2 1.41-.59l7.78-7.78 2.81-2.81c.8-.78.8-2.07 0-2.86zM5.41 20L4 18.59l7.72-7.72 1.47 1.35L5.41 20z\"/>\n",
              "  </svg>\n",
              "      </button>\n",
              "      \n",
              "  <style>\n",
              "    .colab-df-container {\n",
              "      display:flex;\n",
              "      flex-wrap:wrap;\n",
              "      gap: 12px;\n",
              "    }\n",
              "\n",
              "    .colab-df-convert {\n",
              "      background-color: #E8F0FE;\n",
              "      border: none;\n",
              "      border-radius: 50%;\n",
              "      cursor: pointer;\n",
              "      display: none;\n",
              "      fill: #1967D2;\n",
              "      height: 32px;\n",
              "      padding: 0 0 0 0;\n",
              "      width: 32px;\n",
              "    }\n",
              "\n",
              "    .colab-df-convert:hover {\n",
              "      background-color: #E2EBFA;\n",
              "      box-shadow: 0px 1px 2px rgba(60, 64, 67, 0.3), 0px 1px 3px 1px rgba(60, 64, 67, 0.15);\n",
              "      fill: #174EA6;\n",
              "    }\n",
              "\n",
              "    [theme=dark] .colab-df-convert {\n",
              "      background-color: #3B4455;\n",
              "      fill: #D2E3FC;\n",
              "    }\n",
              "\n",
              "    [theme=dark] .colab-df-convert:hover {\n",
              "      background-color: #434B5C;\n",
              "      box-shadow: 0px 1px 3px 1px rgba(0, 0, 0, 0.15);\n",
              "      filter: drop-shadow(0px 1px 2px rgba(0, 0, 0, 0.3));\n",
              "      fill: #FFFFFF;\n",
              "    }\n",
              "  </style>\n",
              "\n",
              "      <script>\n",
              "        const buttonEl =\n",
              "          document.querySelector('#df-c1969cb9-8ae5-47c7-8f26-824b89e7380f button.colab-df-convert');\n",
              "        buttonEl.style.display =\n",
              "          google.colab.kernel.accessAllowed ? 'block' : 'none';\n",
              "\n",
              "        async function convertToInteractive(key) {\n",
              "          const element = document.querySelector('#df-c1969cb9-8ae5-47c7-8f26-824b89e7380f');\n",
              "          const dataTable =\n",
              "            await google.colab.kernel.invokeFunction('convertToInteractive',\n",
              "                                                     [key], {});\n",
              "          if (!dataTable) return;\n",
              "\n",
              "          const docLinkHtml = 'Like what you see? Visit the ' +\n",
              "            '<a target=\"_blank\" href=https://colab.research.google.com/notebooks/data_table.ipynb>data table notebook</a>'\n",
              "            + ' to learn more about interactive tables.';\n",
              "          element.innerHTML = '';\n",
              "          dataTable['output_type'] = 'display_data';\n",
              "          await google.colab.output.renderOutput(dataTable, element);\n",
              "          const docLink = document.createElement('div');\n",
              "          docLink.innerHTML = docLinkHtml;\n",
              "          element.appendChild(docLink);\n",
              "        }\n",
              "      </script>\n",
              "    </div>\n",
              "  </div>\n",
              "  "
            ]
          },
          "metadata": {},
          "execution_count": 116
        }
      ]
    },
    {
      "cell_type": "markdown",
      "source": [
        "## Model Evaluation\n",
        "\n",
        "We can see that Decision Tree, Random Forest and SVM have the best metrics:\n",
        "- Accuracy = 98.1973%\n",
        "- Precision Score = 93.9863%\n",
        "- Recall Score = 80.5596%\n",
        "- F1-Score = 86.7565%"
      ],
      "metadata": {
        "id": "23K3O8q1HoDN"
      }
    }
  ]
}